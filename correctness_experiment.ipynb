{
 "cells": [
  {
   "cell_type": "markdown",
   "metadata": {},
   "source": [
    "#  Description\n",
    "\n",
    "This experiment, as highlighted in the interim report, will randomly generate 500 linear problems and test my solver's solution against a public solver solution.\n",
    "The LPs at hand will have sizes: 5x5, 10x10, 15x15, 20x20, 25x25, having 100 problems from each category.\n",
    "\n"
   ]
  },
  {
   "cell_type": "markdown",
   "metadata": {},
   "source": [
    "# Generate the 500 random problems. "
   ]
  },
  {
   "cell_type": "code",
   "execution_count": 2,
   "metadata": {},
   "outputs": [],
   "source": [
    "from dense_lp_generator import DenseLPGenerator\n",
    "import random\n",
    "import os\n",
    "\n",
    "# IMPORTANT: Set random seed for reproducibility.\n",
    "random.seed(42)\n",
    "\n",
    "sizes = [(i, i) for i in range(5, 26, 5)]\n",
    "root_folder = './problems/problems_correctness'\n",
    "\n",
    "if not os.path.exists(root_folder):\n",
    "    os.mkdir(root_folder)\n",
    "\n",
    "# Consider a level of precision of 3 decimals.  \n",
    "lp_generator = DenseLPGenerator(3)"
   ]
  },
  {
   "cell_type": "markdown",
   "metadata": {},
   "source": [
    "## The next block of code will generate the problems, i.e. create the files. It will only be run once."
   ]
  },
  {
   "cell_type": "code",
   "execution_count": null,
   "metadata": {},
   "outputs": [],
   "source": [
    "# for (num_variables, num_constraints) in sizes:\n",
    "#     problems_folder = os.path.join(root_folder, f'{num_variables}x{num_constraints}')\n",
    "#     if not os.path.exists(problems_folder):\n",
    "#         os.mkdir(problems_folder)\n",
    "\n",
    "#     for i in range(100):\n",
    "#         lp_generator.generate_dense_lp(os.path.join(problems_folder, f'{i+1}.lp'), num_variables, num_constraints)\n",
    "      "
   ]
  },
  {
   "cell_type": "markdown",
   "metadata": {},
   "source": [
    "# Generate solutions with GLPK."
   ]
  },
  {
   "cell_type": "code",
   "execution_count": 1,
   "metadata": {},
   "outputs": [],
   "source": [
    "import subprocess\n",
    "import re\n",
    "import math\n",
    "\n",
    "def solve_lp_with_glpk(lp_filepath):\n",
    "    \"\"\"\n",
    "    Solves the given problem using GLPK and returns the status as well as the optimal solution (if there is one).\n",
    "    \"\"\"\n",
    "    command = [\"glpsol\", \"--lp\", lp_filepath]\n",
    "    result = subprocess.run(command, text=True, stdout=subprocess.PIPE)\n",
    "\n",
    "    # Check for specific messages in the output\n",
    "    output = result.stdout\n",
    "    if \"OPTIMAL LP SOLUTION FOUND\" in output:\n",
    "        # Extract the optimal objective value\n",
    "        matches = re.findall(r\"\\*\\s+\\d+:\\s+obj\\s+=\\s+([-\\d.e+]+)\", output)\n",
    "        if matches:\n",
    "            # Convert the last match to a float and return\n",
    "            optimal_value = float(matches[-1])\n",
    "            return {\"status\": \"Optimal\", \"value\": optimal_value}\n",
    "    elif \"LP HAS UNBOUNDED PRIMAL SOLUTION\" in output:\n",
    "        return {\"status\": \"Unbounded\", \"value\": math.inf}\n",
    "    elif \"PROBLEM HAS NO FEASIBLE SOLUTION\" in output:\n",
    "        return {\"status\": \"Infeasible\", \"value\": None}\n",
    "    \n",
    "    return {\"status\": \"Error\", \"value\": None}\n",
    "  \n"
   ]
  },
  {
   "cell_type": "code",
   "execution_count": 6,
   "metadata": {},
   "outputs": [],
   "source": [
    "glpk_results = {f'{i[0]}x{i[1]}': {} for i in sizes}\n",
    "for (num_variables, num_constraints) in sizes:\n",
    "    problems_folder = os.path.join(root_folder, f'{num_variables}x{num_constraints}') \n",
    "    for i in range(1, 101):\n",
    "        glpk_output = solve_lp_with_glpk(os.path.join(problems_folder, f'{i}.lp'))\n",
    "        glpk_results[f'{num_variables}x{num_constraints}'][f'{i}.lp'] = glpk_output"
   ]
  },
  {
   "cell_type": "code",
   "execution_count": 7,
   "metadata": {},
   "outputs": [],
   "source": [
    "import json\n",
    "with open(os.path.join(root_folder, 'glpk_results.json'), 'w') as f:\n",
    "    json.dump(glpk_results, f, indent=4)"
   ]
  },
  {
   "cell_type": "markdown",
   "metadata": {},
   "source": [
    "# Generate solutions with my own solver."
   ]
  },
  {
   "cell_type": "code",
   "execution_count": 3,
   "metadata": {},
   "outputs": [],
   "source": [
    "from simplex_solver import SimplexSolver\n",
    "from input_parser import LPParser\n",
    "\n",
    "my_solver = SimplexSolver(pivot_rule=\"Dantzig\")\n",
    "lp_parser = LPParser()"
   ]
  },
  {
   "cell_type": "code",
   "execution_count": 9,
   "metadata": {},
   "outputs": [],
   "source": [
    "my_solver_results = {f'{i[0]}x{i[1]}': {} for i in sizes}\n",
    "for (num_variables, num_constraints) in sizes:\n",
    "    problems_folder = os.path.join(root_folder, f'{num_variables}x{num_constraints}') \n",
    "    for i in range(1, 101):\n",
    "        lp_parser.parse_file(os.path.join(problems_folder, f'{i}.lp'))\n",
    "        my_solver_output = my_solver.solve(lp_parser)\n",
    "        my_solver_results[f'{num_variables}x{num_constraints}'][f'{i}.lp'] = my_solver_output"
   ]
  },
  {
   "cell_type": "code",
   "execution_count": 10,
   "metadata": {},
   "outputs": [],
   "source": [
    "import json\n",
    "with open(os.path.join(root_folder, 'my_solver_results.json'), 'w') as f:\n",
    "    json.dump(my_solver_results, f, indent=4)"
   ]
  },
  {
   "cell_type": "markdown",
   "metadata": {},
   "source": [
    "# Comparing both solvers' solutions."
   ]
  },
  {
   "cell_type": "code",
   "execution_count": 11,
   "metadata": {},
   "outputs": [],
   "source": [
    "with open(os.path.join(root_folder, 'my_solver_results.json'), 'r') as f:\n",
    "    my_solver_results = json.load(f)\n",
    "\n",
    "with open(os.path.join(root_folder, 'glpk_results.json'), 'r') as f:\n",
    "    glpk_results = json.load(f)"
   ]
  },
  {
   "cell_type": "code",
   "execution_count": 12,
   "metadata": {},
   "outputs": [],
   "source": [
    "for (num_variables, num_constraints) in sizes:\n",
    "    my_solver_temp = my_solver_results[f'{num_variables}x{num_constraints}']\n",
    "    glpk_temp = glpk_results[f'{num_variables}x{num_constraints}']\n",
    "\n",
    "    for i in range(1, 41):\n",
    "        my_solver_value = my_solver_temp[f'{i}.lp']['value']\n",
    "        glpk_value = glpk_temp[f'{i}.lp']['value']\n",
    "        if glpk_value is None:\n",
    "            continue\n",
    "        \n",
    "        assert round(my_solver_value, 4) == round(glpk_value, 4)\n"
   ]
  },
  {
   "cell_type": "markdown",
   "metadata": {},
   "source": [
    "# ALL ASSERTIONS PASSED!! (APART FROM 16 PROBLEMS WHICH GLPK CANNOT SOLVE)"
   ]
  },
  {
   "cell_type": "markdown",
   "metadata": {},
   "source": [
    "### Now I want to test Steepest Edge rule, check if it's correct."
   ]
  },
  {
   "cell_type": "code",
   "execution_count": 5,
   "metadata": {},
   "outputs": [],
   "source": [
    "import json\n",
    "\n",
    "steepest_edge_solver = SimplexSolver(pivot_rule=\"SteepestEdge\")"
   ]
  },
  {
   "cell_type": "code",
   "execution_count": 6,
   "metadata": {},
   "outputs": [],
   "source": [
    "my_solver_results = {f'{i[0]}x{i[1]}': {} for i in sizes}\n",
    "for (num_variables, num_constraints) in sizes:\n",
    "    problems_folder = os.path.join(root_folder, f'{num_variables}x{num_constraints}') \n",
    "    for i in range(1, 101):\n",
    "        lp_parser.parse_file(os.path.join(problems_folder, f'{i}.lp'))\n",
    "        my_solver_output = steepest_edge_solver.solve(lp_parser)\n",
    "        my_solver_results[f'{num_variables}x{num_constraints}'][f'{i}.lp'] = my_solver_output"
   ]
  },
  {
   "cell_type": "code",
   "execution_count": 7,
   "metadata": {},
   "outputs": [],
   "source": [
    "with open(os.path.join(root_folder, 'steepest_edge_results.json'), 'w') as f:\n",
    "    json.dump(my_solver_results, f, indent=4)"
   ]
  },
  {
   "cell_type": "code",
   "execution_count": 11,
   "metadata": {},
   "outputs": [],
   "source": [
    "with open(os.path.join(root_folder, 'my_solver_results.json'), 'r') as f:\n",
    "    my_solver_results = json.load(f)\n",
    "\n",
    "with open(os.path.join(root_folder, 'steepest_edge_results.json'), 'r') as f:\n",
    "    steepest_edge_results = json.load(f)"
   ]
  },
  {
   "cell_type": "code",
   "execution_count": null,
   "metadata": {},
   "outputs": [],
   "source": [
    "for (num_variables, num_constraints) in sizes:\n",
    "    my_solver_temp = my_solver_results[f'{num_variables}x{num_constraints}']\n",
    "    steepest_temp = steepest_edge_results[f'{num_variables}x{num_constraints}']\n",
    "\n",
    "    for i in range(1, 41):\n",
    "        my_solver_value = my_solver_temp[f'{i}.lp']['value']\n",
    "        steepest_value = steepest_temp[f'{i}.lp']['value']\n",
    "        if steepest_value is None:\n",
    "            continue\n",
    "        \n",
    "        assert round(my_solver_value, 4) == round(steepest_value, 4)\n",
    "\n",
    "print(\"Steepest Edge Works As Intended\")\n"
   ]
  }
 ],
 "metadata": {
  "kernelspec": {
   "display_name": "Python 3",
   "language": "python",
   "name": "python3"
  },
  "language_info": {
   "codemirror_mode": {
    "name": "ipython",
    "version": 3
   },
   "file_extension": ".py",
   "mimetype": "text/x-python",
   "name": "python",
   "nbconvert_exporter": "python",
   "pygments_lexer": "ipython3",
   "version": "3.11.9"
  }
 },
 "nbformat": 4,
 "nbformat_minor": 2
}
