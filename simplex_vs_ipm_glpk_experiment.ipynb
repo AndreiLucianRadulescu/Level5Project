{
 "cells": [
  {
   "cell_type": "markdown",
   "metadata": {},
   "source": [
    "## Imports"
   ]
  },
  {
   "cell_type": "code",
   "execution_count": 1,
   "metadata": {},
   "outputs": [],
   "source": [
    "import json\n",
    "import os\n",
    "from sparse_lp_generator import SparseLPGenerator\n",
    "from dense_lp_generator import DenseLPGenerator\n",
    "from tqdm import tqdm\n",
    "from glpk_utils import process_problem_set"
   ]
  },
  {
   "cell_type": "markdown",
   "metadata": {},
   "source": [
    "## Create problems for density of 0.25 (25%)."
   ]
  },
  {
   "cell_type": "code",
   "execution_count": 2,
   "metadata": {},
   "outputs": [],
   "source": [
    "sparse_lp_gen_25 = SparseLPGenerator(precision=4, allow_negative_rhs=False, density=0.25)\n",
    "\n",
    "root_folder = os.path.join('./problems', 'simplex_vs_ipm_glpk_sparse')\n",
    "\n",
    "low_density_folder = os.path.join(root_folder, \"0.25_density\")\n",
    "balanced_sizes = [(i, i) for i in range(50, 1501, 50)]\n",
    "wide_sizes = [(i, 2*i) for i in range(50, 751, 50)]\n",
    "tall_sizes = [(2*i, i) for i in range(50, 751, 50)]"
   ]
  },
  {
   "cell_type": "code",
   "execution_count": null,
   "metadata": {},
   "outputs": [],
   "source": [
    "# if not os.path.exists(root_folder):\n",
    "#     os.mkdir(root_folder)\n",
    "\n",
    "# if not os.path.exists(low_density_folder):\n",
    "#     os.mkdir(low_density_folder)"
   ]
  },
  {
   "cell_type": "code",
   "execution_count": null,
   "metadata": {},
   "outputs": [],
   "source": [
    "# for (num_variables, num_constraints) in sizes:\n",
    "#     sizes_folder = os.path.join(low_density_folder, f\"{num_variables}x{num_constraints}\")\n",
    "\n",
    "#     if not os.path.exists(sizes_folder):\n",
    "#         os.mkdir(sizes_folder)"
   ]
  },
  {
   "cell_type": "code",
   "execution_count": null,
   "metadata": {},
   "outputs": [],
   "source": [
    "# for (num_variables, num_constraints) in sizes:\n",
    "#     sizes_folder = os.path.join(low_density_folder, f\"{num_variables}x{num_constraints}\")\n",
    "#     print(f\"Currently generating for size {num_variables}x{num_constraints}...\")\n",
    "\n",
    "#     for i in tqdm(range(1, 251, 1)):\n",
    "#         sparse_lp_gen_25.generate_sparse_lp(os.path.join(sizes_folder, f\"{i}.lp\"), num_variables, num_constraints)\n",
    "    \n",
    "#     print(f\"Done with size {num_variables}x{num_constraints}.\")"
   ]
  },
  {
   "cell_type": "markdown",
   "metadata": {},
   "source": [
    "## Create problems for 0.5 (50%) density"
   ]
  },
  {
   "cell_type": "code",
   "execution_count": 3,
   "metadata": {},
   "outputs": [],
   "source": [
    "sparse_lp_gen_50 = SparseLPGenerator(precision=4, allow_negative_rhs=False, density=0.50)\n",
    "\n",
    "root_folder = os.path.join('./problems', 'simplex_vs_ipm_glpk_sparse')\n",
    "\n",
    "mid_density_folder = os.path.join(root_folder, \"0.50_density\")"
   ]
  },
  {
   "cell_type": "code",
   "execution_count": null,
   "metadata": {},
   "outputs": [],
   "source": [
    "# if not os.path.exists(mid_density_folder):\n",
    "#     os.mkdir(mid_density_folder)"
   ]
  },
  {
   "cell_type": "code",
   "execution_count": null,
   "metadata": {},
   "outputs": [],
   "source": [
    "# for (num_variables, num_constraints) in sizes:\n",
    "#     sizes_folder = os.path.join(mid_density_folder, f\"{num_variables}x{num_constraints}\")\n",
    "\n",
    "#     if not os.path.exists(sizes_folder):\n",
    "#         os.mkdir(sizes_folder)"
   ]
  },
  {
   "cell_type": "code",
   "execution_count": null,
   "metadata": {},
   "outputs": [],
   "source": [
    "# for (num_variables, num_constraints) in balanced_sizes:\n",
    "#     sizes_folder = os.path.join(mid_density_folder, f\"{num_variables}x{num_constraints}\")\n",
    "#     print(f\"Currently generating for size {num_variables}x{num_constraints}...\")\n",
    "\n",
    "#     for i in tqdm(range(1, 251, 1)):\n",
    "#         sparse_lp_gen_25.generate_sparse_lp(os.path.join(sizes_folder, f\"{i}.lp\"), num_variables, num_constraints)\n",
    "    \n",
    "#     print(f\"Done with size {num_variables}x{num_constraints}.\")"
   ]
  },
  {
   "cell_type": "markdown",
   "metadata": {},
   "source": [
    "## Now solving for density 0.25."
   ]
  },
  {
   "cell_type": "code",
   "execution_count": 16,
   "metadata": {},
   "outputs": [
    {
     "name": "stdout",
     "output_type": "stream",
     "text": [
      "Currently solving for size 1500x1500...\n"
     ]
    },
    {
     "name": "stderr",
     "output_type": "stream",
     "text": [
      "100%|██████████| 250/250 [2:05:36<00:00, 30.15s/it]  "
     ]
    },
    {
     "name": "stdout",
     "output_type": "stream",
     "text": [
      "Results saved in ./problems\\simplex_vs_ipm_glpk_sparse\\0.25_density\\1500x1500\\results.json\n"
     ]
    },
    {
     "name": "stderr",
     "output_type": "stream",
     "text": [
      "\n"
     ]
    }
   ],
   "source": [
    "for (num_variables, num_constraints) in balanced_sizes:\n",
    "    if num_variables < 1500:\n",
    "        continue\n",
    "    \n",
    "    size_folder = os.path.join(low_density_folder, f\"{num_variables}x{num_constraints}\")\n",
    "    \n",
    "    print(f\"Currently solving for size {num_variables}x{num_constraints}...\")\n",
    "    process_problem_set(size_folder, os.path.join(size_folder, 'results.json'))\n",
    "    print(f\"Results saved in {str(os.path.join(size_folder, 'results.json'))}\")"
   ]
  },
  {
   "cell_type": "markdown",
   "metadata": {},
   "source": [
    "## Now solving for density 0.5."
   ]
  },
  {
   "cell_type": "code",
   "execution_count": null,
   "metadata": {},
   "outputs": [
    {
     "name": "stdout",
     "output_type": "stream",
     "text": [
      "Currently solving for size 1150x1150...\n"
     ]
    },
    {
     "name": "stderr",
     "output_type": "stream",
     "text": [
      "100%|██████████| 250/250 [43:01<00:00, 10.33s/it]\n"
     ]
    },
    {
     "name": "stdout",
     "output_type": "stream",
     "text": [
      "Results saved in ./problems\\simplex_vs_ipm_glpk_sparse\\0.50_density\\1150x1150\\results.json\n",
      "Currently solving for size 1200x1200...\n"
     ]
    },
    {
     "name": "stderr",
     "output_type": "stream",
     "text": [
      "100%|██████████| 250/250 [53:03<00:00, 12.74s/it]\n"
     ]
    },
    {
     "name": "stdout",
     "output_type": "stream",
     "text": [
      "Results saved in ./problems\\simplex_vs_ipm_glpk_sparse\\0.50_density\\1200x1200\\results.json\n",
      "Currently solving for size 1250x1250...\n"
     ]
    },
    {
     "name": "stderr",
     "output_type": "stream",
     "text": [
      "100%|██████████| 250/250 [1:11:31<00:00, 17.17s/it]\n"
     ]
    },
    {
     "name": "stdout",
     "output_type": "stream",
     "text": [
      "Results saved in ./problems\\simplex_vs_ipm_glpk_sparse\\0.50_density\\1250x1250\\results.json\n",
      "Currently solving for size 1300x1300...\n"
     ]
    },
    {
     "name": "stderr",
     "output_type": "stream",
     "text": [
      "  5%|▌         | 13/250 [04:43<1:23:03, 21.03s/it]"
     ]
    }
   ],
   "source": [
    "for (num_variables, num_constraints) in balanced_sizes:\n",
    "\n",
    "    if num_variables < 1150:\n",
    "        continue\n",
    "    \n",
    "    size_folder = os.path.join(mid_density_folder, f\"{num_variables}x{num_constraints}\")\n",
    "    \n",
    "    print(f\"Currently solving for size {num_variables}x{num_constraints}...\")\n",
    "    process_problem_set(size_folder, os.path.join(size_folder, 'results.json'))\n",
    "    print(f\"Results saved in {str(os.path.join(size_folder, 'results.json'))}\")"
   ]
  },
  {
   "cell_type": "markdown",
   "metadata": {},
   "source": [
    "## Creating problems for one phase only."
   ]
  },
  {
   "cell_type": "code",
   "execution_count": 4,
   "metadata": {},
   "outputs": [],
   "source": [
    "one_phase_base_folder = os.path.join('problems', 'simplex_vs_ipm_glpk_one_phase_only')\n",
    "\n",
    "if not os.path.exists(one_phase_base_folder):\n",
    "    os.mkdir(one_phase_base_folder)"
   ]
  },
  {
   "cell_type": "code",
   "execution_count": 5,
   "metadata": {},
   "outputs": [],
   "source": [
    "balanced_one_phase_folder = os.path.join(one_phase_base_folder, \"balanced_problems\")\n",
    "tall_one_phase_folder = os.path.join(one_phase_base_folder, \"tall_problems\")\n",
    "wide_one_phase_folder = os.path.join(one_phase_base_folder, \"wide_problems\")\n",
    "\n",
    "if not os.path.exists(balanced_one_phase_folder):\n",
    "    os.mkdir(balanced_one_phase_folder)\n",
    "\n",
    "if not os.path.exists(tall_one_phase_folder):\n",
    "    os.mkdir(tall_one_phase_folder)\n",
    "\n",
    "if not os.path.exists(wide_one_phase_folder):\n",
    "    os.mkdir(wide_one_phase_folder)"
   ]
  },
  {
   "cell_type": "code",
   "execution_count": 6,
   "metadata": {},
   "outputs": [],
   "source": [
    "for (num_variables, num_constraints) in balanced_sizes:\n",
    "    size_folder = os.path.join(balanced_one_phase_folder, f\"{num_variables}x{num_constraints}\")\n",
    "\n",
    "    if not os.path.exists(size_folder):\n",
    "        os.mkdir(size_folder)"
   ]
  },
  {
   "cell_type": "code",
   "execution_count": 7,
   "metadata": {},
   "outputs": [],
   "source": [
    "for (num_variables, num_constraints) in wide_sizes:\n",
    "    size_folder = os.path.join(wide_one_phase_folder, f\"{num_variables}x{num_constraints}\")\n",
    "\n",
    "    if not os.path.exists(size_folder):\n",
    "        os.mkdir(size_folder)"
   ]
  },
  {
   "cell_type": "code",
   "execution_count": 8,
   "metadata": {},
   "outputs": [],
   "source": [
    "for (num_variables, num_constraints) in tall_sizes:\n",
    "    size_folder = os.path.join(tall_one_phase_folder, f\"{num_variables}x{num_constraints}\")\n",
    "\n",
    "    if not os.path.exists(size_folder):\n",
    "        os.mkdir(size_folder)"
   ]
  },
  {
   "cell_type": "markdown",
   "metadata": {},
   "source": [
    "### All folders have been created. Now, create problems."
   ]
  },
  {
   "cell_type": "code",
   "execution_count": 6,
   "metadata": {},
   "outputs": [],
   "source": [
    "dense_lp_gen = DenseLPGenerator(precision=4, allow_negative_rhs=False)"
   ]
  },
  {
   "cell_type": "markdown",
   "metadata": {},
   "source": [
    "### Create balanced problems"
   ]
  },
  {
   "cell_type": "code",
   "execution_count": 11,
   "metadata": {},
   "outputs": [
    {
     "name": "stdout",
     "output_type": "stream",
     "text": [
      "Generating problems for size 50x50...\n"
     ]
    },
    {
     "name": "stderr",
     "output_type": "stream",
     "text": [
      "100%|██████████| 250/250 [00:01<00:00, 140.82it/s]\n"
     ]
    },
    {
     "name": "stdout",
     "output_type": "stream",
     "text": [
      "Done for size 50x50.\n",
      "Generating problems for size 100x100...\n"
     ]
    },
    {
     "name": "stderr",
     "output_type": "stream",
     "text": [
      "100%|██████████| 250/250 [00:06<00:00, 36.87it/s]\n"
     ]
    },
    {
     "name": "stdout",
     "output_type": "stream",
     "text": [
      "Done for size 100x100.\n",
      "Generating problems for size 150x150...\n"
     ]
    },
    {
     "name": "stderr",
     "output_type": "stream",
     "text": [
      "100%|██████████| 250/250 [00:16<00:00, 15.43it/s]\n"
     ]
    },
    {
     "name": "stdout",
     "output_type": "stream",
     "text": [
      "Done for size 150x150.\n",
      "Generating problems for size 200x200...\n"
     ]
    },
    {
     "name": "stderr",
     "output_type": "stream",
     "text": [
      "100%|██████████| 250/250 [00:26<00:00,  9.27it/s]\n"
     ]
    },
    {
     "name": "stdout",
     "output_type": "stream",
     "text": [
      "Done for size 200x200.\n",
      "Generating problems for size 250x250...\n"
     ]
    },
    {
     "name": "stderr",
     "output_type": "stream",
     "text": [
      "100%|██████████| 250/250 [00:39<00:00,  6.28it/s]\n"
     ]
    },
    {
     "name": "stdout",
     "output_type": "stream",
     "text": [
      "Done for size 250x250.\n",
      "Generating problems for size 300x300...\n"
     ]
    },
    {
     "name": "stderr",
     "output_type": "stream",
     "text": [
      "100%|██████████| 250/250 [01:01<00:00,  4.06it/s]\n"
     ]
    },
    {
     "name": "stdout",
     "output_type": "stream",
     "text": [
      "Done for size 300x300.\n",
      "Generating problems for size 350x350...\n"
     ]
    },
    {
     "name": "stderr",
     "output_type": "stream",
     "text": [
      "100%|██████████| 250/250 [01:21<00:00,  3.07it/s]\n"
     ]
    },
    {
     "name": "stdout",
     "output_type": "stream",
     "text": [
      "Done for size 350x350.\n",
      "Generating problems for size 400x400...\n"
     ]
    },
    {
     "name": "stderr",
     "output_type": "stream",
     "text": [
      "100%|██████████| 250/250 [01:44<00:00,  2.39it/s]\n"
     ]
    },
    {
     "name": "stdout",
     "output_type": "stream",
     "text": [
      "Done for size 400x400.\n",
      "Generating problems for size 450x450...\n"
     ]
    },
    {
     "name": "stderr",
     "output_type": "stream",
     "text": [
      "100%|██████████| 250/250 [02:07<00:00,  1.96it/s]\n"
     ]
    },
    {
     "name": "stdout",
     "output_type": "stream",
     "text": [
      "Done for size 450x450.\n",
      "Generating problems for size 500x500...\n"
     ]
    },
    {
     "name": "stderr",
     "output_type": "stream",
     "text": [
      "100%|██████████| 250/250 [02:38<00:00,  1.58it/s]\n"
     ]
    },
    {
     "name": "stdout",
     "output_type": "stream",
     "text": [
      "Done for size 500x500.\n",
      "Generating problems for size 550x550...\n"
     ]
    },
    {
     "name": "stderr",
     "output_type": "stream",
     "text": [
      "100%|██████████| 250/250 [03:13<00:00,  1.29it/s]\n"
     ]
    },
    {
     "name": "stdout",
     "output_type": "stream",
     "text": [
      "Done for size 550x550.\n",
      "Generating problems for size 600x600...\n"
     ]
    },
    {
     "name": "stderr",
     "output_type": "stream",
     "text": [
      "100%|██████████| 250/250 [04:06<00:00,  1.02it/s]\n"
     ]
    },
    {
     "name": "stdout",
     "output_type": "stream",
     "text": [
      "Done for size 600x600.\n",
      "Generating problems for size 650x650...\n"
     ]
    },
    {
     "name": "stderr",
     "output_type": "stream",
     "text": [
      "100%|██████████| 250/250 [04:30<00:00,  1.08s/it]\n"
     ]
    },
    {
     "name": "stdout",
     "output_type": "stream",
     "text": [
      "Done for size 650x650.\n",
      "Generating problems for size 700x700...\n"
     ]
    },
    {
     "name": "stderr",
     "output_type": "stream",
     "text": [
      "100%|██████████| 250/250 [05:06<00:00,  1.22s/it]\n"
     ]
    },
    {
     "name": "stdout",
     "output_type": "stream",
     "text": [
      "Done for size 700x700.\n",
      "Generating problems for size 750x750...\n"
     ]
    },
    {
     "name": "stderr",
     "output_type": "stream",
     "text": [
      "100%|██████████| 250/250 [05:49<00:00,  1.40s/it]\n"
     ]
    },
    {
     "name": "stdout",
     "output_type": "stream",
     "text": [
      "Done for size 750x750.\n",
      "Generating problems for size 800x800...\n"
     ]
    },
    {
     "name": "stderr",
     "output_type": "stream",
     "text": [
      "100%|██████████| 250/250 [06:37<00:00,  1.59s/it]\n"
     ]
    },
    {
     "name": "stdout",
     "output_type": "stream",
     "text": [
      "Done for size 800x800.\n",
      "Generating problems for size 850x850...\n"
     ]
    },
    {
     "name": "stderr",
     "output_type": "stream",
     "text": [
      "100%|██████████| 250/250 [07:42<00:00,  1.85s/it]\n"
     ]
    },
    {
     "name": "stdout",
     "output_type": "stream",
     "text": [
      "Done for size 850x850.\n",
      "Generating problems for size 900x900...\n"
     ]
    },
    {
     "name": "stderr",
     "output_type": "stream",
     "text": [
      "100%|██████████| 250/250 [08:40<00:00,  2.08s/it]\n"
     ]
    },
    {
     "name": "stdout",
     "output_type": "stream",
     "text": [
      "Done for size 900x900.\n",
      "Generating problems for size 950x950...\n"
     ]
    },
    {
     "name": "stderr",
     "output_type": "stream",
     "text": [
      "100%|██████████| 250/250 [09:25<00:00,  2.26s/it]\n"
     ]
    },
    {
     "name": "stdout",
     "output_type": "stream",
     "text": [
      "Done for size 950x950.\n",
      "Generating problems for size 1000x1000...\n"
     ]
    },
    {
     "name": "stderr",
     "output_type": "stream",
     "text": [
      "100%|██████████| 250/250 [10:20<00:00,  2.48s/it]\n"
     ]
    },
    {
     "name": "stdout",
     "output_type": "stream",
     "text": [
      "Done for size 1000x1000.\n",
      "Generating problems for size 1050x1050...\n"
     ]
    },
    {
     "name": "stderr",
     "output_type": "stream",
     "text": [
      "100%|██████████| 250/250 [11:33<00:00,  2.77s/it]\n"
     ]
    },
    {
     "name": "stdout",
     "output_type": "stream",
     "text": [
      "Done for size 1050x1050.\n",
      "Generating problems for size 1100x1100...\n"
     ]
    },
    {
     "name": "stderr",
     "output_type": "stream",
     "text": [
      "100%|██████████| 250/250 [13:44<00:00,  3.30s/it]\n"
     ]
    },
    {
     "name": "stdout",
     "output_type": "stream",
     "text": [
      "Done for size 1100x1100.\n",
      "Generating problems for size 1150x1150...\n"
     ]
    },
    {
     "name": "stderr",
     "output_type": "stream",
     "text": [
      "100%|██████████| 250/250 [14:44<00:00,  3.54s/it]\n"
     ]
    },
    {
     "name": "stdout",
     "output_type": "stream",
     "text": [
      "Done for size 1150x1150.\n",
      "Generating problems for size 1200x1200...\n"
     ]
    },
    {
     "name": "stderr",
     "output_type": "stream",
     "text": [
      "100%|██████████| 250/250 [16:32<00:00,  3.97s/it]\n"
     ]
    },
    {
     "name": "stdout",
     "output_type": "stream",
     "text": [
      "Done for size 1200x1200.\n",
      "Generating problems for size 1250x1250...\n"
     ]
    },
    {
     "name": "stderr",
     "output_type": "stream",
     "text": [
      "100%|██████████| 250/250 [19:01<00:00,  4.57s/it]\n"
     ]
    },
    {
     "name": "stdout",
     "output_type": "stream",
     "text": [
      "Done for size 1250x1250.\n",
      "Generating problems for size 1300x1300...\n"
     ]
    },
    {
     "name": "stderr",
     "output_type": "stream",
     "text": [
      "100%|██████████| 250/250 [18:17<00:00,  4.39s/it]\n"
     ]
    },
    {
     "name": "stdout",
     "output_type": "stream",
     "text": [
      "Done for size 1300x1300.\n",
      "Generating problems for size 1350x1350...\n"
     ]
    },
    {
     "name": "stderr",
     "output_type": "stream",
     "text": [
      "100%|██████████| 250/250 [19:30<00:00,  4.68s/it]\n"
     ]
    },
    {
     "name": "stdout",
     "output_type": "stream",
     "text": [
      "Done for size 1350x1350.\n",
      "Generating problems for size 1400x1400...\n"
     ]
    },
    {
     "name": "stderr",
     "output_type": "stream",
     "text": [
      "100%|██████████| 250/250 [20:58<00:00,  5.03s/it]\n"
     ]
    },
    {
     "name": "stdout",
     "output_type": "stream",
     "text": [
      "Done for size 1400x1400.\n",
      "Generating problems for size 1450x1450...\n"
     ]
    },
    {
     "name": "stderr",
     "output_type": "stream",
     "text": [
      "100%|██████████| 250/250 [22:31<00:00,  5.41s/it]\n"
     ]
    },
    {
     "name": "stdout",
     "output_type": "stream",
     "text": [
      "Done for size 1450x1450.\n",
      "Generating problems for size 1500x1500...\n"
     ]
    },
    {
     "name": "stderr",
     "output_type": "stream",
     "text": [
      "100%|██████████| 250/250 [24:05<00:00,  5.78s/it]"
     ]
    },
    {
     "name": "stdout",
     "output_type": "stream",
     "text": [
      "Done for size 1500x1500.\n"
     ]
    },
    {
     "name": "stderr",
     "output_type": "stream",
     "text": [
      "\n"
     ]
    }
   ],
   "source": [
    "for (num_variables, num_constraints) in balanced_sizes:\n",
    "    size_folder = os.path.join(balanced_one_phase_folder, f\"{num_variables}x{num_constraints}\")\n",
    "\n",
    "    print(f\"Generating problems for size {num_variables}x{num_constraints}...\")\n",
    "    for i in tqdm(range(1, 251, 1)):\n",
    "        dense_lp_gen.generate_dense_lp(os.path.join(size_folder, f\"{i}.lp\"), num_variables, num_constraints)\n",
    "    print(f\"Done for size {num_variables}x{num_constraints}.\")"
   ]
  },
  {
   "cell_type": "markdown",
   "metadata": {},
   "source": [
    "### Create wide problems"
   ]
  },
  {
   "cell_type": "code",
   "execution_count": 12,
   "metadata": {},
   "outputs": [
    {
     "name": "stdout",
     "output_type": "stream",
     "text": [
      "Generating problems for size 50x100...\n"
     ]
    },
    {
     "name": "stderr",
     "output_type": "stream",
     "text": [
      "100%|██████████| 250/250 [00:03<00:00, 67.34it/s]\n"
     ]
    },
    {
     "name": "stdout",
     "output_type": "stream",
     "text": [
      "Done for size 50x100.\n",
      "Generating problems for size 100x200...\n"
     ]
    },
    {
     "name": "stderr",
     "output_type": "stream",
     "text": [
      "100%|██████████| 250/250 [00:14<00:00, 17.76it/s]\n"
     ]
    },
    {
     "name": "stdout",
     "output_type": "stream",
     "text": [
      "Done for size 100x200.\n",
      "Generating problems for size 150x300...\n"
     ]
    },
    {
     "name": "stderr",
     "output_type": "stream",
     "text": [
      "100%|██████████| 250/250 [00:29<00:00,  8.36it/s]\n"
     ]
    },
    {
     "name": "stdout",
     "output_type": "stream",
     "text": [
      "Done for size 150x300.\n",
      "Generating problems for size 200x400...\n"
     ]
    },
    {
     "name": "stderr",
     "output_type": "stream",
     "text": [
      "100%|██████████| 250/250 [00:50<00:00,  4.94it/s]\n"
     ]
    },
    {
     "name": "stdout",
     "output_type": "stream",
     "text": [
      "Done for size 200x400.\n",
      "Generating problems for size 250x500...\n"
     ]
    },
    {
     "name": "stderr",
     "output_type": "stream",
     "text": [
      "100%|██████████| 250/250 [01:18<00:00,  3.19it/s]\n"
     ]
    },
    {
     "name": "stdout",
     "output_type": "stream",
     "text": [
      "Done for size 250x500.\n",
      "Generating problems for size 300x600...\n"
     ]
    },
    {
     "name": "stderr",
     "output_type": "stream",
     "text": [
      "100%|██████████| 250/250 [01:52<00:00,  2.22it/s]\n"
     ]
    },
    {
     "name": "stdout",
     "output_type": "stream",
     "text": [
      "Done for size 300x600.\n",
      "Generating problems for size 350x700...\n"
     ]
    },
    {
     "name": "stderr",
     "output_type": "stream",
     "text": [
      "100%|██████████| 250/250 [02:32<00:00,  1.64it/s]\n"
     ]
    },
    {
     "name": "stdout",
     "output_type": "stream",
     "text": [
      "Done for size 350x700.\n",
      "Generating problems for size 400x800...\n"
     ]
    },
    {
     "name": "stderr",
     "output_type": "stream",
     "text": [
      "100%|██████████| 250/250 [03:19<00:00,  1.25it/s]\n"
     ]
    },
    {
     "name": "stdout",
     "output_type": "stream",
     "text": [
      "Done for size 400x800.\n",
      "Generating problems for size 450x900...\n"
     ]
    },
    {
     "name": "stderr",
     "output_type": "stream",
     "text": [
      "100%|██████████| 250/250 [04:12<00:00,  1.01s/it]\n"
     ]
    },
    {
     "name": "stdout",
     "output_type": "stream",
     "text": [
      "Done for size 450x900.\n",
      "Generating problems for size 500x1000...\n"
     ]
    },
    {
     "name": "stderr",
     "output_type": "stream",
     "text": [
      "100%|██████████| 250/250 [05:10<00:00,  1.24s/it]\n"
     ]
    },
    {
     "name": "stdout",
     "output_type": "stream",
     "text": [
      "Done for size 500x1000.\n",
      "Generating problems for size 550x1100...\n"
     ]
    },
    {
     "name": "stderr",
     "output_type": "stream",
     "text": [
      "100%|██████████| 250/250 [06:15<00:00,  1.50s/it]\n"
     ]
    },
    {
     "name": "stdout",
     "output_type": "stream",
     "text": [
      "Done for size 550x1100.\n",
      "Generating problems for size 600x1200...\n"
     ]
    },
    {
     "name": "stderr",
     "output_type": "stream",
     "text": [
      "100%|██████████| 250/250 [07:27<00:00,  1.79s/it]\n"
     ]
    },
    {
     "name": "stdout",
     "output_type": "stream",
     "text": [
      "Done for size 600x1200.\n",
      "Generating problems for size 650x1300...\n"
     ]
    },
    {
     "name": "stderr",
     "output_type": "stream",
     "text": [
      "100%|██████████| 250/250 [08:44<00:00,  2.10s/it]\n"
     ]
    },
    {
     "name": "stdout",
     "output_type": "stream",
     "text": [
      "Done for size 650x1300.\n",
      "Generating problems for size 700x1400...\n"
     ]
    },
    {
     "name": "stderr",
     "output_type": "stream",
     "text": [
      "100%|██████████| 250/250 [10:08<00:00,  2.43s/it]\n"
     ]
    },
    {
     "name": "stdout",
     "output_type": "stream",
     "text": [
      "Done for size 700x1400.\n",
      "Generating problems for size 750x1500...\n"
     ]
    },
    {
     "name": "stderr",
     "output_type": "stream",
     "text": [
      "100%|██████████| 250/250 [12:00<00:00,  2.88s/it]"
     ]
    },
    {
     "name": "stdout",
     "output_type": "stream",
     "text": [
      "Done for size 750x1500.\n"
     ]
    },
    {
     "name": "stderr",
     "output_type": "stream",
     "text": [
      "\n"
     ]
    }
   ],
   "source": [
    "for (num_variables, num_constraints) in wide_sizes:\n",
    "    size_folder = os.path.join(wide_one_phase_folder, f\"{num_variables}x{num_constraints}\")\n",
    "\n",
    "    print(f\"Generating problems for size {num_variables}x{num_constraints}...\")\n",
    "    for i in tqdm(range(1, 251, 1)):\n",
    "        dense_lp_gen.generate_dense_lp(os.path.join(size_folder, f\"{i}.lp\"), num_variables, num_constraints)\n",
    "    print(f\"Done for size {num_variables}x{num_constraints}.\")"
   ]
  },
  {
   "cell_type": "markdown",
   "metadata": {},
   "source": [
    "### Create tall problems"
   ]
  },
  {
   "cell_type": "code",
   "execution_count": 13,
   "metadata": {},
   "outputs": [
    {
     "name": "stdout",
     "output_type": "stream",
     "text": [
      "Generating problems for size 100x50...\n"
     ]
    },
    {
     "name": "stderr",
     "output_type": "stream",
     "text": [
      "100%|██████████| 250/250 [00:03<00:00, 69.72it/s]\n"
     ]
    },
    {
     "name": "stdout",
     "output_type": "stream",
     "text": [
      "Done for size 100x50.\n",
      "Generating problems for size 200x100...\n"
     ]
    },
    {
     "name": "stderr",
     "output_type": "stream",
     "text": [
      "100%|██████████| 250/250 [00:13<00:00, 18.16it/s]\n"
     ]
    },
    {
     "name": "stdout",
     "output_type": "stream",
     "text": [
      "Done for size 200x100.\n",
      "Generating problems for size 300x150...\n"
     ]
    },
    {
     "name": "stderr",
     "output_type": "stream",
     "text": [
      "100%|██████████| 250/250 [00:29<00:00,  8.34it/s]\n"
     ]
    },
    {
     "name": "stdout",
     "output_type": "stream",
     "text": [
      "Done for size 300x150.\n",
      "Generating problems for size 400x200...\n"
     ]
    },
    {
     "name": "stderr",
     "output_type": "stream",
     "text": [
      "100%|██████████| 250/250 [00:52<00:00,  4.74it/s]\n"
     ]
    },
    {
     "name": "stdout",
     "output_type": "stream",
     "text": [
      "Done for size 400x200.\n",
      "Generating problems for size 500x250...\n"
     ]
    },
    {
     "name": "stderr",
     "output_type": "stream",
     "text": [
      "100%|██████████| 250/250 [01:21<00:00,  3.07it/s]\n"
     ]
    },
    {
     "name": "stdout",
     "output_type": "stream",
     "text": [
      "Done for size 500x250.\n",
      "Generating problems for size 600x300...\n"
     ]
    },
    {
     "name": "stderr",
     "output_type": "stream",
     "text": [
      "100%|██████████| 250/250 [01:56<00:00,  2.14it/s]\n"
     ]
    },
    {
     "name": "stdout",
     "output_type": "stream",
     "text": [
      "Done for size 600x300.\n",
      "Generating problems for size 700x350...\n"
     ]
    },
    {
     "name": "stderr",
     "output_type": "stream",
     "text": [
      "100%|██████████| 250/250 [02:38<00:00,  1.58it/s]\n"
     ]
    },
    {
     "name": "stdout",
     "output_type": "stream",
     "text": [
      "Done for size 700x350.\n",
      "Generating problems for size 800x400...\n"
     ]
    },
    {
     "name": "stderr",
     "output_type": "stream",
     "text": [
      "100%|██████████| 250/250 [03:26<00:00,  1.21it/s]\n"
     ]
    },
    {
     "name": "stdout",
     "output_type": "stream",
     "text": [
      "Done for size 800x400.\n",
      "Generating problems for size 900x450...\n"
     ]
    },
    {
     "name": "stderr",
     "output_type": "stream",
     "text": [
      "100%|██████████| 250/250 [04:22<00:00,  1.05s/it]\n"
     ]
    },
    {
     "name": "stdout",
     "output_type": "stream",
     "text": [
      "Done for size 900x450.\n",
      "Generating problems for size 1000x500...\n"
     ]
    },
    {
     "name": "stderr",
     "output_type": "stream",
     "text": [
      "100%|██████████| 250/250 [05:23<00:00,  1.29s/it]\n"
     ]
    },
    {
     "name": "stdout",
     "output_type": "stream",
     "text": [
      "Done for size 1000x500.\n",
      "Generating problems for size 1100x550...\n"
     ]
    },
    {
     "name": "stderr",
     "output_type": "stream",
     "text": [
      "100%|██████████| 250/250 [06:30<00:00,  1.56s/it]\n"
     ]
    },
    {
     "name": "stdout",
     "output_type": "stream",
     "text": [
      "Done for size 1100x550.\n",
      "Generating problems for size 1200x600...\n"
     ]
    },
    {
     "name": "stderr",
     "output_type": "stream",
     "text": [
      "100%|██████████| 250/250 [07:44<00:00,  1.86s/it]\n"
     ]
    },
    {
     "name": "stdout",
     "output_type": "stream",
     "text": [
      "Done for size 1200x600.\n",
      "Generating problems for size 1300x650...\n"
     ]
    },
    {
     "name": "stderr",
     "output_type": "stream",
     "text": [
      "100%|██████████| 250/250 [09:03<00:00,  2.17s/it]\n"
     ]
    },
    {
     "name": "stdout",
     "output_type": "stream",
     "text": [
      "Done for size 1300x650.\n",
      "Generating problems for size 1400x700...\n"
     ]
    },
    {
     "name": "stderr",
     "output_type": "stream",
     "text": [
      "100%|██████████| 250/250 [10:30<00:00,  2.52s/it]\n"
     ]
    },
    {
     "name": "stdout",
     "output_type": "stream",
     "text": [
      "Done for size 1400x700.\n",
      "Generating problems for size 1500x750...\n"
     ]
    },
    {
     "name": "stderr",
     "output_type": "stream",
     "text": [
      "100%|██████████| 250/250 [12:03<00:00,  2.89s/it]"
     ]
    },
    {
     "name": "stdout",
     "output_type": "stream",
     "text": [
      "Done for size 1500x750.\n"
     ]
    },
    {
     "name": "stderr",
     "output_type": "stream",
     "text": [
      "\n"
     ]
    }
   ],
   "source": [
    "for (num_variables, num_constraints) in tall_sizes:\n",
    "    size_folder = os.path.join(tall_one_phase_folder, f\"{num_variables}x{num_constraints}\")\n",
    "\n",
    "    print(f\"Generating problems for size {num_variables}x{num_constraints}...\")\n",
    "    for i in tqdm(range(1, 251, 1)):\n",
    "        dense_lp_gen.generate_dense_lp(os.path.join(size_folder, f\"{i}.lp\"), num_variables, num_constraints)\n",
    "    print(f\"Done for size {num_variables}x{num_constraints}.\")"
   ]
  },
  {
   "cell_type": "markdown",
   "metadata": {},
   "source": [
    "### Now solving balanced problems for one phase only."
   ]
  },
  {
   "cell_type": "code",
   "execution_count": null,
   "metadata": {},
   "outputs": [],
   "source": [
    "for (num_variables, num_constraints) in balanced_sizes:\n",
    "    size_folder = os.path.join(balanced_one_phase_folder, f\"{num_variables}x{num_constraints}\")\n",
    "    \n",
    "    print(f\"Currently solving for size {num_variables}x{num_constraints}...\")\n",
    "    process_problem_set(size_folder, os.path.join(size_folder, 'results.json'))\n",
    "    print(f\"Results saved in {str(os.path.join(size_folder, 'results.json'))}\")"
   ]
  },
  {
   "cell_type": "markdown",
   "metadata": {},
   "source": [
    "### Now solving wide problems for one phase only."
   ]
  },
  {
   "cell_type": "code",
   "execution_count": 12,
   "metadata": {},
   "outputs": [
    {
     "name": "stdout",
     "output_type": "stream",
     "text": [
      "Currently solving for size 50x100...\n"
     ]
    },
    {
     "name": "stderr",
     "output_type": "stream",
     "text": [
      "100%|██████████| 250/250 [00:07<00:00, 35.44it/s]\n"
     ]
    },
    {
     "name": "stdout",
     "output_type": "stream",
     "text": [
      "Results saved in problems\\simplex_vs_ipm_glpk_one_phase_only\\wide_problems\\50x100\\results.json\n",
      "Currently solving for size 100x200...\n"
     ]
    },
    {
     "name": "stderr",
     "output_type": "stream",
     "text": [
      "100%|██████████| 250/250 [00:17<00:00, 14.69it/s]\n"
     ]
    },
    {
     "name": "stdout",
     "output_type": "stream",
     "text": [
      "Results saved in problems\\simplex_vs_ipm_glpk_one_phase_only\\wide_problems\\100x200\\results.json\n",
      "Currently solving for size 150x300...\n"
     ]
    },
    {
     "name": "stderr",
     "output_type": "stream",
     "text": [
      "100%|██████████| 250/250 [00:38<00:00,  6.56it/s]\n"
     ]
    },
    {
     "name": "stdout",
     "output_type": "stream",
     "text": [
      "Results saved in problems\\simplex_vs_ipm_glpk_one_phase_only\\wide_problems\\150x300\\results.json\n",
      "Currently solving for size 200x400...\n"
     ]
    },
    {
     "name": "stderr",
     "output_type": "stream",
     "text": [
      "100%|██████████| 250/250 [01:18<00:00,  3.20it/s]\n"
     ]
    },
    {
     "name": "stdout",
     "output_type": "stream",
     "text": [
      "Results saved in problems\\simplex_vs_ipm_glpk_one_phase_only\\wide_problems\\200x400\\results.json\n",
      "Currently solving for size 250x500...\n"
     ]
    },
    {
     "name": "stderr",
     "output_type": "stream",
     "text": [
      "100%|██████████| 250/250 [02:20<00:00,  1.77it/s]\n"
     ]
    },
    {
     "name": "stdout",
     "output_type": "stream",
     "text": [
      "Results saved in problems\\simplex_vs_ipm_glpk_one_phase_only\\wide_problems\\250x500\\results.json\n",
      "Currently solving for size 300x600...\n"
     ]
    },
    {
     "name": "stderr",
     "output_type": "stream",
     "text": [
      "100%|██████████| 250/250 [04:06<00:00,  1.01it/s]\n"
     ]
    },
    {
     "name": "stdout",
     "output_type": "stream",
     "text": [
      "Results saved in problems\\simplex_vs_ipm_glpk_one_phase_only\\wide_problems\\300x600\\results.json\n",
      "Currently solving for size 350x700...\n"
     ]
    },
    {
     "name": "stderr",
     "output_type": "stream",
     "text": [
      "100%|██████████| 250/250 [06:26<00:00,  1.55s/it]\n"
     ]
    },
    {
     "name": "stdout",
     "output_type": "stream",
     "text": [
      "Results saved in problems\\simplex_vs_ipm_glpk_one_phase_only\\wide_problems\\350x700\\results.json\n",
      "Currently solving for size 400x800...\n"
     ]
    },
    {
     "name": "stderr",
     "output_type": "stream",
     "text": [
      "100%|██████████| 250/250 [09:27<00:00,  2.27s/it]\n"
     ]
    },
    {
     "name": "stdout",
     "output_type": "stream",
     "text": [
      "Results saved in problems\\simplex_vs_ipm_glpk_one_phase_only\\wide_problems\\400x800\\results.json\n",
      "Currently solving for size 450x900...\n"
     ]
    },
    {
     "name": "stderr",
     "output_type": "stream",
     "text": [
      "100%|██████████| 250/250 [13:22<00:00,  3.21s/it]\n"
     ]
    },
    {
     "name": "stdout",
     "output_type": "stream",
     "text": [
      "Results saved in problems\\simplex_vs_ipm_glpk_one_phase_only\\wide_problems\\450x900\\results.json\n",
      "Currently solving for size 500x1000...\n"
     ]
    },
    {
     "name": "stderr",
     "output_type": "stream",
     "text": [
      "100%|██████████| 250/250 [18:44<00:00,  4.50s/it]\n"
     ]
    },
    {
     "name": "stdout",
     "output_type": "stream",
     "text": [
      "Results saved in problems\\simplex_vs_ipm_glpk_one_phase_only\\wide_problems\\500x1000\\results.json\n",
      "Currently solving for size 550x1100...\n"
     ]
    },
    {
     "name": "stderr",
     "output_type": "stream",
     "text": [
      "100%|██████████| 250/250 [25:42<00:00,  6.17s/it]\n"
     ]
    },
    {
     "name": "stdout",
     "output_type": "stream",
     "text": [
      "Results saved in problems\\simplex_vs_ipm_glpk_one_phase_only\\wide_problems\\550x1100\\results.json\n",
      "Currently solving for size 600x1200...\n"
     ]
    },
    {
     "name": "stderr",
     "output_type": "stream",
     "text": [
      "100%|██████████| 250/250 [34:06<00:00,  8.19s/it]\n"
     ]
    },
    {
     "name": "stdout",
     "output_type": "stream",
     "text": [
      "Results saved in problems\\simplex_vs_ipm_glpk_one_phase_only\\wide_problems\\600x1200\\results.json\n",
      "Currently solving for size 650x1300...\n"
     ]
    },
    {
     "name": "stderr",
     "output_type": "stream",
     "text": [
      "100%|██████████| 250/250 [44:02<00:00, 10.57s/it]\n"
     ]
    },
    {
     "name": "stdout",
     "output_type": "stream",
     "text": [
      "Results saved in problems\\simplex_vs_ipm_glpk_one_phase_only\\wide_problems\\650x1300\\results.json\n",
      "Currently solving for size 700x1400...\n"
     ]
    },
    {
     "name": "stderr",
     "output_type": "stream",
     "text": [
      "100%|██████████| 250/250 [55:23<00:00, 13.29s/it]\n"
     ]
    },
    {
     "name": "stdout",
     "output_type": "stream",
     "text": [
      "Results saved in problems\\simplex_vs_ipm_glpk_one_phase_only\\wide_problems\\700x1400\\results.json\n",
      "Currently solving for size 750x1500...\n"
     ]
    },
    {
     "name": "stderr",
     "output_type": "stream",
     "text": [
      "100%|██████████| 250/250 [1:09:12<00:00, 16.61s/it]"
     ]
    },
    {
     "name": "stdout",
     "output_type": "stream",
     "text": [
      "Results saved in problems\\simplex_vs_ipm_glpk_one_phase_only\\wide_problems\\750x1500\\results.json\n"
     ]
    },
    {
     "name": "stderr",
     "output_type": "stream",
     "text": [
      "\n"
     ]
    }
   ],
   "source": [
    "for (num_variables, num_constraints) in wide_sizes:\n",
    "    size_folder = os.path.join(wide_one_phase_folder, f\"{num_variables}x{num_constraints}\")\n",
    "    \n",
    "    print(f\"Currently solving for size {num_variables}x{num_constraints}...\")\n",
    "    process_problem_set(size_folder, os.path.join(size_folder, 'results.json'))\n",
    "    print(f\"Results saved in {str(os.path.join(size_folder, 'results.json'))}\")"
   ]
  },
  {
   "cell_type": "markdown",
   "metadata": {},
   "source": [
    "### Now solving tall problems for one phase only."
   ]
  },
  {
   "cell_type": "code",
   "execution_count": 13,
   "metadata": {},
   "outputs": [
    {
     "name": "stdout",
     "output_type": "stream",
     "text": [
      "Currently solving for size 100x50...\n"
     ]
    },
    {
     "name": "stderr",
     "output_type": "stream",
     "text": [
      "100%|██████████| 250/250 [00:05<00:00, 44.64it/s]\n"
     ]
    },
    {
     "name": "stdout",
     "output_type": "stream",
     "text": [
      "Results saved in problems\\simplex_vs_ipm_glpk_one_phase_only\\tall_problems\\100x50\\results.json\n",
      "Currently solving for size 200x100...\n"
     ]
    },
    {
     "name": "stderr",
     "output_type": "stream",
     "text": [
      "100%|██████████| 250/250 [00:11<00:00, 21.78it/s]\n"
     ]
    },
    {
     "name": "stdout",
     "output_type": "stream",
     "text": [
      "Results saved in problems\\simplex_vs_ipm_glpk_one_phase_only\\tall_problems\\200x100\\results.json\n",
      "Currently solving for size 300x150...\n"
     ]
    },
    {
     "name": "stderr",
     "output_type": "stream",
     "text": [
      "100%|██████████| 250/250 [00:22<00:00, 11.21it/s]\n"
     ]
    },
    {
     "name": "stdout",
     "output_type": "stream",
     "text": [
      "Results saved in problems\\simplex_vs_ipm_glpk_one_phase_only\\tall_problems\\300x150\\results.json\n",
      "Currently solving for size 400x200...\n"
     ]
    },
    {
     "name": "stderr",
     "output_type": "stream",
     "text": [
      "100%|██████████| 250/250 [00:40<00:00,  6.21it/s]\n"
     ]
    },
    {
     "name": "stdout",
     "output_type": "stream",
     "text": [
      "Results saved in problems\\simplex_vs_ipm_glpk_one_phase_only\\tall_problems\\400x200\\results.json\n",
      "Currently solving for size 500x250...\n"
     ]
    },
    {
     "name": "stderr",
     "output_type": "stream",
     "text": [
      "100%|██████████| 250/250 [01:16<00:00,  3.27it/s]\n"
     ]
    },
    {
     "name": "stdout",
     "output_type": "stream",
     "text": [
      "Results saved in problems\\simplex_vs_ipm_glpk_one_phase_only\\tall_problems\\500x250\\results.json\n",
      "Currently solving for size 600x300...\n"
     ]
    },
    {
     "name": "stderr",
     "output_type": "stream",
     "text": [
      "100%|██████████| 250/250 [01:57<00:00,  2.13it/s]\n"
     ]
    },
    {
     "name": "stdout",
     "output_type": "stream",
     "text": [
      "Results saved in problems\\simplex_vs_ipm_glpk_one_phase_only\\tall_problems\\600x300\\results.json\n",
      "Currently solving for size 700x350...\n"
     ]
    },
    {
     "name": "stderr",
     "output_type": "stream",
     "text": [
      "100%|██████████| 250/250 [03:15<00:00,  1.28it/s]\n"
     ]
    },
    {
     "name": "stdout",
     "output_type": "stream",
     "text": [
      "Results saved in problems\\simplex_vs_ipm_glpk_one_phase_only\\tall_problems\\700x350\\results.json\n",
      "Currently solving for size 800x400...\n"
     ]
    },
    {
     "name": "stderr",
     "output_type": "stream",
     "text": [
      "100%|██████████| 250/250 [04:39<00:00,  1.12s/it]\n"
     ]
    },
    {
     "name": "stdout",
     "output_type": "stream",
     "text": [
      "Results saved in problems\\simplex_vs_ipm_glpk_one_phase_only\\tall_problems\\800x400\\results.json\n",
      "Currently solving for size 900x450...\n"
     ]
    },
    {
     "name": "stderr",
     "output_type": "stream",
     "text": [
      "100%|██████████| 250/250 [05:59<00:00,  1.44s/it]\n"
     ]
    },
    {
     "name": "stdout",
     "output_type": "stream",
     "text": [
      "Results saved in problems\\simplex_vs_ipm_glpk_one_phase_only\\tall_problems\\900x450\\results.json\n",
      "Currently solving for size 1000x500...\n"
     ]
    },
    {
     "name": "stderr",
     "output_type": "stream",
     "text": [
      "100%|██████████| 250/250 [08:27<00:00,  2.03s/it]\n"
     ]
    },
    {
     "name": "stdout",
     "output_type": "stream",
     "text": [
      "Results saved in problems\\simplex_vs_ipm_glpk_one_phase_only\\tall_problems\\1000x500\\results.json\n",
      "Currently solving for size 1100x550...\n"
     ]
    },
    {
     "name": "stderr",
     "output_type": "stream",
     "text": [
      "100%|██████████| 250/250 [11:15<00:00,  2.70s/it]\n"
     ]
    },
    {
     "name": "stdout",
     "output_type": "stream",
     "text": [
      "Results saved in problems\\simplex_vs_ipm_glpk_one_phase_only\\tall_problems\\1100x550\\results.json\n",
      "Currently solving for size 1200x600...\n"
     ]
    },
    {
     "name": "stderr",
     "output_type": "stream",
     "text": [
      "100%|██████████| 250/250 [14:50<00:00,  3.56s/it]\n"
     ]
    },
    {
     "name": "stdout",
     "output_type": "stream",
     "text": [
      "Results saved in problems\\simplex_vs_ipm_glpk_one_phase_only\\tall_problems\\1200x600\\results.json\n",
      "Currently solving for size 1300x650...\n"
     ]
    },
    {
     "name": "stderr",
     "output_type": "stream",
     "text": [
      "100%|██████████| 250/250 [18:51<00:00,  4.53s/it]\n"
     ]
    },
    {
     "name": "stdout",
     "output_type": "stream",
     "text": [
      "Results saved in problems\\simplex_vs_ipm_glpk_one_phase_only\\tall_problems\\1300x650\\results.json\n",
      "Currently solving for size 1400x700...\n"
     ]
    },
    {
     "name": "stderr",
     "output_type": "stream",
     "text": [
      "100%|██████████| 250/250 [23:23<00:00,  5.61s/it]\n"
     ]
    },
    {
     "name": "stdout",
     "output_type": "stream",
     "text": [
      "Results saved in problems\\simplex_vs_ipm_glpk_one_phase_only\\tall_problems\\1400x700\\results.json\n",
      "Currently solving for size 1500x750...\n"
     ]
    },
    {
     "name": "stderr",
     "output_type": "stream",
     "text": [
      "100%|██████████| 250/250 [28:50<00:00,  6.92s/it]"
     ]
    },
    {
     "name": "stdout",
     "output_type": "stream",
     "text": [
      "Results saved in problems\\simplex_vs_ipm_glpk_one_phase_only\\tall_problems\\1500x750\\results.json\n"
     ]
    },
    {
     "name": "stderr",
     "output_type": "stream",
     "text": [
      "\n"
     ]
    }
   ],
   "source": [
    "for (num_variables, num_constraints) in tall_sizes:\n",
    "    size_folder = os.path.join(tall_one_phase_folder, f\"{num_variables}x{num_constraints}\")\n",
    "    \n",
    "    print(f\"Currently solving for size {num_variables}x{num_constraints}...\")\n",
    "    process_problem_set(size_folder, os.path.join(size_folder, 'results.json'))\n",
    "    print(f\"Results saved in {str(os.path.join(size_folder, 'results.json'))}\")"
   ]
  },
  {
   "cell_type": "markdown",
   "metadata": {},
   "source": [
    "## Now onto two phases."
   ]
  },
  {
   "cell_type": "markdown",
   "metadata": {},
   "source": [
    "### Creating problems for two phases."
   ]
  },
  {
   "cell_type": "code",
   "execution_count": 7,
   "metadata": {},
   "outputs": [],
   "source": [
    "two_phases_base_folder = os.path.join('problems', 'simplex_vs_ipm_glpk_two_phases_only')\n",
    "\n",
    "if not os.path.exists(two_phases_base_folder):\n",
    "    os.mkdir(two_phases_base_folder)"
   ]
  },
  {
   "cell_type": "code",
   "execution_count": 8,
   "metadata": {},
   "outputs": [],
   "source": [
    "balanced_two_phases_folder = os.path.join(two_phases_base_folder, \"balanced_problems\")\n",
    "tall_two_phases_folder = os.path.join(two_phases_base_folder, \"tall_problems\")\n",
    "wide_two_phases_folder = os.path.join(two_phases_base_folder, \"wide_problems\")\n",
    "\n",
    "if not os.path.exists(balanced_two_phases_folder):\n",
    "    os.mkdir(balanced_two_phases_folder)\n",
    "\n",
    "if not os.path.exists(tall_two_phases_folder):\n",
    "    os.mkdir(tall_two_phases_folder)\n",
    "\n",
    "if not os.path.exists(wide_two_phases_folder):\n",
    "    os.mkdir(wide_two_phases_folder)"
   ]
  },
  {
   "cell_type": "code",
   "execution_count": 17,
   "metadata": {},
   "outputs": [],
   "source": [
    "for (num_variables, num_constraints) in balanced_sizes:\n",
    "    size_folder = os.path.join(balanced_two_phases_folder, f\"{num_variables}x{num_constraints}\")\n",
    "\n",
    "    if not os.path.exists(size_folder):\n",
    "        os.mkdir(size_folder)"
   ]
  },
  {
   "cell_type": "code",
   "execution_count": 18,
   "metadata": {},
   "outputs": [],
   "source": [
    "for (num_variables, num_constraints) in wide_sizes:\n",
    "    size_folder = os.path.join(wide_two_phases_folder, f\"{num_variables}x{num_constraints}\")\n",
    "\n",
    "    if not os.path.exists(size_folder):\n",
    "        os.mkdir(size_folder)"
   ]
  },
  {
   "cell_type": "code",
   "execution_count": 19,
   "metadata": {},
   "outputs": [],
   "source": [
    "for (num_variables, num_constraints) in tall_sizes:\n",
    "    size_folder = os.path.join(tall_two_phases_folder, f\"{num_variables}x{num_constraints}\")\n",
    "\n",
    "    if not os.path.exists(size_folder):\n",
    "        os.mkdir(size_folder)"
   ]
  },
  {
   "cell_type": "markdown",
   "metadata": {},
   "source": [
    "### All folders have been created, now create problems."
   ]
  },
  {
   "cell_type": "code",
   "execution_count": 9,
   "metadata": {},
   "outputs": [],
   "source": [
    "dense_lp_gen_two_phases = DenseLPGenerator(precision=4, allow_negative_rhs=True)"
   ]
  },
  {
   "cell_type": "markdown",
   "metadata": {},
   "source": [
    "### Create balanced problems."
   ]
  },
  {
   "cell_type": "code",
   "execution_count": 9,
   "metadata": {},
   "outputs": [
    {
     "name": "stdout",
     "output_type": "stream",
     "text": [
      "Generating problems for size 900x900...\n"
     ]
    },
    {
     "name": "stderr",
     "output_type": "stream",
     "text": [
      "100%|██████████| 250/250 [09:47<00:00,  2.35s/it]\n"
     ]
    },
    {
     "name": "stdout",
     "output_type": "stream",
     "text": [
      "Done for size 900x900.\n",
      "Generating problems for size 950x950...\n"
     ]
    },
    {
     "name": "stderr",
     "output_type": "stream",
     "text": [
      "100%|██████████| 250/250 [11:06<00:00,  2.66s/it]\n"
     ]
    },
    {
     "name": "stdout",
     "output_type": "stream",
     "text": [
      "Done for size 950x950.\n",
      "Generating problems for size 1000x1000...\n"
     ]
    },
    {
     "name": "stderr",
     "output_type": "stream",
     "text": [
      "100%|██████████| 250/250 [13:09<00:00,  3.16s/it]\n"
     ]
    },
    {
     "name": "stdout",
     "output_type": "stream",
     "text": [
      "Done for size 1000x1000.\n",
      "Generating problems for size 1050x1050...\n"
     ]
    },
    {
     "name": "stderr",
     "output_type": "stream",
     "text": [
      "100%|██████████| 250/250 [13:15<00:00,  3.18s/it]\n"
     ]
    },
    {
     "name": "stdout",
     "output_type": "stream",
     "text": [
      "Done for size 1050x1050.\n",
      "Generating problems for size 1100x1100...\n"
     ]
    },
    {
     "name": "stderr",
     "output_type": "stream",
     "text": [
      "100%|██████████| 250/250 [12:55<00:00,  3.10s/it]\n"
     ]
    },
    {
     "name": "stdout",
     "output_type": "stream",
     "text": [
      "Done for size 1100x1100.\n",
      "Generating problems for size 1150x1150...\n"
     ]
    },
    {
     "name": "stderr",
     "output_type": "stream",
     "text": [
      "100%|██████████| 250/250 [14:58<00:00,  3.59s/it]\n"
     ]
    },
    {
     "name": "stdout",
     "output_type": "stream",
     "text": [
      "Done for size 1150x1150.\n",
      "Generating problems for size 1200x1200...\n"
     ]
    },
    {
     "name": "stderr",
     "output_type": "stream",
     "text": [
      "100%|██████████| 250/250 [17:35<00:00,  4.22s/it]\n"
     ]
    },
    {
     "name": "stdout",
     "output_type": "stream",
     "text": [
      "Done for size 1200x1200.\n",
      "Generating problems for size 1250x1250...\n"
     ]
    },
    {
     "name": "stderr",
     "output_type": "stream",
     "text": [
      "100%|██████████| 250/250 [20:10<00:00,  4.84s/it]\n"
     ]
    },
    {
     "name": "stdout",
     "output_type": "stream",
     "text": [
      "Done for size 1250x1250.\n",
      "Generating problems for size 1300x1300...\n"
     ]
    },
    {
     "name": "stderr",
     "output_type": "stream",
     "text": [
      "100%|██████████| 250/250 [22:04<00:00,  5.30s/it]\n"
     ]
    },
    {
     "name": "stdout",
     "output_type": "stream",
     "text": [
      "Done for size 1300x1300.\n",
      "Generating problems for size 1350x1350...\n"
     ]
    },
    {
     "name": "stderr",
     "output_type": "stream",
     "text": [
      "100%|██████████| 250/250 [23:36<00:00,  5.67s/it]\n"
     ]
    },
    {
     "name": "stdout",
     "output_type": "stream",
     "text": [
      "Done for size 1350x1350.\n",
      "Generating problems for size 1400x1400...\n"
     ]
    },
    {
     "name": "stderr",
     "output_type": "stream",
     "text": [
      "100%|██████████| 250/250 [25:04<00:00,  6.02s/it]\n"
     ]
    },
    {
     "name": "stdout",
     "output_type": "stream",
     "text": [
      "Done for size 1400x1400.\n",
      "Generating problems for size 1450x1450...\n"
     ]
    },
    {
     "name": "stderr",
     "output_type": "stream",
     "text": [
      "100%|██████████| 250/250 [29:34<00:00,  7.10s/it]\n"
     ]
    },
    {
     "name": "stdout",
     "output_type": "stream",
     "text": [
      "Done for size 1450x1450.\n",
      "Generating problems for size 1500x1500...\n"
     ]
    },
    {
     "name": "stderr",
     "output_type": "stream",
     "text": [
      "100%|██████████| 250/250 [27:48<00:00,  6.67s/it]"
     ]
    },
    {
     "name": "stdout",
     "output_type": "stream",
     "text": [
      "Done for size 1500x1500.\n"
     ]
    },
    {
     "name": "stderr",
     "output_type": "stream",
     "text": [
      "\n"
     ]
    }
   ],
   "source": [
    "for (num_variables, num_constraints) in balanced_sizes:\n",
    "    size_folder = os.path.join(balanced_two_phases_folder, f\"{num_variables}x{num_constraints}\")\n",
    "\n",
    "    if num_variables < 900:\n",
    "        continue\n",
    "\n",
    "    print(f\"Generating problems for size {num_variables}x{num_constraints}...\")\n",
    "    for i in tqdm(range(1, 251, 1)):\n",
    "        dense_lp_gen_two_phases.generate_dense_lp(os.path.join(size_folder, f\"{i}.lp\"), num_variables, num_constraints)\n",
    "    print(f\"Done for size {num_variables}x{num_constraints}.\")"
   ]
  },
  {
   "cell_type": "markdown",
   "metadata": {},
   "source": [
    "### Create wide problems."
   ]
  },
  {
   "cell_type": "code",
   "execution_count": 10,
   "metadata": {},
   "outputs": [
    {
     "name": "stdout",
     "output_type": "stream",
     "text": [
      "Generating problems for size 50x100...\n"
     ]
    },
    {
     "name": "stderr",
     "output_type": "stream",
     "text": [
      "100%|██████████| 250/250 [00:04<00:00, 61.93it/s]\n"
     ]
    },
    {
     "name": "stdout",
     "output_type": "stream",
     "text": [
      "Done for size 50x100.\n",
      "Generating problems for size 100x200...\n"
     ]
    },
    {
     "name": "stderr",
     "output_type": "stream",
     "text": [
      "100%|██████████| 250/250 [00:15<00:00, 16.39it/s]\n"
     ]
    },
    {
     "name": "stdout",
     "output_type": "stream",
     "text": [
      "Done for size 100x200.\n",
      "Generating problems for size 150x300...\n"
     ]
    },
    {
     "name": "stderr",
     "output_type": "stream",
     "text": [
      "100%|██████████| 250/250 [00:33<00:00,  7.51it/s]\n"
     ]
    },
    {
     "name": "stdout",
     "output_type": "stream",
     "text": [
      "Done for size 150x300.\n",
      "Generating problems for size 200x400...\n"
     ]
    },
    {
     "name": "stderr",
     "output_type": "stream",
     "text": [
      "100%|██████████| 250/250 [00:57<00:00,  4.33it/s]\n"
     ]
    },
    {
     "name": "stdout",
     "output_type": "stream",
     "text": [
      "Done for size 200x400.\n",
      "Generating problems for size 250x500...\n"
     ]
    },
    {
     "name": "stderr",
     "output_type": "stream",
     "text": [
      "100%|██████████| 250/250 [01:29<00:00,  2.79it/s]\n"
     ]
    },
    {
     "name": "stdout",
     "output_type": "stream",
     "text": [
      "Done for size 250x500.\n",
      "Generating problems for size 300x600...\n"
     ]
    },
    {
     "name": "stderr",
     "output_type": "stream",
     "text": [
      "100%|██████████| 250/250 [02:09<00:00,  1.93it/s]\n"
     ]
    },
    {
     "name": "stdout",
     "output_type": "stream",
     "text": [
      "Done for size 300x600.\n",
      "Generating problems for size 350x700...\n"
     ]
    },
    {
     "name": "stderr",
     "output_type": "stream",
     "text": [
      "100%|██████████| 250/250 [02:55<00:00,  1.42it/s]\n"
     ]
    },
    {
     "name": "stdout",
     "output_type": "stream",
     "text": [
      "Done for size 350x700.\n",
      "Generating problems for size 400x800...\n"
     ]
    },
    {
     "name": "stderr",
     "output_type": "stream",
     "text": [
      "100%|██████████| 250/250 [03:50<00:00,  1.08it/s]\n"
     ]
    },
    {
     "name": "stdout",
     "output_type": "stream",
     "text": [
      "Done for size 400x800.\n",
      "Generating problems for size 450x900...\n"
     ]
    },
    {
     "name": "stderr",
     "output_type": "stream",
     "text": [
      "100%|██████████| 250/250 [04:49<00:00,  1.16s/it]\n"
     ]
    },
    {
     "name": "stdout",
     "output_type": "stream",
     "text": [
      "Done for size 450x900.\n",
      "Generating problems for size 500x1000...\n"
     ]
    },
    {
     "name": "stderr",
     "output_type": "stream",
     "text": [
      "100%|██████████| 250/250 [06:04<00:00,  1.46s/it]\n"
     ]
    },
    {
     "name": "stdout",
     "output_type": "stream",
     "text": [
      "Done for size 500x1000.\n",
      "Generating problems for size 550x1100...\n"
     ]
    },
    {
     "name": "stderr",
     "output_type": "stream",
     "text": [
      "100%|██████████| 250/250 [07:02<00:00,  1.69s/it]\n"
     ]
    },
    {
     "name": "stdout",
     "output_type": "stream",
     "text": [
      "Done for size 550x1100.\n",
      "Generating problems for size 600x1200...\n"
     ]
    },
    {
     "name": "stderr",
     "output_type": "stream",
     "text": [
      "100%|██████████| 250/250 [09:11<00:00,  2.21s/it]\n"
     ]
    },
    {
     "name": "stdout",
     "output_type": "stream",
     "text": [
      "Done for size 600x1200.\n",
      "Generating problems for size 650x1300...\n"
     ]
    },
    {
     "name": "stderr",
     "output_type": "stream",
     "text": [
      "100%|██████████| 250/250 [10:53<00:00,  2.61s/it]\n"
     ]
    },
    {
     "name": "stdout",
     "output_type": "stream",
     "text": [
      "Done for size 650x1300.\n",
      "Generating problems for size 700x1400...\n"
     ]
    },
    {
     "name": "stderr",
     "output_type": "stream",
     "text": [
      "100%|██████████| 250/250 [13:20<00:00,  3.20s/it]\n"
     ]
    },
    {
     "name": "stdout",
     "output_type": "stream",
     "text": [
      "Done for size 700x1400.\n",
      "Generating problems for size 750x1500...\n"
     ]
    },
    {
     "name": "stderr",
     "output_type": "stream",
     "text": [
      "100%|██████████| 250/250 [14:32<00:00,  3.49s/it]"
     ]
    },
    {
     "name": "stdout",
     "output_type": "stream",
     "text": [
      "Done for size 750x1500.\n"
     ]
    },
    {
     "name": "stderr",
     "output_type": "stream",
     "text": [
      "\n"
     ]
    }
   ],
   "source": [
    "for (num_variables, num_constraints) in wide_sizes:\n",
    "    size_folder = os.path.join(wide_two_phases_folder, f\"{num_variables}x{num_constraints}\")\n",
    "\n",
    "    print(f\"Generating problems for size {num_variables}x{num_constraints}...\")\n",
    "    for i in tqdm(range(1, 251, 1)):\n",
    "        dense_lp_gen_two_phases.generate_dense_lp(os.path.join(size_folder, f\"{i}.lp\"), num_variables, num_constraints)\n",
    "    print(f\"Done for size {num_variables}x{num_constraints}.\")"
   ]
  },
  {
   "cell_type": "markdown",
   "metadata": {},
   "source": [
    "### Create tall problems."
   ]
  },
  {
   "cell_type": "code",
   "execution_count": 11,
   "metadata": {},
   "outputs": [
    {
     "name": "stdout",
     "output_type": "stream",
     "text": [
      "Generating problems for size 100x50...\n"
     ]
    },
    {
     "name": "stderr",
     "output_type": "stream",
     "text": [
      "100%|██████████| 250/250 [00:04<00:00, 56.26it/s]\n"
     ]
    },
    {
     "name": "stdout",
     "output_type": "stream",
     "text": [
      "Done for size 100x50.\n",
      "Generating problems for size 200x100...\n"
     ]
    },
    {
     "name": "stderr",
     "output_type": "stream",
     "text": [
      "100%|██████████| 250/250 [00:16<00:00, 15.36it/s]\n"
     ]
    },
    {
     "name": "stdout",
     "output_type": "stream",
     "text": [
      "Done for size 200x100.\n",
      "Generating problems for size 300x150...\n"
     ]
    },
    {
     "name": "stderr",
     "output_type": "stream",
     "text": [
      "100%|██████████| 250/250 [00:37<00:00,  6.74it/s]\n"
     ]
    },
    {
     "name": "stdout",
     "output_type": "stream",
     "text": [
      "Done for size 300x150.\n",
      "Generating problems for size 400x200...\n"
     ]
    },
    {
     "name": "stderr",
     "output_type": "stream",
     "text": [
      "100%|██████████| 250/250 [01:03<00:00,  3.93it/s]\n"
     ]
    },
    {
     "name": "stdout",
     "output_type": "stream",
     "text": [
      "Done for size 400x200.\n",
      "Generating problems for size 500x250...\n"
     ]
    },
    {
     "name": "stderr",
     "output_type": "stream",
     "text": [
      "100%|██████████| 250/250 [01:38<00:00,  2.54it/s]\n"
     ]
    },
    {
     "name": "stdout",
     "output_type": "stream",
     "text": [
      "Done for size 500x250.\n",
      "Generating problems for size 600x300...\n"
     ]
    },
    {
     "name": "stderr",
     "output_type": "stream",
     "text": [
      "100%|██████████| 250/250 [02:20<00:00,  1.78it/s]\n"
     ]
    },
    {
     "name": "stdout",
     "output_type": "stream",
     "text": [
      "Done for size 600x300.\n",
      "Generating problems for size 700x350...\n"
     ]
    },
    {
     "name": "stderr",
     "output_type": "stream",
     "text": [
      "100%|██████████| 250/250 [02:59<00:00,  1.40it/s]\n"
     ]
    },
    {
     "name": "stdout",
     "output_type": "stream",
     "text": [
      "Done for size 700x350.\n",
      "Generating problems for size 800x400...\n"
     ]
    },
    {
     "name": "stderr",
     "output_type": "stream",
     "text": [
      "100%|██████████| 250/250 [03:32<00:00,  1.18it/s]\n"
     ]
    },
    {
     "name": "stdout",
     "output_type": "stream",
     "text": [
      "Done for size 800x400.\n",
      "Generating problems for size 900x450...\n"
     ]
    },
    {
     "name": "stderr",
     "output_type": "stream",
     "text": [
      "100%|██████████| 250/250 [04:25<00:00,  1.06s/it]\n"
     ]
    },
    {
     "name": "stdout",
     "output_type": "stream",
     "text": [
      "Done for size 900x450.\n",
      "Generating problems for size 1000x500...\n"
     ]
    },
    {
     "name": "stderr",
     "output_type": "stream",
     "text": [
      "100%|██████████| 250/250 [05:45<00:00,  1.38s/it]\n"
     ]
    },
    {
     "name": "stdout",
     "output_type": "stream",
     "text": [
      "Done for size 1000x500.\n",
      "Generating problems for size 1100x550...\n"
     ]
    },
    {
     "name": "stderr",
     "output_type": "stream",
     "text": [
      "100%|██████████| 250/250 [07:33<00:00,  1.81s/it]\n"
     ]
    },
    {
     "name": "stdout",
     "output_type": "stream",
     "text": [
      "Done for size 1100x550.\n",
      "Generating problems for size 1200x600...\n"
     ]
    },
    {
     "name": "stderr",
     "output_type": "stream",
     "text": [
      "100%|██████████| 250/250 [09:02<00:00,  2.17s/it]\n"
     ]
    },
    {
     "name": "stdout",
     "output_type": "stream",
     "text": [
      "Done for size 1200x600.\n",
      "Generating problems for size 1300x650...\n"
     ]
    },
    {
     "name": "stderr",
     "output_type": "stream",
     "text": [
      "100%|██████████| 250/250 [10:21<00:00,  2.49s/it]\n"
     ]
    },
    {
     "name": "stdout",
     "output_type": "stream",
     "text": [
      "Done for size 1300x650.\n",
      "Generating problems for size 1400x700...\n"
     ]
    },
    {
     "name": "stderr",
     "output_type": "stream",
     "text": [
      "100%|██████████| 250/250 [11:45<00:00,  2.82s/it]\n"
     ]
    },
    {
     "name": "stdout",
     "output_type": "stream",
     "text": [
      "Done for size 1400x700.\n",
      "Generating problems for size 1500x750...\n"
     ]
    },
    {
     "name": "stderr",
     "output_type": "stream",
     "text": [
      "100%|██████████| 250/250 [13:40<00:00,  3.28s/it]"
     ]
    },
    {
     "name": "stdout",
     "output_type": "stream",
     "text": [
      "Done for size 1500x750.\n"
     ]
    },
    {
     "name": "stderr",
     "output_type": "stream",
     "text": [
      "\n"
     ]
    }
   ],
   "source": [
    "for (num_variables, num_constraints) in tall_sizes:\n",
    "    size_folder = os.path.join(tall_two_phases_folder, f\"{num_variables}x{num_constraints}\")\n",
    "\n",
    "    print(f\"Generating problems for size {num_variables}x{num_constraints}...\")\n",
    "    for i in tqdm(range(1, 251, 1)):\n",
    "        dense_lp_gen_two_phases.generate_dense_lp(os.path.join(size_folder, f\"{i}.lp\"), num_variables, num_constraints)\n",
    "    print(f\"Done for size {num_variables}x{num_constraints}.\")"
   ]
  },
  {
   "cell_type": "markdown",
   "metadata": {},
   "source": [
    "### Now solving balanced problems for two phases."
   ]
  },
  {
   "cell_type": "code",
   "execution_count": null,
   "metadata": {},
   "outputs": [],
   "source": [
    "for (num_variables, num_constraints) in balanced_sizes:\n",
    "    size_folder = os.path.join(balanced_two_phases_folder, f\"{num_variables}x{num_constraints}\")\n",
    "    \n",
    "    print(f\"Currently solving for size {num_variables}x{num_constraints}...\")\n",
    "    process_problem_set(size_folder, os.path.join(size_folder, 'results.json'))\n",
    "    print(f\"Results saved in {str(os.path.join(size_folder, 'results.json'))}\")"
   ]
  },
  {
   "cell_type": "markdown",
   "metadata": {},
   "source": [
    "### Now solving wide problems for two phases."
   ]
  },
  {
   "cell_type": "code",
   "execution_count": 14,
   "metadata": {},
   "outputs": [
    {
     "name": "stdout",
     "output_type": "stream",
     "text": [
      "Currently solving for size 50x100...\n"
     ]
    },
    {
     "name": "stderr",
     "output_type": "stream",
     "text": [
      "100%|██████████| 250/250 [00:06<00:00, 40.61it/s]\n"
     ]
    },
    {
     "name": "stdout",
     "output_type": "stream",
     "text": [
      "Results saved in problems\\simplex_vs_ipm_glpk_two_phases_only\\wide_problems\\50x100\\results.json\n",
      "Currently solving for size 100x200...\n"
     ]
    },
    {
     "name": "stderr",
     "output_type": "stream",
     "text": [
      "100%|██████████| 250/250 [00:14<00:00, 17.35it/s]\n"
     ]
    },
    {
     "name": "stdout",
     "output_type": "stream",
     "text": [
      "Results saved in problems\\simplex_vs_ipm_glpk_two_phases_only\\wide_problems\\100x200\\results.json\n",
      "Currently solving for size 150x300...\n"
     ]
    },
    {
     "name": "stderr",
     "output_type": "stream",
     "text": [
      "100%|██████████| 250/250 [00:30<00:00,  8.11it/s]\n"
     ]
    },
    {
     "name": "stdout",
     "output_type": "stream",
     "text": [
      "Results saved in problems\\simplex_vs_ipm_glpk_two_phases_only\\wide_problems\\150x300\\results.json\n",
      "Currently solving for size 200x400...\n"
     ]
    },
    {
     "name": "stderr",
     "output_type": "stream",
     "text": [
      "100%|██████████| 250/250 [01:01<00:00,  4.05it/s]\n"
     ]
    },
    {
     "name": "stdout",
     "output_type": "stream",
     "text": [
      "Results saved in problems\\simplex_vs_ipm_glpk_two_phases_only\\wide_problems\\200x400\\results.json\n",
      "Currently solving for size 250x500...\n"
     ]
    },
    {
     "name": "stderr",
     "output_type": "stream",
     "text": [
      "100%|██████████| 250/250 [01:51<00:00,  2.24it/s]\n"
     ]
    },
    {
     "name": "stdout",
     "output_type": "stream",
     "text": [
      "Results saved in problems\\simplex_vs_ipm_glpk_two_phases_only\\wide_problems\\250x500\\results.json\n",
      "Currently solving for size 300x600...\n"
     ]
    },
    {
     "name": "stderr",
     "output_type": "stream",
     "text": [
      "100%|██████████| 250/250 [03:07<00:00,  1.33it/s]\n"
     ]
    },
    {
     "name": "stdout",
     "output_type": "stream",
     "text": [
      "Results saved in problems\\simplex_vs_ipm_glpk_two_phases_only\\wide_problems\\300x600\\results.json\n",
      "Currently solving for size 350x700...\n"
     ]
    },
    {
     "name": "stderr",
     "output_type": "stream",
     "text": [
      "100%|██████████| 250/250 [04:52<00:00,  1.17s/it]\n"
     ]
    },
    {
     "name": "stdout",
     "output_type": "stream",
     "text": [
      "Results saved in problems\\simplex_vs_ipm_glpk_two_phases_only\\wide_problems\\350x700\\results.json\n",
      "Currently solving for size 400x800...\n"
     ]
    },
    {
     "name": "stderr",
     "output_type": "stream",
     "text": [
      "100%|██████████| 250/250 [07:10<00:00,  1.72s/it]\n"
     ]
    },
    {
     "name": "stdout",
     "output_type": "stream",
     "text": [
      "Results saved in problems\\simplex_vs_ipm_glpk_two_phases_only\\wide_problems\\400x800\\results.json\n",
      "Currently solving for size 450x900...\n"
     ]
    },
    {
     "name": "stderr",
     "output_type": "stream",
     "text": [
      "100%|██████████| 250/250 [10:21<00:00,  2.49s/it]\n"
     ]
    },
    {
     "name": "stdout",
     "output_type": "stream",
     "text": [
      "Results saved in problems\\simplex_vs_ipm_glpk_two_phases_only\\wide_problems\\450x900\\results.json\n",
      "Currently solving for size 500x1000...\n"
     ]
    },
    {
     "name": "stderr",
     "output_type": "stream",
     "text": [
      "100%|██████████| 250/250 [14:33<00:00,  3.50s/it]\n"
     ]
    },
    {
     "name": "stdout",
     "output_type": "stream",
     "text": [
      "Results saved in problems\\simplex_vs_ipm_glpk_two_phases_only\\wide_problems\\500x1000\\results.json\n",
      "Currently solving for size 550x1100...\n"
     ]
    },
    {
     "name": "stderr",
     "output_type": "stream",
     "text": [
      "100%|██████████| 250/250 [19:59<00:00,  4.80s/it]\n"
     ]
    },
    {
     "name": "stdout",
     "output_type": "stream",
     "text": [
      "Results saved in problems\\simplex_vs_ipm_glpk_two_phases_only\\wide_problems\\550x1100\\results.json\n",
      "Currently solving for size 600x1200...\n"
     ]
    },
    {
     "name": "stderr",
     "output_type": "stream",
     "text": [
      "100%|██████████| 250/250 [26:37<00:00,  6.39s/it]\n"
     ]
    },
    {
     "name": "stdout",
     "output_type": "stream",
     "text": [
      "Results saved in problems\\simplex_vs_ipm_glpk_two_phases_only\\wide_problems\\600x1200\\results.json\n",
      "Currently solving for size 650x1300...\n"
     ]
    },
    {
     "name": "stderr",
     "output_type": "stream",
     "text": [
      "100%|██████████| 250/250 [34:26<00:00,  8.27s/it]\n"
     ]
    },
    {
     "name": "stdout",
     "output_type": "stream",
     "text": [
      "Results saved in problems\\simplex_vs_ipm_glpk_two_phases_only\\wide_problems\\650x1300\\results.json\n",
      "Currently solving for size 700x1400...\n"
     ]
    },
    {
     "name": "stderr",
     "output_type": "stream",
     "text": [
      "100%|██████████| 250/250 [43:29<00:00, 10.44s/it]\n"
     ]
    },
    {
     "name": "stdout",
     "output_type": "stream",
     "text": [
      "Results saved in problems\\simplex_vs_ipm_glpk_two_phases_only\\wide_problems\\700x1400\\results.json\n",
      "Currently solving for size 750x1500...\n"
     ]
    },
    {
     "name": "stderr",
     "output_type": "stream",
     "text": [
      "100%|██████████| 250/250 [54:29<00:00, 13.08s/it]"
     ]
    },
    {
     "name": "stdout",
     "output_type": "stream",
     "text": [
      "Results saved in problems\\simplex_vs_ipm_glpk_two_phases_only\\wide_problems\\750x1500\\results.json\n"
     ]
    },
    {
     "name": "stderr",
     "output_type": "stream",
     "text": [
      "\n"
     ]
    }
   ],
   "source": [
    "for (num_variables, num_constraints) in wide_sizes:\n",
    "    size_folder = os.path.join(wide_two_phases_folder, f\"{num_variables}x{num_constraints}\")\n",
    "    \n",
    "    print(f\"Currently solving for size {num_variables}x{num_constraints}...\")\n",
    "    process_problem_set(size_folder, os.path.join(size_folder, 'results.json'))\n",
    "    print(f\"Results saved in {str(os.path.join(size_folder, 'results.json'))}\")"
   ]
  },
  {
   "cell_type": "markdown",
   "metadata": {},
   "source": [
    "### Now solving tall problems for two phases."
   ]
  },
  {
   "cell_type": "code",
   "execution_count": 15,
   "metadata": {},
   "outputs": [
    {
     "name": "stdout",
     "output_type": "stream",
     "text": [
      "Currently solving for size 100x50...\n"
     ]
    },
    {
     "name": "stderr",
     "output_type": "stream",
     "text": [
      "100%|██████████| 250/250 [00:05<00:00, 43.91it/s]\n"
     ]
    },
    {
     "name": "stdout",
     "output_type": "stream",
     "text": [
      "Results saved in problems\\simplex_vs_ipm_glpk_two_phases_only\\tall_problems\\100x50\\results.json\n",
      "Currently solving for size 200x100...\n"
     ]
    },
    {
     "name": "stderr",
     "output_type": "stream",
     "text": [
      "100%|██████████| 250/250 [00:12<00:00, 20.78it/s]\n"
     ]
    },
    {
     "name": "stdout",
     "output_type": "stream",
     "text": [
      "Results saved in problems\\simplex_vs_ipm_glpk_two_phases_only\\tall_problems\\200x100\\results.json\n",
      "Currently solving for size 300x150...\n"
     ]
    },
    {
     "name": "stderr",
     "output_type": "stream",
     "text": [
      "100%|██████████| 250/250 [00:23<00:00, 10.57it/s]\n"
     ]
    },
    {
     "name": "stdout",
     "output_type": "stream",
     "text": [
      "Results saved in problems\\simplex_vs_ipm_glpk_two_phases_only\\tall_problems\\300x150\\results.json\n",
      "Currently solving for size 400x200...\n"
     ]
    },
    {
     "name": "stderr",
     "output_type": "stream",
     "text": [
      "100%|██████████| 250/250 [00:44<00:00,  5.65it/s]\n"
     ]
    },
    {
     "name": "stdout",
     "output_type": "stream",
     "text": [
      "Results saved in problems\\simplex_vs_ipm_glpk_two_phases_only\\tall_problems\\400x200\\results.json\n",
      "Currently solving for size 500x250...\n"
     ]
    },
    {
     "name": "stderr",
     "output_type": "stream",
     "text": [
      "100%|██████████| 250/250 [01:16<00:00,  3.25it/s]\n"
     ]
    },
    {
     "name": "stdout",
     "output_type": "stream",
     "text": [
      "Results saved in problems\\simplex_vs_ipm_glpk_two_phases_only\\tall_problems\\500x250\\results.json\n",
      "Currently solving for size 600x300...\n"
     ]
    },
    {
     "name": "stderr",
     "output_type": "stream",
     "text": [
      "100%|██████████| 250/250 [02:06<00:00,  1.98it/s]\n"
     ]
    },
    {
     "name": "stdout",
     "output_type": "stream",
     "text": [
      "Results saved in problems\\simplex_vs_ipm_glpk_two_phases_only\\tall_problems\\600x300\\results.json\n",
      "Currently solving for size 700x350...\n"
     ]
    },
    {
     "name": "stderr",
     "output_type": "stream",
     "text": [
      "100%|██████████| 250/250 [03:23<00:00,  1.23it/s]\n"
     ]
    },
    {
     "name": "stdout",
     "output_type": "stream",
     "text": [
      "Results saved in problems\\simplex_vs_ipm_glpk_two_phases_only\\tall_problems\\700x350\\results.json\n",
      "Currently solving for size 800x400...\n"
     ]
    },
    {
     "name": "stderr",
     "output_type": "stream",
     "text": [
      "100%|██████████| 250/250 [05:03<00:00,  1.21s/it]\n"
     ]
    },
    {
     "name": "stdout",
     "output_type": "stream",
     "text": [
      "Results saved in problems\\simplex_vs_ipm_glpk_two_phases_only\\tall_problems\\800x400\\results.json\n",
      "Currently solving for size 900x450...\n"
     ]
    },
    {
     "name": "stderr",
     "output_type": "stream",
     "text": [
      "100%|██████████| 250/250 [06:43<00:00,  1.62s/it]\n"
     ]
    },
    {
     "name": "stdout",
     "output_type": "stream",
     "text": [
      "Results saved in problems\\simplex_vs_ipm_glpk_two_phases_only\\tall_problems\\900x450\\results.json\n",
      "Currently solving for size 1000x500...\n"
     ]
    },
    {
     "name": "stderr",
     "output_type": "stream",
     "text": [
      "100%|██████████| 250/250 [09:27<00:00,  2.27s/it]\n"
     ]
    },
    {
     "name": "stdout",
     "output_type": "stream",
     "text": [
      "Results saved in problems\\simplex_vs_ipm_glpk_two_phases_only\\tall_problems\\1000x500\\results.json\n",
      "Currently solving for size 1100x550...\n"
     ]
    },
    {
     "name": "stderr",
     "output_type": "stream",
     "text": [
      "100%|██████████| 250/250 [13:10<00:00,  3.16s/it]\n"
     ]
    },
    {
     "name": "stdout",
     "output_type": "stream",
     "text": [
      "Results saved in problems\\simplex_vs_ipm_glpk_two_phases_only\\tall_problems\\1100x550\\results.json\n",
      "Currently solving for size 1200x600...\n"
     ]
    },
    {
     "name": "stderr",
     "output_type": "stream",
     "text": [
      "100%|██████████| 250/250 [17:49<00:00,  4.28s/it]\n"
     ]
    },
    {
     "name": "stdout",
     "output_type": "stream",
     "text": [
      "Results saved in problems\\simplex_vs_ipm_glpk_two_phases_only\\tall_problems\\1200x600\\results.json\n",
      "Currently solving for size 1300x650...\n"
     ]
    },
    {
     "name": "stderr",
     "output_type": "stream",
     "text": [
      "100%|██████████| 250/250 [23:28<00:00,  5.63s/it]\n"
     ]
    },
    {
     "name": "stdout",
     "output_type": "stream",
     "text": [
      "Results saved in problems\\simplex_vs_ipm_glpk_two_phases_only\\tall_problems\\1300x650\\results.json\n",
      "Currently solving for size 1400x700...\n"
     ]
    },
    {
     "name": "stderr",
     "output_type": "stream",
     "text": [
      "100%|██████████| 250/250 [30:06<00:00,  7.23s/it]\n"
     ]
    },
    {
     "name": "stdout",
     "output_type": "stream",
     "text": [
      "Results saved in problems\\simplex_vs_ipm_glpk_two_phases_only\\tall_problems\\1400x700\\results.json\n",
      "Currently solving for size 1500x750...\n"
     ]
    },
    {
     "name": "stderr",
     "output_type": "stream",
     "text": [
      "100%|██████████| 250/250 [37:57<00:00,  9.11s/it]"
     ]
    },
    {
     "name": "stdout",
     "output_type": "stream",
     "text": [
      "Results saved in problems\\simplex_vs_ipm_glpk_two_phases_only\\tall_problems\\1500x750\\results.json\n"
     ]
    },
    {
     "name": "stderr",
     "output_type": "stream",
     "text": [
      "\n"
     ]
    }
   ],
   "source": [
    "for (num_variables, num_constraints) in tall_sizes:\n",
    "    size_folder = os.path.join(tall_two_phases_folder, f\"{num_variables}x{num_constraints}\")\n",
    "    \n",
    "    print(f\"Currently solving for size {num_variables}x{num_constraints}...\")\n",
    "    process_problem_set(size_folder, os.path.join(size_folder, 'results.json'))\n",
    "    print(f\"Results saved in {str(os.path.join(size_folder, 'results.json'))}\")"
   ]
  }
 ],
 "metadata": {
  "kernelspec": {
   "display_name": "Python 3",
   "language": "python",
   "name": "python3"
  },
  "language_info": {
   "codemirror_mode": {
    "name": "ipython",
    "version": 3
   },
   "file_extension": ".py",
   "mimetype": "text/x-python",
   "name": "python",
   "nbconvert_exporter": "python",
   "pygments_lexer": "ipython3",
   "version": "3.11.9"
  }
 },
 "nbformat": 4,
 "nbformat_minor": 2
}
