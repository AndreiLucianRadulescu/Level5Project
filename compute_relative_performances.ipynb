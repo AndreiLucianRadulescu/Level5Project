{
 "cells": [
  {
   "cell_type": "code",
   "execution_count": 10,
   "id": "c451283d",
   "metadata": {},
   "outputs": [],
   "source": [
    "import os\n",
    "import json\n",
    "\n",
    "# Define the path to your data\n",
    "data_dir_one_phase = os.path.join('problems', 'problems_pivot_rules_one_phase_only')\n",
    "data_dir_two_phases = os.path.join('problems', 'problems_pivot_rules_two_phases')\n",
    "\n",
    "# Define pivot rules\n",
    "pivot_rules_one_phase = ['dantzig', 'random', 'steepest_edge', 'bland']\n",
    "pivot_rules_two_phases = ['dantzig', 'random', 'steepest_edge']\n",
    "\n",
    "balanced_sizes = [(i, i) for i in range(5, 101, 5)]\n",
    "wide_sizes = [(2*i, i) for i in range(5, 51, 5)]\n",
    "tall_sizes = [(i, 2*i) for i in range(5, 51, 5)]\n",
    "root_folder = os.path.join('problems', 'problems_pivot_rules_one_phase_only')\n",
    "\n",
    "# Function to read and return the data from json files\n",
    "def load_data(size_folder):\n",
    "    with open(size_folder, 'r') as f:\n",
    "        data = json.load(f)\n",
    "    return data\n",
    "\n",
    "# Function to calculate relative performance based on total time\n",
    "def compute_relative_performance(data, pivot_rules, baseline_rule='steepest_edge'):\n",
    "    relative_performance = {}\n",
    "    \n",
    "    time_data = data['total_time']\n",
    "    baseline_time = time_data[baseline_rule]\n",
    "    \n",
    "    for rule in pivot_rules:\n",
    "        if rule != baseline_rule:\n",
    "            relative_time = time_data[rule] / baseline_time\n",
    "            relative_performance[rule] = relative_time\n",
    "    relative_performance[baseline_rule] = 1\n",
    "    return relative_performance\n",
    "\n",
    "# Function to compute average relative performance for the last two sizes of each category\n",
    "def compute_avg_relative_performance(sizes_list, _type, pivot_rules, data_dir, last_two, baseline_rule='steepest_edge'):\n",
    "    avg_relative_performance = {rule: 0 for rule in pivot_rules}  # Only for time\n",
    "    \n",
    "    if last_two:\n",
    "        good_sizes = sizes_list[-2:]\n",
    "    else:\n",
    "        good_sizes = sizes_list\n",
    "\n",
    "    for size in good_sizes: \n",
    "        size_folder = os.path.join(data_dir, _type, f\"{size[0]}x{size[1]}\")\n",
    "        data = load_data(os.path.join(size_folder, 'averages.json'))\n",
    "        \n",
    "        relative_performance = compute_relative_performance(data, pivot_rules)\n",
    "        for rule in pivot_rules:\n",
    "            avg_relative_performance[rule] += relative_performance[rule]\n",
    "    \n",
    "    # Compute the averages\n",
    "    for rule in pivot_rules:\n",
    "        avg_relative_performance[rule] /= len(good_sizes)  # Average time relative performance\n",
    "    \n",
    "    return avg_relative_performance\n",
    "\n",
    "# Display the results\n",
    "def print_avg_performance(category, avg_performance, pivot_rules):\n",
    "    print(f\"\\nAverage Relative Time Performance for {category}:\")\n",
    "    print(f\"{'Pivot Rule':<15} {'Avg Time'}\")\n",
    "    for rule in pivot_rules:\n",
    "        print(f\"{rule:<15} {avg_performance[rule]:<10.2f}\")"
   ]
  },
  {
   "cell_type": "code",
   "execution_count": 11,
   "id": "764370ed",
   "metadata": {},
   "outputs": [
    {
     "name": "stdout",
     "output_type": "stream",
     "text": [
      "Results for one phase problems, all sizes\n",
      "\n",
      "Average Relative Time Performance for Balanced:\n",
      "Pivot Rule      Avg Time\n",
      "dantzig         1.37      \n",
      "random          2.77      \n",
      "steepest_edge   1.00      \n",
      "bland           5.29      \n",
      "\n",
      "Average Relative Time Performance for Wide:\n",
      "Pivot Rule      Avg Time\n",
      "dantzig         1.09      \n",
      "random          2.59      \n",
      "steepest_edge   1.00      \n",
      "bland           3.17      \n",
      "\n",
      "Average Relative Time Performance for Tall:\n",
      "Pivot Rule      Avg Time\n",
      "dantzig         1.26      \n",
      "random          2.35      \n",
      "steepest_edge   1.00      \n",
      "bland           3.63      \n"
     ]
    }
   ],
   "source": [
    "# Now, for each category, calculate the average relative performance for the last two sizes\n",
    "avg_balanced_performance_one_phase_all_sizes = compute_avg_relative_performance(balanced_sizes, 'balanced_problems', pivot_rules_one_phase, data_dir_one_phase, last_two=False)\n",
    "avg_wide_performance_one_phase_all_sizes = compute_avg_relative_performance(wide_sizes, 'wide_problems', pivot_rules_one_phase, data_dir_one_phase, last_two=False)\n",
    "avg_tall_performance_one_phase_all_sizes = compute_avg_relative_performance(tall_sizes, 'tall_problems', pivot_rules_one_phase, data_dir_one_phase, last_two=False)\n",
    "\n",
    "print(\"Results for one phase problems, all sizes\")\n",
    "print_avg_performance(\"Balanced\", avg_balanced_performance_one_phase_all_sizes, pivot_rules_one_phase)\n",
    "print_avg_performance(\"Wide\", avg_wide_performance_one_phase_all_sizes, pivot_rules_one_phase)\n",
    "print_avg_performance(\"Tall\", avg_tall_performance_one_phase_all_sizes, pivot_rules_one_phase)"
   ]
  },
  {
   "cell_type": "code",
   "execution_count": 12,
   "id": "435cf96a",
   "metadata": {},
   "outputs": [
    {
     "name": "stdout",
     "output_type": "stream",
     "text": [
      "Results for one phase problems, last two sizes\n",
      "\n",
      "Average Relative Time Performance for Balanced:\n",
      "Pivot Rule      Avg Time\n",
      "dantzig         1.79      \n",
      "random          3.67      \n",
      "steepest_edge   1.00      \n",
      "bland           10.79     \n",
      "\n",
      "Average Relative Time Performance for Wide:\n",
      "Pivot Rule      Avg Time\n",
      "dantzig         0.84      \n",
      "random          2.39      \n",
      "steepest_edge   1.00      \n",
      "bland           4.76      \n",
      "\n",
      "Average Relative Time Performance for Tall:\n",
      "Pivot Rule      Avg Time\n",
      "dantzig         1.57      \n",
      "random          3.25      \n",
      "steepest_edge   1.00      \n",
      "bland           6.46      \n"
     ]
    }
   ],
   "source": [
    "avg_balanced_performance_one_phase_last_two_sizes = compute_avg_relative_performance(balanced_sizes, 'balanced_problems', pivot_rules_one_phase, data_dir_one_phase, last_two=True)\n",
    "avg_wide_performance_one_phase_last_two_sizes = compute_avg_relative_performance(wide_sizes, 'wide_problems', pivot_rules_one_phase, data_dir_one_phase, last_two=True)\n",
    "avg_tall_performance_one_phase_last_two_sizes = compute_avg_relative_performance(tall_sizes, 'tall_problems', pivot_rules_one_phase, data_dir_one_phase, last_two=True)\n",
    "\n",
    "print(\"Results for one phase problems, last two sizes\")\n",
    "print_avg_performance(\"Balanced\", avg_balanced_performance_one_phase_last_two_sizes, pivot_rules_one_phase)\n",
    "print_avg_performance(\"Wide\", avg_wide_performance_one_phase_last_two_sizes, pivot_rules_one_phase)\n",
    "print_avg_performance(\"Tall\", avg_tall_performance_one_phase_last_two_sizes, pivot_rules_one_phase)"
   ]
  },
  {
   "cell_type": "code",
   "execution_count": 13,
   "id": "a58f7338",
   "metadata": {},
   "outputs": [
    {
     "name": "stdout",
     "output_type": "stream",
     "text": [
      "Results for one phase problems, all sizes\n",
      "\n",
      "Average Relative Time Performance for Balanced:\n",
      "Pivot Rule      Avg Time\n",
      "dantzig         2.02      \n",
      "random          3.26      \n",
      "steepest_edge   1.00      \n",
      "\n",
      "Average Relative Time Performance for Wide:\n",
      "Pivot Rule      Avg Time\n",
      "dantzig         1.30      \n",
      "random          2.49      \n",
      "steepest_edge   1.00      \n",
      "\n",
      "Average Relative Time Performance for Tall:\n",
      "Pivot Rule      Avg Time\n",
      "dantzig         1.83      \n",
      "random          3.08      \n",
      "steepest_edge   1.00      \n"
     ]
    }
   ],
   "source": [
    "avg_balanced_performance_two_phases_all_sizes = compute_avg_relative_performance(balanced_sizes, 'balanced_problems', pivot_rules_two_phases, data_dir_two_phases, last_two=False)\n",
    "avg_wide_performance_two_phases_all_sizes = compute_avg_relative_performance(wide_sizes, 'wide_problems', pivot_rules_two_phases, data_dir_two_phases, last_two=False)\n",
    "avg_tall_performance_two_phases_all_sizes = compute_avg_relative_performance(tall_sizes, 'tall_problems', pivot_rules_two_phases, data_dir_two_phases, last_two=False)\n",
    "\n",
    "print(\"Results for one phase problems, all sizes\")\n",
    "print_avg_performance(\"Balanced\", avg_balanced_performance_two_phases_all_sizes, pivot_rules_two_phases)\n",
    "print_avg_performance(\"Wide\", avg_wide_performance_two_phases_all_sizes, pivot_rules_two_phases)\n",
    "print_avg_performance(\"Tall\", avg_tall_performance_two_phases_all_sizes, pivot_rules_two_phases)"
   ]
  },
  {
   "cell_type": "code",
   "execution_count": null,
   "id": "9401f79d",
   "metadata": {},
   "outputs": [],
   "source": [
    "avg_balanced_performance_two_phases_last_two_sizes = compute_avg_relative_performance(balanced_sizes, 'balanced_problems', pivot_rules_two_phases, data_dir_two_phases, last_two=True)\n",
    "avg_wide_performance_two_phases_last_two_sizes = compute_avg_relative_performance(wide_sizes, 'wide_problems', pivot_rules_two_phases, data_dir_two_phases, last_two=True)\n",
    "avg_tall_performance_two_phases_last_two_sizes = compute_avg_relative_performance(tall_sizes, 'tall_problems', pivot_rules_two_phases, data_dir_two_phases, last_two=True)\n",
    "\n",
    "print(\"Results for one phase problems, all sizes\")\n",
    "print_avg_performance(\"Balanced\", avg_balanced_performance_two_phases_all_sizes, pivot_rules_two_phases)\n",
    "print_avg_performance(\"Wide\", avg_wide_performance_two_phases_all_sizes, pivot_rules_two_phases)\n",
    "print_avg_performance(\"Tall\", avg_tall_performance_two_phases_all_sizes, pivot_rules_two_phases)"
   ]
  }
 ],
 "metadata": {
  "kernelspec": {
   "display_name": "Python 3",
   "language": "python",
   "name": "python3"
  },
  "language_info": {
   "codemirror_mode": {
    "name": "ipython",
    "version": 3
   },
   "file_extension": ".py",
   "mimetype": "text/x-python",
   "name": "python",
   "nbconvert_exporter": "python",
   "pygments_lexer": "ipython3",
   "version": "3.11.9"
  }
 },
 "nbformat": 4,
 "nbformat_minor": 5
}
