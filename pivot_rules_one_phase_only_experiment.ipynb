{
 "cells": [
  {
   "cell_type": "markdown",
   "metadata": {},
   "source": [
    "## Experiment Design\n",
    "\n",
    "This notebook aims to compare different pivot rules for randomly generated linear programs that *always have the origin point as the starting solution*.  \n",
    "To achieve this, I will consider three main categories of problems:\n",
    "\n",
    "### **1. Balanced Problems (m = n)**  \n",
    "These are square linear programs where the number of constraints equals the number of variables. I will generate instances in increments of 5, covering the following sizes:\n",
    "\n",
    "- (5×5), (10×10), (15×15), (20×20), (25×25), (30×30), (35×35), (40×40), (45×45), (50×50)\n",
    "- (55×55), (60×60), (65×65), (70×70), (75×75), (80×80), (85×85), (90×90), (95×95), (100×100)\n",
    "\n",
    "### **2. Wide Problems (m < n, n = 2m)**  \n",
    "These problems have twice as many variables as constraints, representing underdetermined systems. The chosen sizes are:\n",
    "\n",
    "- (5×10), (10×20), (15×30), (20×40), (25×50), (30×60), (35×70), (40×80), (45×90), (50×100)\n",
    "\n",
    "### **3. Tall Problems (m > n, m = 2n)**  \n",
    "These problems have twice as many constraints as variables, representing overdetermined systems. The chosen sizes are:\n",
    "\n",
    "- (10×5), (20×10), (30×15), (40×20), (50×25), (60×30), (70×35), (80×40), (90×45), (100×50)\n",
    "\n",
    "## **Number of Instances per Category**  \n",
    "To ensure sufficient variation across different problem sizes, I will generate 250 problems per subcategory. This is because I also want to make the running time feasible.\n",
    "\n",
    "This results in a total of **20,000 randomly generated problems** for the experiment.\n",
    "\n",
    "## **Metrics for Comparison**  \n",
    "To evaluate the performance of different pivot rules, I will measure:\n",
    "\n",
    "1. **Number of iterations (pivot steps) taken** to reach optimality\n",
    "2. **Computation time** for each problem instance"
   ]
  },
  {
   "cell_type": "markdown",
   "metadata": {},
   "source": [
    "## Imports, setup and problems creation"
   ]
  },
  {
   "cell_type": "code",
   "execution_count": 1,
   "metadata": {},
   "outputs": [],
   "source": [
    "\n",
    "import random\n",
    "import os\n",
    "import sys\n",
    "from dense_lp_generator import DenseLPGenerator\n",
    "from simplex_solver import SimplexSolver\n",
    "from input_parser import LPParser\n",
    "\n",
    "# IMPORTANT: Set random seed for reproducibility.\n",
    "random.seed(42)\n",
    "\n",
    "balanced_sizes = [(i, i) for i in range(5, 101, 5)]\n",
    "wide_sizes = [(i, 2*i) for i in range(5, 51, 5)]\n",
    "tall_sizes = [(2*i, i) for i in range(5, 51, 5)]\n",
    "root_folder = os.path.join('problems', 'problems_pivot_rules_one_phase_only')\n",
    "balanced_folder = os.path.join(root_folder, 'balanced_problems')\n",
    "wide_folder = os.path.join(root_folder, 'wide_problems')\n",
    "tall_folder = os.path.join(root_folder, 'tall_problems')\n",
    "random_dense_gen = DenseLPGenerator(precision = 4)\n",
    "\n",
    "if not os.path.exists(root_folder):\n",
    "    os.mkdir(root_folder)\n",
    "\n",
    "if not os.path.exists(balanced_folder):\n",
    "    os.mkdir(balanced_folder)\n",
    "    \n",
    "if not os.path.exists(wide_folder):\n",
    "    os.mkdir(wide_folder)\n",
    "    \n",
    "if not os.path.exists(tall_folder):\n",
    "    os.mkdir(tall_folder)"
   ]
  },
  {
   "cell_type": "markdown",
   "metadata": {},
   "source": [
    "### Generating the balanced problems"
   ]
  },
  {
   "cell_type": "code",
   "execution_count": 2,
   "metadata": {},
   "outputs": [],
   "source": [
    "for (x, y) in balanced_sizes:\n",
    "    current_size_folder = os.path.join(balanced_folder, f'{x}x{y}')\n",
    "    if not os.path.exists(current_size_folder):\n",
    "        os.mkdir(current_size_folder)\n",
    "    \n",
    "    for i in range(250):\n",
    "        random_dense_gen.generate_dense_lp(os.path.join(current_size_folder, f\"{i+1}.lp\"), x, y)"
   ]
  },
  {
   "cell_type": "markdown",
   "metadata": {},
   "source": [
    "### Generating the wide problems"
   ]
  },
  {
   "cell_type": "code",
   "execution_count": 3,
   "metadata": {},
   "outputs": [],
   "source": [
    "for (x, y) in wide_sizes:\n",
    "    current_size_folder = os.path.join(wide_folder, f'{x}x{y}')\n",
    "    if not os.path.exists(current_size_folder):\n",
    "        os.mkdir(current_size_folder)\n",
    "    \n",
    "    for i in range(250):\n",
    "        random_dense_gen.generate_dense_lp(os.path.join(current_size_folder, f\"{i+1}.lp\"), x, y)"
   ]
  },
  {
   "cell_type": "markdown",
   "metadata": {},
   "source": [
    "### Generating the tall problems"
   ]
  },
  {
   "cell_type": "code",
   "execution_count": 4,
   "metadata": {},
   "outputs": [],
   "source": [
    "for (x, y) in tall_sizes:\n",
    "    current_size_folder = os.path.join(tall_folder, f'{x}x{y}')\n",
    "    if not os.path.exists(current_size_folder):\n",
    "        os.mkdir(current_size_folder)\n",
    "    \n",
    "    for i in range(250):\n",
    "        random_dense_gen.generate_dense_lp(os.path.join(current_size_folder, f\"{i+1}.lp\"), x, y)"
   ]
  },
  {
   "cell_type": "markdown",
   "metadata": {},
   "source": [
    "## The first experiment - Running time of Dantzig\n",
    "This experiment aims to plot the average time of Dantzig's pivot rule for all problem sizes, in order to establish a feasible upper bound for our problem sizes, i.e. to be able to run the experiment in a timely manner"
   ]
  },
  {
   "cell_type": "code",
   "execution_count": 2,
   "metadata": {},
   "outputs": [],
   "source": [
    "import json\n",
    "import time\n",
    "from tqdm import tqdm\n",
    "dantzig_solver = SimplexSolver(pivot_rule = 'Dantzig')\n",
    "lp_parser = LPParser()"
   ]
  },
  {
   "cell_type": "markdown",
   "metadata": {},
   "source": [
    "### Running Dantzig on balanced problems"
   ]
  },
  {
   "cell_type": "code",
   "execution_count": 4,
   "metadata": {},
   "outputs": [
    {
     "name": "stdout",
     "output_type": "stream",
     "text": [
      "Currently solving for size 5x5.\n"
     ]
    },
    {
     "name": "stderr",
     "output_type": "stream",
     "text": [
      "100%|██████████| 250/250 [00:00<00:00, 1774.08it/s]\n"
     ]
    },
    {
     "name": "stdout",
     "output_type": "stream",
     "text": [
      "Done with size 5x5. Results saved.\n",
      "Currently solving for size 10x10.\n"
     ]
    },
    {
     "name": "stderr",
     "output_type": "stream",
     "text": [
      "100%|██████████| 250/250 [00:00<00:00, 359.20it/s]\n"
     ]
    },
    {
     "name": "stdout",
     "output_type": "stream",
     "text": [
      "Done with size 10x10. Results saved.\n",
      "Currently solving for size 15x15.\n"
     ]
    },
    {
     "name": "stderr",
     "output_type": "stream",
     "text": [
      "100%|██████████| 250/250 [00:02<00:00, 101.10it/s]\n"
     ]
    },
    {
     "name": "stdout",
     "output_type": "stream",
     "text": [
      "Done with size 15x15. Results saved.\n",
      "Currently solving for size 20x20.\n"
     ]
    },
    {
     "name": "stderr",
     "output_type": "stream",
     "text": [
      "100%|██████████| 250/250 [00:07<00:00, 33.79it/s]\n"
     ]
    },
    {
     "name": "stdout",
     "output_type": "stream",
     "text": [
      "Done with size 20x20. Results saved.\n",
      "Currently solving for size 25x25.\n"
     ]
    },
    {
     "name": "stderr",
     "output_type": "stream",
     "text": [
      "100%|██████████| 250/250 [00:15<00:00, 15.64it/s]\n"
     ]
    },
    {
     "name": "stdout",
     "output_type": "stream",
     "text": [
      "Done with size 25x25. Results saved.\n",
      "Currently solving for size 30x30.\n"
     ]
    },
    {
     "name": "stderr",
     "output_type": "stream",
     "text": [
      "100%|██████████| 250/250 [00:30<00:00,  8.28it/s]\n"
     ]
    },
    {
     "name": "stdout",
     "output_type": "stream",
     "text": [
      "Done with size 30x30. Results saved.\n",
      "Currently solving for size 35x35.\n"
     ]
    },
    {
     "name": "stderr",
     "output_type": "stream",
     "text": [
      "100%|██████████| 250/250 [00:52<00:00,  4.76it/s]\n"
     ]
    },
    {
     "name": "stdout",
     "output_type": "stream",
     "text": [
      "Done with size 35x35. Results saved.\n",
      "Currently solving for size 40x40.\n"
     ]
    },
    {
     "name": "stderr",
     "output_type": "stream",
     "text": [
      "100%|██████████| 250/250 [01:24<00:00,  2.97it/s]\n"
     ]
    },
    {
     "name": "stdout",
     "output_type": "stream",
     "text": [
      "Done with size 40x40. Results saved.\n",
      "Currently solving for size 45x45.\n"
     ]
    },
    {
     "name": "stderr",
     "output_type": "stream",
     "text": [
      "100%|██████████| 250/250 [02:22<00:00,  1.75it/s]\n"
     ]
    },
    {
     "name": "stdout",
     "output_type": "stream",
     "text": [
      "Done with size 45x45. Results saved.\n",
      "Currently solving for size 50x50.\n"
     ]
    },
    {
     "name": "stderr",
     "output_type": "stream",
     "text": [
      "100%|██████████| 250/250 [03:24<00:00,  1.23it/s]\n"
     ]
    },
    {
     "name": "stdout",
     "output_type": "stream",
     "text": [
      "Done with size 50x50. Results saved.\n",
      "Currently solving for size 55x55.\n"
     ]
    },
    {
     "name": "stderr",
     "output_type": "stream",
     "text": [
      "100%|██████████| 250/250 [05:09<00:00,  1.24s/it]\n"
     ]
    },
    {
     "name": "stdout",
     "output_type": "stream",
     "text": [
      "Done with size 55x55. Results saved.\n",
      "Currently solving for size 60x60.\n"
     ]
    },
    {
     "name": "stderr",
     "output_type": "stream",
     "text": [
      "100%|██████████| 250/250 [07:44<00:00,  1.86s/it]\n"
     ]
    },
    {
     "name": "stdout",
     "output_type": "stream",
     "text": [
      "Done with size 60x60. Results saved.\n",
      "Currently solving for size 65x65.\n"
     ]
    },
    {
     "name": "stderr",
     "output_type": "stream",
     "text": [
      "100%|██████████| 250/250 [11:05<00:00,  2.66s/it]\n"
     ]
    },
    {
     "name": "stdout",
     "output_type": "stream",
     "text": [
      "Done with size 65x65. Results saved.\n",
      "Currently solving for size 70x70.\n"
     ]
    },
    {
     "name": "stderr",
     "output_type": "stream",
     "text": [
      "100%|██████████| 250/250 [14:56<00:00,  3.59s/it]\n"
     ]
    },
    {
     "name": "stdout",
     "output_type": "stream",
     "text": [
      "Done with size 70x70. Results saved.\n",
      "Currently solving for size 75x75.\n"
     ]
    },
    {
     "name": "stderr",
     "output_type": "stream",
     "text": [
      "100%|██████████| 250/250 [20:39<00:00,  4.96s/it]\n"
     ]
    },
    {
     "name": "stdout",
     "output_type": "stream",
     "text": [
      "Done with size 75x75. Results saved.\n",
      "Currently solving for size 80x80.\n"
     ]
    },
    {
     "name": "stderr",
     "output_type": "stream",
     "text": [
      "100%|██████████| 250/250 [27:23<00:00,  6.58s/it]\n"
     ]
    },
    {
     "name": "stdout",
     "output_type": "stream",
     "text": [
      "Done with size 80x80. Results saved.\n",
      "Currently solving for size 85x85.\n"
     ]
    },
    {
     "name": "stderr",
     "output_type": "stream",
     "text": [
      "100%|██████████| 250/250 [36:10<00:00,  8.68s/it]\n"
     ]
    },
    {
     "name": "stdout",
     "output_type": "stream",
     "text": [
      "Done with size 85x85. Results saved.\n",
      "Currently solving for size 90x90.\n"
     ]
    },
    {
     "name": "stderr",
     "output_type": "stream",
     "text": [
      "100%|██████████| 250/250 [48:49<00:00, 11.72s/it]\n"
     ]
    },
    {
     "name": "stdout",
     "output_type": "stream",
     "text": [
      "Done with size 90x90. Results saved.\n",
      "Currently solving for size 95x95.\n"
     ]
    },
    {
     "name": "stderr",
     "output_type": "stream",
     "text": [
      "100%|██████████| 250/250 [1:00:27<00:00, 14.51s/it]\n"
     ]
    },
    {
     "name": "stdout",
     "output_type": "stream",
     "text": [
      "Done with size 95x95. Results saved.\n",
      "Currently solving for size 100x100.\n"
     ]
    },
    {
     "name": "stderr",
     "output_type": "stream",
     "text": [
      "100%|██████████| 250/250 [1:19:17<00:00, 19.03s/it]"
     ]
    },
    {
     "name": "stdout",
     "output_type": "stream",
     "text": [
      "Done with size 100x100. Results saved.\n"
     ]
    },
    {
     "name": "stderr",
     "output_type": "stream",
     "text": [
      "\n"
     ]
    }
   ],
   "source": [
    "for (x, y) in balanced_sizes:\n",
    "    print(f'Currently solving for size {x}x{y}.')\n",
    "    current_size_results = {}\n",
    "\n",
    "    for i in tqdm(range(1, 251)):\n",
    "        lp_parser.parse_file(os.path.join(balanced_folder, f\"{x}x{y}\", f\"{i}.lp\"))\n",
    "\n",
    "        start_time = time.time()\n",
    "        my_solver_output = dantzig_solver.solve(lp_parser)\n",
    "        end_time = time.time()\n",
    "\n",
    "        my_solver_output['total_time'] = (end_time - start_time) * 1000\n",
    "        current_size_results[f\"{i}.lp\"] = my_solver_output\n",
    "    \n",
    "    with open(os.path.join(balanced_folder, f\"{x}x{y}\", f'dantzig_results.json'), 'w') as f:\n",
    "        json.dump(current_size_results, f, indent = 4)\n",
    "    \n",
    "    print(f'Done with size {x}x{y}. Results saved.')"
   ]
  },
  {
   "cell_type": "markdown",
   "metadata": {},
   "source": [
    "### Running time of Bland"
   ]
  },
  {
   "cell_type": "code",
   "execution_count": 5,
   "metadata": {},
   "outputs": [],
   "source": [
    "bland = SimplexSolver(pivot_rule = 'Bland')\n"
   ]
  },
  {
   "cell_type": "code",
   "execution_count": 6,
   "metadata": {},
   "outputs": [
    {
     "name": "stdout",
     "output_type": "stream",
     "text": [
      "Currently solving for size 5x5.\n"
     ]
    },
    {
     "name": "stderr",
     "output_type": "stream",
     "text": [
      "100%|██████████| 250/250 [00:00<00:00, 2040.39it/s]\n"
     ]
    },
    {
     "name": "stdout",
     "output_type": "stream",
     "text": [
      "Done with size 5x5. Results saved.\n",
      "Currently solving for size 10x10.\n"
     ]
    },
    {
     "name": "stderr",
     "output_type": "stream",
     "text": [
      "100%|██████████| 250/250 [00:00<00:00, 362.15it/s]\n"
     ]
    },
    {
     "name": "stdout",
     "output_type": "stream",
     "text": [
      "Done with size 10x10. Results saved.\n",
      "Currently solving for size 15x15.\n"
     ]
    },
    {
     "name": "stderr",
     "output_type": "stream",
     "text": [
      "100%|██████████| 250/250 [00:02<00:00, 102.80it/s]\n"
     ]
    },
    {
     "name": "stdout",
     "output_type": "stream",
     "text": [
      "Done with size 15x15. Results saved.\n",
      "Currently solving for size 20x20.\n"
     ]
    },
    {
     "name": "stderr",
     "output_type": "stream",
     "text": [
      "100%|██████████| 250/250 [00:06<00:00, 38.93it/s]\n"
     ]
    },
    {
     "name": "stdout",
     "output_type": "stream",
     "text": [
      "Done with size 20x20. Results saved.\n",
      "Currently solving for size 25x25.\n"
     ]
    },
    {
     "name": "stderr",
     "output_type": "stream",
     "text": [
      "100%|██████████| 250/250 [00:14<00:00, 17.30it/s]\n"
     ]
    },
    {
     "name": "stdout",
     "output_type": "stream",
     "text": [
      "Done with size 25x25. Results saved.\n",
      "Currently solving for size 30x30.\n"
     ]
    },
    {
     "name": "stderr",
     "output_type": "stream",
     "text": [
      "100%|██████████| 250/250 [00:28<00:00,  8.85it/s]\n"
     ]
    },
    {
     "name": "stdout",
     "output_type": "stream",
     "text": [
      "Done with size 30x30. Results saved.\n",
      "Currently solving for size 35x35.\n"
     ]
    },
    {
     "name": "stderr",
     "output_type": "stream",
     "text": [
      "100%|██████████| 250/250 [00:50<00:00,  4.96it/s]\n"
     ]
    },
    {
     "name": "stdout",
     "output_type": "stream",
     "text": [
      "Done with size 35x35. Results saved.\n",
      "Currently solving for size 40x40.\n"
     ]
    },
    {
     "name": "stderr",
     "output_type": "stream",
     "text": [
      "100%|██████████| 250/250 [01:22<00:00,  3.04it/s]\n"
     ]
    },
    {
     "name": "stdout",
     "output_type": "stream",
     "text": [
      "Done with size 40x40. Results saved.\n",
      "Currently solving for size 45x45.\n"
     ]
    },
    {
     "name": "stderr",
     "output_type": "stream",
     "text": [
      "100%|██████████| 250/250 [02:21<00:00,  1.77it/s]\n"
     ]
    },
    {
     "name": "stdout",
     "output_type": "stream",
     "text": [
      "Done with size 45x45. Results saved.\n",
      "Currently solving for size 50x50.\n"
     ]
    },
    {
     "name": "stderr",
     "output_type": "stream",
     "text": [
      "100%|██████████| 250/250 [03:22<00:00,  1.24it/s]\n"
     ]
    },
    {
     "name": "stdout",
     "output_type": "stream",
     "text": [
      "Done with size 50x50. Results saved.\n",
      "Currently solving for size 55x55.\n"
     ]
    },
    {
     "name": "stderr",
     "output_type": "stream",
     "text": [
      "100%|██████████| 250/250 [05:07<00:00,  1.23s/it]\n"
     ]
    },
    {
     "name": "stdout",
     "output_type": "stream",
     "text": [
      "Done with size 55x55. Results saved.\n",
      "Currently solving for size 60x60.\n"
     ]
    },
    {
     "name": "stderr",
     "output_type": "stream",
     "text": [
      "100%|██████████| 250/250 [07:44<00:00,  1.86s/it]\n"
     ]
    },
    {
     "name": "stdout",
     "output_type": "stream",
     "text": [
      "Done with size 60x60. Results saved.\n",
      "Currently solving for size 65x65.\n"
     ]
    },
    {
     "name": "stderr",
     "output_type": "stream",
     "text": [
      "100%|██████████| 250/250 [11:07<00:00,  2.67s/it]\n"
     ]
    },
    {
     "name": "stdout",
     "output_type": "stream",
     "text": [
      "Done with size 65x65. Results saved.\n",
      "Currently solving for size 70x70.\n"
     ]
    },
    {
     "name": "stderr",
     "output_type": "stream",
     "text": [
      "100%|██████████| 250/250 [14:52<00:00,  3.57s/it]\n"
     ]
    },
    {
     "name": "stdout",
     "output_type": "stream",
     "text": [
      "Done with size 70x70. Results saved.\n",
      "Currently solving for size 75x75.\n"
     ]
    },
    {
     "name": "stderr",
     "output_type": "stream",
     "text": [
      "100%|██████████| 250/250 [20:31<00:00,  4.92s/it]\n"
     ]
    },
    {
     "name": "stdout",
     "output_type": "stream",
     "text": [
      "Done with size 75x75. Results saved.\n",
      "Currently solving for size 80x80.\n"
     ]
    },
    {
     "name": "stderr",
     "output_type": "stream",
     "text": [
      "100%|██████████| 250/250 [27:13<00:00,  6.53s/it]\n"
     ]
    },
    {
     "name": "stdout",
     "output_type": "stream",
     "text": [
      "Done with size 80x80. Results saved.\n",
      "Currently solving for size 85x85.\n"
     ]
    },
    {
     "name": "stderr",
     "output_type": "stream",
     "text": [
      "100%|██████████| 250/250 [36:04<00:00,  8.66s/it]\n"
     ]
    },
    {
     "name": "stdout",
     "output_type": "stream",
     "text": [
      "Done with size 85x85. Results saved.\n",
      "Currently solving for size 90x90.\n"
     ]
    },
    {
     "name": "stderr",
     "output_type": "stream",
     "text": [
      "100%|██████████| 250/250 [48:40<00:00, 11.68s/it]\n"
     ]
    },
    {
     "name": "stdout",
     "output_type": "stream",
     "text": [
      "Done with size 90x90. Results saved.\n",
      "Currently solving for size 95x95.\n"
     ]
    },
    {
     "name": "stderr",
     "output_type": "stream",
     "text": [
      "100%|██████████| 250/250 [1:00:11<00:00, 14.45s/it]\n"
     ]
    },
    {
     "name": "stdout",
     "output_type": "stream",
     "text": [
      "Done with size 95x95. Results saved.\n",
      "Currently solving for size 100x100.\n"
     ]
    },
    {
     "name": "stderr",
     "output_type": "stream",
     "text": [
      "100%|██████████| 250/250 [1:19:15<00:00, 19.02s/it]"
     ]
    },
    {
     "name": "stdout",
     "output_type": "stream",
     "text": [
      "Done with size 100x100. Results saved.\n"
     ]
    },
    {
     "name": "stderr",
     "output_type": "stream",
     "text": [
      "\n"
     ]
    }
   ],
   "source": [
    "for (x, y) in balanced_sizes:\n",
    "    print(f'Currently solving for size {x}x{y}.')\n",
    "    current_size_results = {}\n",
    "\n",
    "    for i in tqdm(range(1, 251)):\n",
    "        lp_parser.parse_file(os.path.join(balanced_folder, f\"{x}x{y}\", f\"{i}.lp\"))\n",
    "\n",
    "        start_time = time.time()\n",
    "        my_solver_output = dantzig_solver.solve(lp_parser)\n",
    "        end_time = time.time()\n",
    "\n",
    "        my_solver_output['total_time'] = (end_time - start_time) * 1000\n",
    "        current_size_results[f\"{i}.lp\"] = my_solver_output\n",
    "    \n",
    "    with open(os.path.join(balanced_folder, f\"{x}x{y}\", f'bland_results.json'), 'w') as f:\n",
    "        json.dump(current_size_results, f, indent = 4)\n",
    "    \n",
    "    print(f'Done with size {x}x{y}. Results saved.')"
   ]
  },
  {
   "cell_type": "markdown",
   "metadata": {},
   "source": [
    "### Running time of Random"
   ]
  },
  {
   "cell_type": "code",
   "execution_count": 7,
   "metadata": {},
   "outputs": [],
   "source": [
    "random = SimplexSolver(pivot_rule = 'Random')"
   ]
  },
  {
   "cell_type": "code",
   "execution_count": 8,
   "metadata": {},
   "outputs": [
    {
     "name": "stdout",
     "output_type": "stream",
     "text": [
      "Currently solving for size 5x5.\n"
     ]
    },
    {
     "name": "stderr",
     "output_type": "stream",
     "text": [
      "100%|██████████| 250/250 [00:00<00:00, 2055.51it/s]\n"
     ]
    },
    {
     "name": "stdout",
     "output_type": "stream",
     "text": [
      "Done with size 5x5. Results saved.\n",
      "Currently solving for size 10x10.\n"
     ]
    },
    {
     "name": "stderr",
     "output_type": "stream",
     "text": [
      "100%|██████████| 250/250 [00:00<00:00, 355.33it/s]\n"
     ]
    },
    {
     "name": "stdout",
     "output_type": "stream",
     "text": [
      "Done with size 10x10. Results saved.\n",
      "Currently solving for size 15x15.\n"
     ]
    },
    {
     "name": "stderr",
     "output_type": "stream",
     "text": [
      "100%|██████████| 250/250 [00:02<00:00, 100.82it/s]\n"
     ]
    },
    {
     "name": "stdout",
     "output_type": "stream",
     "text": [
      "Done with size 15x15. Results saved.\n",
      "Currently solving for size 20x20.\n"
     ]
    },
    {
     "name": "stderr",
     "output_type": "stream",
     "text": [
      "100%|██████████| 250/250 [00:06<00:00, 38.37it/s]\n"
     ]
    },
    {
     "name": "stdout",
     "output_type": "stream",
     "text": [
      "Done with size 20x20. Results saved.\n",
      "Currently solving for size 25x25.\n"
     ]
    },
    {
     "name": "stderr",
     "output_type": "stream",
     "text": [
      "100%|██████████| 250/250 [00:14<00:00, 17.24it/s]\n"
     ]
    },
    {
     "name": "stdout",
     "output_type": "stream",
     "text": [
      "Done with size 25x25. Results saved.\n",
      "Currently solving for size 30x30.\n"
     ]
    },
    {
     "name": "stderr",
     "output_type": "stream",
     "text": [
      "100%|██████████| 250/250 [00:28<00:00,  8.83it/s]\n"
     ]
    },
    {
     "name": "stdout",
     "output_type": "stream",
     "text": [
      "Done with size 30x30. Results saved.\n",
      "Currently solving for size 35x35.\n"
     ]
    },
    {
     "name": "stderr",
     "output_type": "stream",
     "text": [
      "100%|██████████| 250/250 [00:50<00:00,  4.96it/s]\n"
     ]
    },
    {
     "name": "stdout",
     "output_type": "stream",
     "text": [
      "Done with size 35x35. Results saved.\n",
      "Currently solving for size 40x40.\n"
     ]
    },
    {
     "name": "stderr",
     "output_type": "stream",
     "text": [
      "100%|██████████| 250/250 [01:22<00:00,  3.04it/s]\n"
     ]
    },
    {
     "name": "stdout",
     "output_type": "stream",
     "text": [
      "Done with size 40x40. Results saved.\n",
      "Currently solving for size 45x45.\n"
     ]
    },
    {
     "name": "stderr",
     "output_type": "stream",
     "text": [
      "100%|██████████| 250/250 [02:21<00:00,  1.77it/s]\n"
     ]
    },
    {
     "name": "stdout",
     "output_type": "stream",
     "text": [
      "Done with size 45x45. Results saved.\n",
      "Currently solving for size 50x50.\n"
     ]
    },
    {
     "name": "stderr",
     "output_type": "stream",
     "text": [
      "100%|██████████| 250/250 [03:21<00:00,  1.24it/s]\n"
     ]
    },
    {
     "name": "stdout",
     "output_type": "stream",
     "text": [
      "Done with size 50x50. Results saved.\n",
      "Currently solving for size 55x55.\n"
     ]
    },
    {
     "name": "stderr",
     "output_type": "stream",
     "text": [
      "100%|██████████| 250/250 [05:06<00:00,  1.23s/it]\n"
     ]
    },
    {
     "name": "stdout",
     "output_type": "stream",
     "text": [
      "Done with size 55x55. Results saved.\n",
      "Currently solving for size 60x60.\n"
     ]
    },
    {
     "name": "stderr",
     "output_type": "stream",
     "text": [
      "100%|██████████| 250/250 [07:40<00:00,  1.84s/it]\n"
     ]
    },
    {
     "name": "stdout",
     "output_type": "stream",
     "text": [
      "Done with size 60x60. Results saved.\n",
      "Currently solving for size 65x65.\n"
     ]
    },
    {
     "name": "stderr",
     "output_type": "stream",
     "text": [
      "100%|██████████| 250/250 [11:01<00:00,  2.65s/it]\n"
     ]
    },
    {
     "name": "stdout",
     "output_type": "stream",
     "text": [
      "Done with size 65x65. Results saved.\n",
      "Currently solving for size 70x70.\n"
     ]
    },
    {
     "name": "stderr",
     "output_type": "stream",
     "text": [
      "100%|██████████| 250/250 [14:46<00:00,  3.55s/it]\n"
     ]
    },
    {
     "name": "stdout",
     "output_type": "stream",
     "text": [
      "Done with size 70x70. Results saved.\n",
      "Currently solving for size 75x75.\n"
     ]
    },
    {
     "name": "stderr",
     "output_type": "stream",
     "text": [
      " 90%|█████████ | 225/250 [18:39<02:04,  4.97s/it]\n"
     ]
    },
    {
     "ename": "KeyboardInterrupt",
     "evalue": "",
     "output_type": "error",
     "traceback": [
      "\u001b[1;31m---------------------------------------------------------------------------\u001b[0m",
      "\u001b[1;31mKeyboardInterrupt\u001b[0m                         Traceback (most recent call last)",
      "Cell \u001b[1;32mIn[8], line 9\u001b[0m\n\u001b[0;32m      6\u001b[0m lp_parser\u001b[38;5;241m.\u001b[39mparse_file(os\u001b[38;5;241m.\u001b[39mpath\u001b[38;5;241m.\u001b[39mjoin(balanced_folder, \u001b[38;5;124mf\u001b[39m\u001b[38;5;124m\"\u001b[39m\u001b[38;5;132;01m{\u001b[39;00mx\u001b[38;5;132;01m}\u001b[39;00m\u001b[38;5;124mx\u001b[39m\u001b[38;5;132;01m{\u001b[39;00my\u001b[38;5;132;01m}\u001b[39;00m\u001b[38;5;124m\"\u001b[39m, \u001b[38;5;124mf\u001b[39m\u001b[38;5;124m\"\u001b[39m\u001b[38;5;132;01m{\u001b[39;00mi\u001b[38;5;132;01m}\u001b[39;00m\u001b[38;5;124m.lp\u001b[39m\u001b[38;5;124m\"\u001b[39m))\n\u001b[0;32m      8\u001b[0m start_time \u001b[38;5;241m=\u001b[39m time\u001b[38;5;241m.\u001b[39mtime()\n\u001b[1;32m----> 9\u001b[0m my_solver_output \u001b[38;5;241m=\u001b[39m \u001b[43mdantzig_solver\u001b[49m\u001b[38;5;241;43m.\u001b[39;49m\u001b[43msolve\u001b[49m\u001b[43m(\u001b[49m\u001b[43mlp_parser\u001b[49m\u001b[43m)\u001b[49m\n\u001b[0;32m     10\u001b[0m end_time \u001b[38;5;241m=\u001b[39m time\u001b[38;5;241m.\u001b[39mtime()\n\u001b[0;32m     12\u001b[0m my_solver_output[\u001b[38;5;124m'\u001b[39m\u001b[38;5;124mtotal_time\u001b[39m\u001b[38;5;124m'\u001b[39m] \u001b[38;5;241m=\u001b[39m (end_time \u001b[38;5;241m-\u001b[39m start_time) \u001b[38;5;241m*\u001b[39m \u001b[38;5;241m1000\u001b[39m\n",
      "File \u001b[1;32mc:\\Users\\Andrei\\Desktop\\Collection\\Year_5\\Level 5 Project\\Level5Project\\simplex_solver.py:133\u001b[0m, in \u001b[0;36mSimplexSolver.solve\u001b[1;34m(self, lp_parser)\u001b[0m\n\u001b[0;32m    130\u001b[0m current_basis \u001b[38;5;241m=\u001b[39m \u001b[38;5;28mself\u001b[39m\u001b[38;5;241m.\u001b[39mall_variables[\u001b[38;5;28mself\u001b[39m\u001b[38;5;241m.\u001b[39mnum_variables:]\n\u001b[0;32m    132\u001b[0m start_time \u001b[38;5;241m=\u001b[39m time\u001b[38;5;241m.\u001b[39mtime()\n\u001b[1;32m--> 133\u001b[0m final_solution \u001b[38;5;241m=\u001b[39m \u001b[38;5;28;43mself\u001b[39;49m\u001b[38;5;241;43m.\u001b[39;49m\u001b[43msolve_tableau\u001b[49m\u001b[43m(\u001b[49m\u001b[43mtableau\u001b[49m\u001b[43m,\u001b[49m\u001b[43m \u001b[49m\u001b[43mcurrent_basis\u001b[49m\u001b[43m)\u001b[49m\n\u001b[0;32m    134\u001b[0m end_time \u001b[38;5;241m=\u001b[39m time\u001b[38;5;241m.\u001b[39mtime()\n\u001b[0;32m    135\u001b[0m final_solution[\u001b[38;5;124m\"\u001b[39m\u001b[38;5;124mfirst_phase_time\u001b[39m\u001b[38;5;124m\"\u001b[39m] \u001b[38;5;241m=\u001b[39m (end_time \u001b[38;5;241m-\u001b[39m start_time) \u001b[38;5;241m*\u001b[39m \u001b[38;5;241m1000\u001b[39m\n",
      "File \u001b[1;32mc:\\Users\\Andrei\\Desktop\\Collection\\Year_5\\Level 5 Project\\Level5Project\\simplex_solver.py:222\u001b[0m, in \u001b[0;36mSimplexSolver.solve_tableau\u001b[1;34m(self, tableau, current_basis)\u001b[0m\n\u001b[0;32m    219\u001b[0m     leaving_variable_index \u001b[38;5;241m=\u001b[39m np\u001b[38;5;241m.\u001b[39margmin(positive_ratios)\n\u001b[0;32m    220\u001b[0m     leaving_variable_index \u001b[38;5;241m=\u001b[39m np\u001b[38;5;241m.\u001b[39mwhere(ratios \u001b[38;5;241m==\u001b[39m positive_ratios[leaving_variable_index])[\u001b[38;5;241m0\u001b[39m][\u001b[38;5;241m0\u001b[39m]\n\u001b[1;32m--> 222\u001b[0m \u001b[38;5;28;43mself\u001b[39;49m\u001b[38;5;241;43m.\u001b[39;49m\u001b[43mperform_pivot_operation\u001b[49m\u001b[43m(\u001b[49m\u001b[43mtableau\u001b[49m\u001b[43m,\u001b[49m\u001b[43m \u001b[49m\u001b[43mpivot_column\u001b[49m\u001b[43m,\u001b[49m\u001b[43m \u001b[49m\u001b[43mleaving_variable_index\u001b[49m\u001b[43m)\u001b[49m\n\u001b[0;32m    224\u001b[0m \u001b[38;5;66;03m# Update state\u001b[39;00m\n\u001b[0;32m    225\u001b[0m num_pivot_steps \u001b[38;5;241m+\u001b[39m\u001b[38;5;241m=\u001b[39m \u001b[38;5;241m1\u001b[39m\n",
      "File \u001b[1;32mc:\\Users\\Andrei\\Desktop\\Collection\\Year_5\\Level 5 Project\\Level5Project\\simplex_solver.py:151\u001b[0m, in \u001b[0;36mSimplexSolver.perform_pivot_operation\u001b[1;34m(self, tableau, pivot_column, leaving_variable_index)\u001b[0m\n\u001b[0;32m    148\u001b[0m \u001b[38;5;28;01mif\u001b[39;00m tableau[i, pivot_column] \u001b[38;5;241m==\u001b[39m \u001b[38;5;241m0\u001b[39m:\n\u001b[0;32m    149\u001b[0m     \u001b[38;5;28;01mcontinue\u001b[39;00m\n\u001b[1;32m--> 151\u001b[0m \u001b[43mtableau\u001b[49m\u001b[43m[\u001b[49m\u001b[43mi\u001b[49m\u001b[43m,\u001b[49m\u001b[43m \u001b[49m\u001b[43m:\u001b[49m\u001b[43m]\u001b[49m\u001b[43m \u001b[49m\u001b[38;5;241;43m-\u001b[39;49m\u001b[38;5;241;43m=\u001b[39;49m\u001b[43m \u001b[49m\u001b[43mtableau\u001b[49m\u001b[43m[\u001b[49m\u001b[43mleaving_variable_index\u001b[49m\u001b[43m,\u001b[49m\u001b[43m \u001b[49m\u001b[43m:\u001b[49m\u001b[43m]\u001b[49m\u001b[43m \u001b[49m\u001b[38;5;241;43m*\u001b[39;49m\u001b[43m \u001b[49m\u001b[43mtableau\u001b[49m\u001b[43m[\u001b[49m\u001b[43mi\u001b[49m\u001b[43m,\u001b[49m\u001b[43m \u001b[49m\u001b[43mpivot_column\u001b[49m\u001b[43m]\u001b[49m\n",
      "File \u001b[1;32mc:\\Users\\Andrei\\AppData\\Local\\Programs\\Python\\Python311\\Lib\\fractions.py:359\u001b[0m, in \u001b[0;36mFraction._operator_fallbacks.<locals>.forward\u001b[1;34m(a, b)\u001b[0m\n\u001b[0;32m    357\u001b[0m \u001b[38;5;28;01mdef\u001b[39;00m\u001b[38;5;250m \u001b[39m\u001b[38;5;21mforward\u001b[39m(a, b):\n\u001b[0;32m    358\u001b[0m     \u001b[38;5;28;01mif\u001b[39;00m \u001b[38;5;28misinstance\u001b[39m(b, (\u001b[38;5;28mint\u001b[39m, Fraction)):\n\u001b[1;32m--> 359\u001b[0m         \u001b[38;5;28;01mreturn\u001b[39;00m \u001b[43mmonomorphic_operator\u001b[49m\u001b[43m(\u001b[49m\u001b[43ma\u001b[49m\u001b[43m,\u001b[49m\u001b[43m \u001b[49m\u001b[43mb\u001b[49m\u001b[43m)\u001b[49m\n\u001b[0;32m    360\u001b[0m     \u001b[38;5;28;01melif\u001b[39;00m \u001b[38;5;28misinstance\u001b[39m(b, \u001b[38;5;28mfloat\u001b[39m):\n\u001b[0;32m    361\u001b[0m         \u001b[38;5;28;01mreturn\u001b[39;00m fallback_operator(\u001b[38;5;28mfloat\u001b[39m(a), b)\n",
      "File \u001b[1;32mc:\\Users\\Andrei\\AppData\\Local\\Programs\\Python\\Python311\\Lib\\fractions.py:475\u001b[0m, in \u001b[0;36mFraction._sub\u001b[1;34m(a, b)\u001b[0m\n\u001b[0;32m    473\u001b[0m \u001b[38;5;28;01mif\u001b[39;00m g \u001b[38;5;241m==\u001b[39m \u001b[38;5;241m1\u001b[39m:\n\u001b[0;32m    474\u001b[0m     \u001b[38;5;28;01mreturn\u001b[39;00m Fraction(na \u001b[38;5;241m*\u001b[39m db \u001b[38;5;241m-\u001b[39m da \u001b[38;5;241m*\u001b[39m nb, da \u001b[38;5;241m*\u001b[39m db, _normalize\u001b[38;5;241m=\u001b[39m\u001b[38;5;28;01mFalse\u001b[39;00m)\n\u001b[1;32m--> 475\u001b[0m s \u001b[38;5;241m=\u001b[39m \u001b[43mda\u001b[49m\u001b[43m \u001b[49m\u001b[38;5;241;43m/\u001b[39;49m\u001b[38;5;241;43m/\u001b[39;49m\u001b[43m \u001b[49m\u001b[43mg\u001b[49m\n\u001b[0;32m    476\u001b[0m t \u001b[38;5;241m=\u001b[39m na \u001b[38;5;241m*\u001b[39m (db \u001b[38;5;241m/\u001b[39m\u001b[38;5;241m/\u001b[39m g) \u001b[38;5;241m-\u001b[39m nb \u001b[38;5;241m*\u001b[39m s\n\u001b[0;32m    477\u001b[0m g2 \u001b[38;5;241m=\u001b[39m math\u001b[38;5;241m.\u001b[39mgcd(t, g)\n",
      "\u001b[1;31mKeyboardInterrupt\u001b[0m: "
     ]
    }
   ],
   "source": [
    "for (x, y) in balanced_sizes:\n",
    "    print(f'Currently solving for size {x}x{y}.')\n",
    "    current_size_results = {}\n",
    "\n",
    "    for i in tqdm(range(1, 251)):\n",
    "        lp_parser.parse_file(os.path.join(balanced_folder, f\"{x}x{y}\", f\"{i}.lp\"))\n",
    "\n",
    "        start_time = time.time()\n",
    "        my_solver_output = dantzig_solver.solve(lp_parser)\n",
    "        end_time = time.time()\n",
    "\n",
    "        my_solver_output['total_time'] = (end_time - start_time) * 1000\n",
    "        current_size_results[f\"{i}.lp\"] = my_solver_output\n",
    "    \n",
    "    with open(os.path.join(balanced_folder, f\"{x}x{y}\", f'random_results.json'), 'w') as f:\n",
    "        json.dump(current_size_results, f, indent = 4)\n",
    "    \n",
    "    print(f'Done with size {x}x{y}. Results saved.')"
   ]
  },
  {
   "cell_type": "markdown",
   "metadata": {},
   "source": [
    "### Plot of running time of Dantzig"
   ]
  },
  {
   "cell_type": "code",
   "execution_count": null,
   "metadata": {},
   "outputs": [
    {
     "name": "stdout",
     "output_type": "stream",
     "text": [
      "[5, 10, 15, 20, 25, 30, 35, 40, 45, 50, 55, 60, 65, 70, 75, 80, 85, 90, 95, 100]\n"
     ]
    },
    {
     "data": {
      "image/png": "[encoded data removed]",
      "text/plain": [
       "<Figure size 1000x600 with 1 Axes>"
      ]
     },
     "metadata": {},
     "output_type": "display_data"
    }
   ],
   "source": [
    "import matplotlib.pyplot as plt\n",
    "\n",
    "# Store results for plotting\n",
    "sizes = []\n",
    "avg_pivot_steps = []\n",
    "\n",
    "# Loop through each problem size folder (5x5, 10x10, ..., 100x100)\n",
    "for size in range(5, 101, 5):\n",
    "    folder_name = f\"{size}x{size}\"\n",
    "    file_path = os.path.join(balanced_folder, folder_name, \"dantzig_results.json\")\n",
    "\n",
    "    if not os.path.exists(file_path):\n",
    "        print(f\"Skipping {folder_name}, file not found.\")\n",
    "        continue\n",
    "\n",
    "    # Load JSON results\n",
    "    with open(file_path, \"r\") as f:\n",
    "        results = json.load(f)\n",
    "\n",
    "    # Extract pivot steps from all instances\n",
    "    pivot_steps = [results[f\"{i}.lp\"][\"num_pivot_steps\"] for i in range(1, 251)]\n",
    "\n",
    "    # Compute average pivot steps\n",
    "    avg_pivot = sum(pivot_steps) / len(pivot_steps)\n",
    "    \n",
    "    # Store results for plotting\n",
    "    sizes.append(size)\n",
    "    avg_pivot_steps.append(avg_pivot)\n",
    "\n",
    "# Plot results\n",
    "plt.figure(figsize=(10, 6))\n",
    "plt.plot(sizes, avg_pivot_steps, marker=\"o\", linestyle=\"-\", color=\"b\", label=\"Dantzig's Rule\")\n",
    "\n",
    "plt.xlabel(\"Problem Size (n = m)\")\n",
    "plt.ylabel(\"Average Number of Pivot Steps\")\n",
    "plt.title(\"Pivot Steps vs. Problem Size for Dantzig's Rule\")\n",
    "plt.legend()\n",
    "plt.grid(True)\n",
    "plt.show()"
   ]
  }
 ],
 "metadata": {
  "kernelspec": {
   "display_name": "Python 3",
   "language": "python",
   "name": "python3"
  },
  "language_info": {
   "codemirror_mode": {
    "name": "ipython",
    "version": 3
   },
   "file_extension": ".py",
   "mimetype": "text/x-python",
   "name": "python",
   "nbconvert_exporter": "python",
   "pygments_lexer": "ipython3",
   "version": "3.11.9"
  }
 },
 "nbformat": 4,
 "nbformat_minor": 2
}
