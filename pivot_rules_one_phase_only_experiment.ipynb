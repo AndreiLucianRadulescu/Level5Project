{
 "cells": [
  {
   "cell_type": "markdown",
   "metadata": {},
   "source": [
    "## Experiment Design\n",
    "\n",
    "This notebook aims to compare different pivot rules for randomly generated linear programs that *always have the origin point as the starting solution*.  \n",
    "To achieve this, I will consider three main categories of problems:\n",
    "\n",
    "### **1. Balanced Problems (m = n)**  \n",
    "These are square linear programs where the number of constraints equals the number of variables. I will generate instances in increments of 5, covering the following sizes:\n",
    "\n",
    "- (5×5), (10×10), (15×15), (20×20), (25×25), (30×30), (35×35), (40×40), (45×45), (50×50)\n",
    "- (55×55), (60×60), (65×65), (70×70), (75×75), (80×80), (85×85), (90×90), (95×95), (100×100)\n",
    "\n",
    "### **2. Wide Problems (m < n, n = 2m)**  \n",
    "These problems have twice as many variables as constraints, representing underdetermined systems. The chosen sizes are:\n",
    "\n",
    "- (5×10), (10×20), (15×30), (20×40), (25×50), (30×60), (35×70), (40×80), (45×90), (50×100)\n",
    "\n",
    "### **3. Tall Problems (m > n, m = 2n)**  \n",
    "These problems have twice as many constraints as variables, representing overdetermined systems. The chosen sizes are:\n",
    "\n",
    "- (10×5), (20×10), (30×15), (40×20), (50×25), (60×30), (70×35), (80×40), (90×45), (100×50)\n",
    "\n",
    "## **Number of Instances per Category**  \n",
    "To ensure sufficient variation across different problem sizes, I will generate 250 problems per subcategory. This is because I also want to make the running time feasible.\n",
    "\n",
    "This results in a total of **20,000 randomly generated problems** for the experiment.\n",
    "\n",
    "## **Metrics for Comparison**  \n",
    "To evaluate the performance of different pivot rules, I will measure:\n",
    "\n",
    "1. **Number of iterations (pivot steps) taken** to reach optimality\n",
    "2. **Computation time** for each problem instance"
   ]
  },
  {
   "cell_type": "markdown",
   "metadata": {},
   "source": [
    "## Imports, setup and problems creation"
   ]
  },
  {
   "cell_type": "code",
   "execution_count": 7,
   "metadata": {},
   "outputs": [],
   "source": [
    "\n",
    "import random\n",
    "import os\n",
    "import sys\n",
    "from dense_lp_generator import DenseLPGenerator\n",
    "from simplex_solver import SimplexSolver\n",
    "from input_parser import LPParser\n",
    "\n",
    "# IMPORTANT: Set random seed for reproducibility.\n",
    "random.seed(42)\n",
    "\n",
    "balanced_sizes = [(i, i) for i in range(5, 101, 5)]\n",
    "wide_sizes = [(i, 2*i) for i in range(5, 51, 5)]\n",
    "tall_sizes = [(2*i, i) for i in range(5, 51, 5)]\n",
    "root_folder = os.path.join('problems', 'problems_pivot_rules_one_phase_only')\n",
    "balanced_folder = os.path.join(root_folder, 'balanced_problems')\n",
    "wide_folder = os.path.join(root_folder, 'wide_problems')\n",
    "tall_folder = os.path.join(root_folder, 'tall_problems')\n",
    "random_dense_gen = DenseLPGenerator(precision = 4)\n",
    "\n",
    "if not os.path.exists(root_folder):\n",
    "    os.mkdir(root_folder)\n",
    "\n",
    "if not os.path.exists(balanced_folder):\n",
    "    os.mkdir(balanced_folder)\n",
    "    \n",
    "if not os.path.exists(wide_folder):\n",
    "    os.mkdir(wide_folder)\n",
    "    \n",
    "if not os.path.exists(tall_folder):\n",
    "    os.mkdir(tall_folder)"
   ]
  },
  {
   "cell_type": "markdown",
   "metadata": {},
   "source": [
    "### Generating the balanced problems"
   ]
  },
  {
   "cell_type": "code",
   "execution_count": 2,
   "metadata": {},
   "outputs": [],
   "source": [
    "for (x, y) in balanced_sizes:\n",
    "    current_size_folder = os.path.join(balanced_folder, f'{x}x{y}')\n",
    "    if not os.path.exists(current_size_folder):\n",
    "        os.mkdir(current_size_folder)\n",
    "    \n",
    "    for i in range(250):\n",
    "        random_dense_gen.generate_dense_lp(os.path.join(current_size_folder, f\"{i+1}.lp\"), x, y)"
   ]
  },
  {
   "cell_type": "markdown",
   "metadata": {},
   "source": [
    "### Generating the wide problems"
   ]
  },
  {
   "cell_type": "code",
   "execution_count": 6,
   "metadata": {},
   "outputs": [
    {
     "ename": "KeyboardInterrupt",
     "evalue": "",
     "output_type": "error",
     "traceback": [
      "\u001b[1;31m---------------------------------------------------------------------------\u001b[0m",
      "\u001b[1;31mKeyboardInterrupt\u001b[0m                         Traceback (most recent call last)",
      "Cell \u001b[1;32mIn[6], line 7\u001b[0m\n\u001b[0;32m      4\u001b[0m     os\u001b[38;5;241m.\u001b[39mmkdir(current_size_folder)\n\u001b[0;32m      6\u001b[0m \u001b[38;5;28;01mfor\u001b[39;00m i \u001b[38;5;129;01min\u001b[39;00m \u001b[38;5;28mrange\u001b[39m(\u001b[38;5;241m250\u001b[39m):\n\u001b[1;32m----> 7\u001b[0m     \u001b[43mrandom_dense_gen\u001b[49m\u001b[38;5;241;43m.\u001b[39;49m\u001b[43mgenerate_dense_lp\u001b[49m\u001b[43m(\u001b[49m\u001b[43mos\u001b[49m\u001b[38;5;241;43m.\u001b[39;49m\u001b[43mpath\u001b[49m\u001b[38;5;241;43m.\u001b[39;49m\u001b[43mjoin\u001b[49m\u001b[43m(\u001b[49m\u001b[43mcurrent_size_folder\u001b[49m\u001b[43m,\u001b[49m\u001b[43m \u001b[49m\u001b[38;5;124;43mf\u001b[39;49m\u001b[38;5;124;43m\"\u001b[39;49m\u001b[38;5;132;43;01m{\u001b[39;49;00m\u001b[43mi\u001b[49m\u001b[38;5;241;43m+\u001b[39;49m\u001b[38;5;241;43m1\u001b[39;49m\u001b[38;5;132;43;01m}\u001b[39;49;00m\u001b[38;5;124;43m.lp\u001b[39;49m\u001b[38;5;124;43m\"\u001b[39;49m\u001b[43m)\u001b[49m\u001b[43m,\u001b[49m\u001b[43m \u001b[49m\u001b[43mx\u001b[49m\u001b[43m,\u001b[49m\u001b[43m \u001b[49m\u001b[43my\u001b[49m\u001b[43m)\u001b[49m\n",
      "File \u001b[1;32mc:\\Users\\Andrei\\Desktop\\Collection\\Year_5\\Level 5 Project\\Level5Project\\dense_lp_generator.py:34\u001b[0m, in \u001b[0;36mDenseLPGenerator.generate_dense_lp\u001b[1;34m(self, filepath, num_variables, num_constraints, maximize)\u001b[0m\n\u001b[0;32m     24\u001b[0m \u001b[38;5;28;01mdef\u001b[39;00m\u001b[38;5;250m \u001b[39m\u001b[38;5;21mgenerate_dense_lp\u001b[39m(\u001b[38;5;28mself\u001b[39m, filepath, num_variables, num_constraints, maximize\u001b[38;5;241m=\u001b[39m\u001b[38;5;28;01mTrue\u001b[39;00m):\n\u001b[0;32m     25\u001b[0m \u001b[38;5;250m    \u001b[39m\u001b[38;5;124;03m\"\"\"\u001b[39;00m\n\u001b[0;32m     26\u001b[0m \u001b[38;5;124;03m    Generate a dense linear program with origin as a feasible point.\u001b[39;00m\n\u001b[0;32m     27\u001b[0m \u001b[38;5;124;03m    \u001b[39;00m\n\u001b[1;32m   (...)\u001b[0m\n\u001b[0;32m     32\u001b[0m \u001b[38;5;124;03m        maximize: True for maximization, False for minimization\u001b[39;00m\n\u001b[0;32m     33\u001b[0m \u001b[38;5;124;03m    \"\"\"\u001b[39;00m\n\u001b[1;32m---> 34\u001b[0m \u001b[43m    \u001b[49m\u001b[38;5;28;43;01mwith\u001b[39;49;00m\u001b[43m \u001b[49m\u001b[38;5;28;43mopen\u001b[39;49m\u001b[43m(\u001b[49m\u001b[43mfilepath\u001b[49m\u001b[43m,\u001b[49m\u001b[43m \u001b[49m\u001b[38;5;124;43m'\u001b[39;49m\u001b[38;5;124;43mw\u001b[39;49m\u001b[38;5;124;43m'\u001b[39;49m\u001b[43m)\u001b[49m\u001b[43m \u001b[49m\u001b[38;5;28;43;01mas\u001b[39;49;00m\u001b[43m \u001b[49m\u001b[43mf\u001b[49m\u001b[43m:\u001b[49m\n\u001b[0;32m     35\u001b[0m \u001b[43m        \u001b[49m\u001b[43mf\u001b[49m\u001b[38;5;241;43m.\u001b[39;49m\u001b[43mwrite\u001b[49m\u001b[43m(\u001b[49m\u001b[38;5;124;43m'\u001b[39;49m\u001b[38;5;124;43mMaximize\u001b[39;49m\u001b[38;5;130;43;01m\\n\u001b[39;49;00m\u001b[38;5;124;43m'\u001b[39;49m\u001b[43m \u001b[49m\u001b[38;5;28;43;01mif\u001b[39;49;00m\u001b[43m \u001b[49m\u001b[43mmaximize\u001b[49m\u001b[43m \u001b[49m\u001b[38;5;28;43;01melse\u001b[39;49;00m\u001b[43m \u001b[49m\u001b[38;5;124;43m'\u001b[39;49m\u001b[38;5;124;43mMinimize\u001b[39;49m\u001b[38;5;130;43;01m\\n\u001b[39;49;00m\u001b[38;5;124;43m'\u001b[39;49m\u001b[43m)\u001b[49m\n\u001b[0;32m     37\u001b[0m \u001b[43m        \u001b[49m\u001b[38;5;66;43;03m# Generate and write objective function\u001b[39;49;00m\n",
      "\u001b[1;31mKeyboardInterrupt\u001b[0m: "
     ]
    }
   ],
   "source": [
    "for (x, y) in wide_sizes:\n",
    "    current_size_folder = os.path.join(wide_folder, f'{x}x{y}')\n",
    "    if not os.path.exists(current_size_folder):\n",
    "        os.mkdir(current_size_folder)\n",
    "    \n",
    "    for i in range(250):\n",
    "        random_dense_gen.generate_dense_lp(os.path.join(current_size_folder, f\"{i+1}.lp\"), x, y)"
   ]
  },
  {
   "cell_type": "markdown",
   "metadata": {},
   "source": [
    "### Generating the tall problems"
   ]
  },
  {
   "cell_type": "code",
   "execution_count": 4,
   "metadata": {},
   "outputs": [],
   "source": [
    "for (x, y) in tall_sizes:\n",
    "    current_size_folder = os.path.join(tall_folder, f'{x}x{y}')\n",
    "    if not os.path.exists(current_size_folder):\n",
    "        os.mkdir(current_size_folder)\n",
    "    \n",
    "    for i in range(250):\n",
    "        random_dense_gen.generate_dense_lp(os.path.join(current_size_folder, f\"{i+1}.lp\"), x, y)"
   ]
  },
  {
   "cell_type": "markdown",
   "metadata": {},
   "source": [
    "## The first experiment - Running time for balanced problems\n",
    "This experiment aims to plot the average time of Dantzig's pivot rule for all problem sizes, in order to establish a feasible upper bound for our problem sizes, i.e. to be able to run the experiment in a timely manner"
   ]
  },
  {
   "cell_type": "code",
   "execution_count": 8,
   "metadata": {},
   "outputs": [],
   "source": [
    "import json\n",
    "import time\n",
    "from tqdm import tqdm\n",
    "dantzig_solver = SimplexSolver(pivot_rule = 'Dantzig')\n",
    "lp_parser = LPParser()"
   ]
  },
  {
   "cell_type": "markdown",
   "metadata": {},
   "source": [
    "### Running Dantzig on balanced problems"
   ]
  },
  {
   "cell_type": "code",
   "execution_count": 4,
   "metadata": {},
   "outputs": [
    {
     "name": "stdout",
     "output_type": "stream",
     "text": [
      "Currently solving for size 5x5.\n"
     ]
    },
    {
     "name": "stderr",
     "output_type": "stream",
     "text": [
      "100%|██████████| 250/250 [00:00<00:00, 1774.08it/s]\n"
     ]
    },
    {
     "name": "stdout",
     "output_type": "stream",
     "text": [
      "Done with size 5x5. Results saved.\n",
      "Currently solving for size 10x10.\n"
     ]
    },
    {
     "name": "stderr",
     "output_type": "stream",
     "text": [
      "100%|██████████| 250/250 [00:00<00:00, 359.20it/s]\n"
     ]
    },
    {
     "name": "stdout",
     "output_type": "stream",
     "text": [
      "Done with size 10x10. Results saved.\n",
      "Currently solving for size 15x15.\n"
     ]
    },
    {
     "name": "stderr",
     "output_type": "stream",
     "text": [
      "100%|██████████| 250/250 [00:02<00:00, 101.10it/s]\n"
     ]
    },
    {
     "name": "stdout",
     "output_type": "stream",
     "text": [
      "Done with size 15x15. Results saved.\n",
      "Currently solving for size 20x20.\n"
     ]
    },
    {
     "name": "stderr",
     "output_type": "stream",
     "text": [
      "100%|██████████| 250/250 [00:07<00:00, 33.79it/s]\n"
     ]
    },
    {
     "name": "stdout",
     "output_type": "stream",
     "text": [
      "Done with size 20x20. Results saved.\n",
      "Currently solving for size 25x25.\n"
     ]
    },
    {
     "name": "stderr",
     "output_type": "stream",
     "text": [
      "100%|██████████| 250/250 [00:15<00:00, 15.64it/s]\n"
     ]
    },
    {
     "name": "stdout",
     "output_type": "stream",
     "text": [
      "Done with size 25x25. Results saved.\n",
      "Currently solving for size 30x30.\n"
     ]
    },
    {
     "name": "stderr",
     "output_type": "stream",
     "text": [
      "100%|██████████| 250/250 [00:30<00:00,  8.28it/s]\n"
     ]
    },
    {
     "name": "stdout",
     "output_type": "stream",
     "text": [
      "Done with size 30x30. Results saved.\n",
      "Currently solving for size 35x35.\n"
     ]
    },
    {
     "name": "stderr",
     "output_type": "stream",
     "text": [
      "100%|██████████| 250/250 [00:52<00:00,  4.76it/s]\n"
     ]
    },
    {
     "name": "stdout",
     "output_type": "stream",
     "text": [
      "Done with size 35x35. Results saved.\n",
      "Currently solving for size 40x40.\n"
     ]
    },
    {
     "name": "stderr",
     "output_type": "stream",
     "text": [
      "100%|██████████| 250/250 [01:24<00:00,  2.97it/s]\n"
     ]
    },
    {
     "name": "stdout",
     "output_type": "stream",
     "text": [
      "Done with size 40x40. Results saved.\n",
      "Currently solving for size 45x45.\n"
     ]
    },
    {
     "name": "stderr",
     "output_type": "stream",
     "text": [
      "100%|██████████| 250/250 [02:22<00:00,  1.75it/s]\n"
     ]
    },
    {
     "name": "stdout",
     "output_type": "stream",
     "text": [
      "Done with size 45x45. Results saved.\n",
      "Currently solving for size 50x50.\n"
     ]
    },
    {
     "name": "stderr",
     "output_type": "stream",
     "text": [
      "100%|██████████| 250/250 [03:24<00:00,  1.23it/s]\n"
     ]
    },
    {
     "name": "stdout",
     "output_type": "stream",
     "text": [
      "Done with size 50x50. Results saved.\n",
      "Currently solving for size 55x55.\n"
     ]
    },
    {
     "name": "stderr",
     "output_type": "stream",
     "text": [
      "100%|██████████| 250/250 [05:09<00:00,  1.24s/it]\n"
     ]
    },
    {
     "name": "stdout",
     "output_type": "stream",
     "text": [
      "Done with size 55x55. Results saved.\n",
      "Currently solving for size 60x60.\n"
     ]
    },
    {
     "name": "stderr",
     "output_type": "stream",
     "text": [
      "100%|██████████| 250/250 [07:44<00:00,  1.86s/it]\n"
     ]
    },
    {
     "name": "stdout",
     "output_type": "stream",
     "text": [
      "Done with size 60x60. Results saved.\n",
      "Currently solving for size 65x65.\n"
     ]
    },
    {
     "name": "stderr",
     "output_type": "stream",
     "text": [
      "100%|██████████| 250/250 [11:05<00:00,  2.66s/it]\n"
     ]
    },
    {
     "name": "stdout",
     "output_type": "stream",
     "text": [
      "Done with size 65x65. Results saved.\n",
      "Currently solving for size 70x70.\n"
     ]
    },
    {
     "name": "stderr",
     "output_type": "stream",
     "text": [
      "100%|██████████| 250/250 [14:56<00:00,  3.59s/it]\n"
     ]
    },
    {
     "name": "stdout",
     "output_type": "stream",
     "text": [
      "Done with size 70x70. Results saved.\n",
      "Currently solving for size 75x75.\n"
     ]
    },
    {
     "name": "stderr",
     "output_type": "stream",
     "text": [
      "100%|██████████| 250/250 [20:39<00:00,  4.96s/it]\n"
     ]
    },
    {
     "name": "stdout",
     "output_type": "stream",
     "text": [
      "Done with size 75x75. Results saved.\n",
      "Currently solving for size 80x80.\n"
     ]
    },
    {
     "name": "stderr",
     "output_type": "stream",
     "text": [
      "100%|██████████| 250/250 [27:23<00:00,  6.58s/it]\n"
     ]
    },
    {
     "name": "stdout",
     "output_type": "stream",
     "text": [
      "Done with size 80x80. Results saved.\n",
      "Currently solving for size 85x85.\n"
     ]
    },
    {
     "name": "stderr",
     "output_type": "stream",
     "text": [
      "100%|██████████| 250/250 [36:10<00:00,  8.68s/it]\n"
     ]
    },
    {
     "name": "stdout",
     "output_type": "stream",
     "text": [
      "Done with size 85x85. Results saved.\n",
      "Currently solving for size 90x90.\n"
     ]
    },
    {
     "name": "stderr",
     "output_type": "stream",
     "text": [
      "100%|██████████| 250/250 [48:49<00:00, 11.72s/it]\n"
     ]
    },
    {
     "name": "stdout",
     "output_type": "stream",
     "text": [
      "Done with size 90x90. Results saved.\n",
      "Currently solving for size 95x95.\n"
     ]
    },
    {
     "name": "stderr",
     "output_type": "stream",
     "text": [
      "100%|██████████| 250/250 [1:00:27<00:00, 14.51s/it]\n"
     ]
    },
    {
     "name": "stdout",
     "output_type": "stream",
     "text": [
      "Done with size 95x95. Results saved.\n",
      "Currently solving for size 100x100.\n"
     ]
    },
    {
     "name": "stderr",
     "output_type": "stream",
     "text": [
      "100%|██████████| 250/250 [1:19:17<00:00, 19.03s/it]"
     ]
    },
    {
     "name": "stdout",
     "output_type": "stream",
     "text": [
      "Done with size 100x100. Results saved.\n"
     ]
    },
    {
     "name": "stderr",
     "output_type": "stream",
     "text": [
      "\n"
     ]
    }
   ],
   "source": [
    "for (x, y) in balanced_sizes:\n",
    "    print(f'Currently solving for size {x}x{y}.')\n",
    "    current_size_results = {}\n",
    "\n",
    "    for i in tqdm(range(1, 251)):\n",
    "        lp_parser.parse_file(os.path.join(balanced_folder, f\"{x}x{y}\", f\"{i}.lp\"))\n",
    "\n",
    "        start_time = time.time()\n",
    "        my_solver_output = dantzig_solver.solve(lp_parser)\n",
    "        end_time = time.time()\n",
    "\n",
    "        my_solver_output['total_time'] = (end_time - start_time) * 1000\n",
    "        current_size_results[f\"{i}.lp\"] = my_solver_output\n",
    "    \n",
    "    with open(os.path.join(balanced_folder, f\"{x}x{y}\", f'dantzig_results.json'), 'w') as f:\n",
    "        json.dump(current_size_results, f, indent = 4)\n",
    "    \n",
    "    print(f'Done with size {x}x{y}. Results saved.')"
   ]
  },
  {
   "cell_type": "markdown",
   "metadata": {},
   "source": [
    "### Running time of Random"
   ]
  },
  {
   "cell_type": "code",
   "execution_count": 10,
   "metadata": {},
   "outputs": [],
   "source": [
    "random_solver = SimplexSolver(pivot_rule = 'Random')"
   ]
  },
  {
   "cell_type": "code",
   "execution_count": 8,
   "metadata": {},
   "outputs": [
    {
     "name": "stdout",
     "output_type": "stream",
     "text": [
      "Currently solving for size 90x90.\n"
     ]
    },
    {
     "name": "stderr",
     "output_type": "stream",
     "text": [
      "100%|██████████| 250/250 [1:39:23<00:00, 23.85s/it]\n"
     ]
    },
    {
     "name": "stdout",
     "output_type": "stream",
     "text": [
      "Done with size 90x90. Results saved.\n",
      "Currently solving for size 95x95.\n"
     ]
    },
    {
     "name": "stderr",
     "output_type": "stream",
     "text": [
      "100%|██████████| 250/250 [2:05:17<00:00, 30.07s/it]  \n"
     ]
    },
    {
     "name": "stdout",
     "output_type": "stream",
     "text": [
      "Done with size 95x95. Results saved.\n",
      "Currently solving for size 100x100.\n"
     ]
    },
    {
     "name": "stderr",
     "output_type": "stream",
     "text": [
      "100%|██████████| 250/250 [2:40:06<00:00, 38.42s/it]  "
     ]
    },
    {
     "name": "stdout",
     "output_type": "stream",
     "text": [
      "Done with size 100x100. Results saved.\n"
     ]
    },
    {
     "name": "stderr",
     "output_type": "stream",
     "text": [
      "\n"
     ]
    }
   ],
   "source": [
    "for (x, y) in balanced_sizes:\n",
    "    if x < 90:\n",
    "        continue\n",
    "    print(f'Currently solving for size {x}x{y}.')\n",
    "    current_size_results = {}\n",
    "\n",
    "    for i in tqdm(range(1, 251)):\n",
    "        lp_parser.parse_file(os.path.join(balanced_folder, f\"{x}x{y}\", f\"{i}.lp\"))\n",
    "\n",
    "        start_time = time.time()\n",
    "        my_solver_output = random_solver.solve(lp_parser)\n",
    "        end_time = time.time()\n",
    "\n",
    "        my_solver_output['total_time'] = (end_time - start_time) * 1000\n",
    "        current_size_results[f\"{i}.lp\"] = my_solver_output\n",
    "    \n",
    "    with open(os.path.join(balanced_folder, f\"{x}x{y}\", f'random_results.json'), 'w') as f:\n",
    "        json.dump(current_size_results, f, indent = 4)\n",
    "    \n",
    "    print(f'Done with size {x}x{y}. Results saved.')"
   ]
  },
  {
   "cell_type": "markdown",
   "metadata": {},
   "source": [
    "### Running time of Bland"
   ]
  },
  {
   "cell_type": "code",
   "execution_count": 3,
   "metadata": {},
   "outputs": [],
   "source": [
    "bland_solver = SimplexSolver(pivot_rule = 'Bland')"
   ]
  },
  {
   "cell_type": "code",
   "execution_count": null,
   "metadata": {},
   "outputs": [
    {
     "name": "stdout",
     "output_type": "stream",
     "text": [
      "Currently solving for size 100x100.\n"
     ]
    },
    {
     "name": "stderr",
     "output_type": "stream",
     "text": [
      "100%|██████████| 250/250 [8:03:41<00:00, 116.09s/it]  "
     ]
    },
    {
     "name": "stdout",
     "output_type": "stream",
     "text": [
      "Done with size 100x100. Results saved.\n"
     ]
    },
    {
     "name": "stderr",
     "output_type": "stream",
     "text": [
      "\n"
     ]
    }
   ],
   "source": [
    "for (x, y) in balanced_sizes:\n",
    "    if x < 100:\n",
    "        continue\n",
    "    print(f'Currently solving for size {x}x{y}.')\n",
    "    current_size_results = {}\n",
    "\n",
    "    for i in tqdm(range(1, 251)):\n",
    "        lp_parser.parse_file(os.path.join(balanced_folder, f\"{x}x{y}\", f\"{i}.lp\"))\n",
    "\n",
    "        start_time = time.time()\n",
    "        my_solver_output = bland_solver.solve(lp_parser)\n",
    "        end_time = time.time()\n",
    "\n",
    "        my_solver_output['total_time'] = (end_time - start_time) * 1000\n",
    "        current_size_results[f\"{i}.lp\"] = my_solver_output\n",
    "    \n",
    "    with open(os.path.join(balanced_folder, f\"{x}x{y}\", f'bland_results.json'), 'w') as f:\n",
    "        json.dump(current_size_results, f, indent = 4)\n",
    "    \n",
    "    print(f'Done with size {x}x{y}. Results saved.')"
   ]
  },
  {
   "cell_type": "markdown",
   "metadata": {},
   "source": [
    "### Running time of Steepest Edge"
   ]
  },
  {
   "cell_type": "code",
   "execution_count": 5,
   "metadata": {},
   "outputs": [],
   "source": [
    "steepest_edge_solver = SimplexSolver(pivot_rule=\"SteepestEdge\")"
   ]
  },
  {
   "cell_type": "code",
   "execution_count": 12,
   "metadata": {},
   "outputs": [
    {
     "name": "stdout",
     "output_type": "stream",
     "text": [
      "Currently solving for size 5x5.\n"
     ]
    },
    {
     "name": "stderr",
     "output_type": "stream",
     "text": [
      "100%|██████████| 250/250 [00:00<00:00, 314.84it/s]\n"
     ]
    },
    {
     "name": "stdout",
     "output_type": "stream",
     "text": [
      "Done with size 5x5. Results saved.\n",
      "Currently solving for size 10x10.\n"
     ]
    },
    {
     "name": "stderr",
     "output_type": "stream",
     "text": [
      "100%|██████████| 250/250 [00:01<00:00, 160.79it/s]\n"
     ]
    },
    {
     "name": "stdout",
     "output_type": "stream",
     "text": [
      "Done with size 10x10. Results saved.\n",
      "Currently solving for size 15x15.\n"
     ]
    },
    {
     "name": "stderr",
     "output_type": "stream",
     "text": [
      "100%|██████████| 250/250 [00:03<00:00, 74.11it/s]\n"
     ]
    },
    {
     "name": "stdout",
     "output_type": "stream",
     "text": [
      "Done with size 15x15. Results saved.\n",
      "Currently solving for size 20x20.\n"
     ]
    },
    {
     "name": "stderr",
     "output_type": "stream",
     "text": [
      "100%|██████████| 250/250 [00:07<00:00, 33.35it/s]\n"
     ]
    },
    {
     "name": "stdout",
     "output_type": "stream",
     "text": [
      "Done with size 20x20. Results saved.\n",
      "Currently solving for size 25x25.\n"
     ]
    },
    {
     "name": "stderr",
     "output_type": "stream",
     "text": [
      "100%|██████████| 250/250 [00:14<00:00, 16.97it/s]\n"
     ]
    },
    {
     "name": "stdout",
     "output_type": "stream",
     "text": [
      "Done with size 25x25. Results saved.\n",
      "Currently solving for size 30x30.\n"
     ]
    },
    {
     "name": "stderr",
     "output_type": "stream",
     "text": [
      "100%|██████████| 250/250 [00:27<00:00,  9.17it/s]\n"
     ]
    },
    {
     "name": "stdout",
     "output_type": "stream",
     "text": [
      "Done with size 30x30. Results saved.\n",
      "Currently solving for size 35x35.\n"
     ]
    },
    {
     "name": "stderr",
     "output_type": "stream",
     "text": [
      "100%|██████████| 250/250 [00:46<00:00,  5.34it/s]\n"
     ]
    },
    {
     "name": "stdout",
     "output_type": "stream",
     "text": [
      "Done with size 35x35. Results saved.\n",
      "Currently solving for size 40x40.\n"
     ]
    },
    {
     "name": "stderr",
     "output_type": "stream",
     "text": [
      "100%|██████████| 250/250 [01:12<00:00,  3.45it/s]\n"
     ]
    },
    {
     "name": "stdout",
     "output_type": "stream",
     "text": [
      "Done with size 40x40. Results saved.\n",
      "Currently solving for size 45x45.\n"
     ]
    },
    {
     "name": "stderr",
     "output_type": "stream",
     "text": [
      "100%|██████████| 250/250 [01:52<00:00,  2.22it/s]\n"
     ]
    },
    {
     "name": "stdout",
     "output_type": "stream",
     "text": [
      "Done with size 45x45. Results saved.\n",
      "Currently solving for size 50x50.\n"
     ]
    },
    {
     "name": "stderr",
     "output_type": "stream",
     "text": [
      "100%|██████████| 250/250 [02:42<00:00,  1.54it/s]\n"
     ]
    },
    {
     "name": "stdout",
     "output_type": "stream",
     "text": [
      "Done with size 50x50. Results saved.\n",
      "Currently solving for size 55x55.\n"
     ]
    },
    {
     "name": "stderr",
     "output_type": "stream",
     "text": [
      "100%|██████████| 250/250 [03:54<00:00,  1.07it/s]\n"
     ]
    },
    {
     "name": "stdout",
     "output_type": "stream",
     "text": [
      "Done with size 55x55. Results saved.\n",
      "Currently solving for size 60x60.\n"
     ]
    },
    {
     "name": "stderr",
     "output_type": "stream",
     "text": [
      "100%|██████████| 250/250 [05:31<00:00,  1.33s/it]\n"
     ]
    },
    {
     "name": "stdout",
     "output_type": "stream",
     "text": [
      "Done with size 60x60. Results saved.\n",
      "Currently solving for size 65x65.\n"
     ]
    },
    {
     "name": "stderr",
     "output_type": "stream",
     "text": [
      "100%|██████████| 250/250 [07:38<00:00,  1.83s/it]\n"
     ]
    },
    {
     "name": "stdout",
     "output_type": "stream",
     "text": [
      "Done with size 65x65. Results saved.\n",
      "Currently solving for size 70x70.\n"
     ]
    },
    {
     "name": "stderr",
     "output_type": "stream",
     "text": [
      "100%|██████████| 250/250 [10:12<00:00,  2.45s/it]\n"
     ]
    },
    {
     "name": "stdout",
     "output_type": "stream",
     "text": [
      "Done with size 70x70. Results saved.\n",
      "Currently solving for size 75x75.\n"
     ]
    },
    {
     "name": "stderr",
     "output_type": "stream",
     "text": [
      "100%|██████████| 250/250 [13:18<00:00,  3.20s/it]\n"
     ]
    },
    {
     "name": "stdout",
     "output_type": "stream",
     "text": [
      "Done with size 75x75. Results saved.\n",
      "Currently solving for size 80x80.\n"
     ]
    },
    {
     "name": "stderr",
     "output_type": "stream",
     "text": [
      "100%|██████████| 250/250 [17:16<00:00,  4.14s/it]\n"
     ]
    },
    {
     "name": "stdout",
     "output_type": "stream",
     "text": [
      "Done with size 80x80. Results saved.\n",
      "Currently solving for size 85x85.\n"
     ]
    },
    {
     "name": "stderr",
     "output_type": "stream",
     "text": [
      "100%|██████████| 250/250 [22:01<00:00,  5.29s/it]\n"
     ]
    },
    {
     "name": "stdout",
     "output_type": "stream",
     "text": [
      "Done with size 85x85. Results saved.\n",
      "Currently solving for size 90x90.\n"
     ]
    },
    {
     "name": "stderr",
     "output_type": "stream",
     "text": [
      "100%|██████████| 250/250 [27:52<00:00,  6.69s/it]\n"
     ]
    },
    {
     "name": "stdout",
     "output_type": "stream",
     "text": [
      "Done with size 90x90. Results saved.\n",
      "Currently solving for size 95x95.\n"
     ]
    },
    {
     "name": "stderr",
     "output_type": "stream",
     "text": [
      "100%|██████████| 250/250 [34:28<00:00,  8.28s/it]\n"
     ]
    },
    {
     "name": "stdout",
     "output_type": "stream",
     "text": [
      "Done with size 95x95. Results saved.\n",
      "Currently solving for size 100x100.\n"
     ]
    },
    {
     "name": "stderr",
     "output_type": "stream",
     "text": [
      "100%|██████████| 250/250 [43:20<00:00, 10.40s/it]"
     ]
    },
    {
     "name": "stdout",
     "output_type": "stream",
     "text": [
      "Done with size 100x100. Results saved.\n"
     ]
    },
    {
     "name": "stderr",
     "output_type": "stream",
     "text": [
      "\n"
     ]
    }
   ],
   "source": [
    "for (x, y) in balanced_sizes:\n",
    "    print(f'Currently solving for size {x}x{y}.')\n",
    "    current_size_results = {}\n",
    "\n",
    "    for i in tqdm(range(1, 251)):\n",
    "        lp_parser.parse_file(os.path.join(balanced_folder, f\"{x}x{y}\", f\"{i}.lp\"))\n",
    "\n",
    "        start_time = time.time()\n",
    "        my_solver_output = steepest_edge_solver.solve(lp_parser)\n",
    "        end_time = time.time()\n",
    "\n",
    "        my_solver_output['total_time'] = (end_time - start_time) * 1000\n",
    "        current_size_results[f\"{i}.lp\"] = my_solver_output\n",
    "    \n",
    "    with open(os.path.join(balanced_folder, f\"{x}x{y}\", f'steepest_edge_results.json'), 'w') as f:\n",
    "        json.dump(current_size_results, f, indent = 4)\n",
    "    \n",
    "    print(f'Done with size {x}x{y}. Results saved.')"
   ]
  },
  {
   "cell_type": "markdown",
   "metadata": {},
   "source": [
    "## Experiments for Wide Problems"
   ]
  },
  {
   "cell_type": "markdown",
   "metadata": {},
   "source": [
    "### Experiment for Dantzig"
   ]
  },
  {
   "cell_type": "code",
   "execution_count": 13,
   "metadata": {},
   "outputs": [
    {
     "name": "stdout",
     "output_type": "stream",
     "text": [
      "Currently solving for size 5x10.\n"
     ]
    },
    {
     "name": "stderr",
     "output_type": "stream",
     "text": [
      "100%|██████████| 250/250 [00:00<00:00, 912.58it/s]\n"
     ]
    },
    {
     "name": "stdout",
     "output_type": "stream",
     "text": [
      "Done with size 5x10. Results saved.\n",
      "Currently solving for size 10x20.\n"
     ]
    },
    {
     "name": "stderr",
     "output_type": "stream",
     "text": [
      "100%|██████████| 250/250 [00:02<00:00, 116.88it/s]\n"
     ]
    },
    {
     "name": "stdout",
     "output_type": "stream",
     "text": [
      "Done with size 10x20. Results saved.\n",
      "Currently solving for size 15x30.\n"
     ]
    },
    {
     "name": "stderr",
     "output_type": "stream",
     "text": [
      "100%|██████████| 250/250 [00:07<00:00, 31.68it/s]\n"
     ]
    },
    {
     "name": "stdout",
     "output_type": "stream",
     "text": [
      "Done with size 15x30. Results saved.\n",
      "Currently solving for size 20x40.\n"
     ]
    },
    {
     "name": "stderr",
     "output_type": "stream",
     "text": [
      "100%|██████████| 250/250 [00:19<00:00, 12.66it/s]\n"
     ]
    },
    {
     "name": "stdout",
     "output_type": "stream",
     "text": [
      "Done with size 20x40. Results saved.\n",
      "Currently solving for size 25x50.\n"
     ]
    },
    {
     "name": "stderr",
     "output_type": "stream",
     "text": [
      "100%|██████████| 250/250 [00:43<00:00,  5.69it/s]\n"
     ]
    },
    {
     "name": "stdout",
     "output_type": "stream",
     "text": [
      "Done with size 25x50. Results saved.\n",
      "Currently solving for size 30x60.\n"
     ]
    },
    {
     "name": "stderr",
     "output_type": "stream",
     "text": [
      "100%|██████████| 250/250 [01:26<00:00,  2.90it/s]\n"
     ]
    },
    {
     "name": "stdout",
     "output_type": "stream",
     "text": [
      "Done with size 30x60. Results saved.\n",
      "Currently solving for size 35x70.\n"
     ]
    },
    {
     "name": "stderr",
     "output_type": "stream",
     "text": [
      "100%|██████████| 250/250 [02:36<00:00,  1.60it/s]\n"
     ]
    },
    {
     "name": "stdout",
     "output_type": "stream",
     "text": [
      "Done with size 35x70. Results saved.\n",
      "Currently solving for size 40x80.\n"
     ]
    },
    {
     "name": "stderr",
     "output_type": "stream",
     "text": [
      "100%|██████████| 250/250 [04:31<00:00,  1.08s/it]\n"
     ]
    },
    {
     "name": "stdout",
     "output_type": "stream",
     "text": [
      "Done with size 40x80. Results saved.\n",
      "Currently solving for size 45x90.\n"
     ]
    },
    {
     "name": "stderr",
     "output_type": "stream",
     "text": [
      "100%|██████████| 250/250 [07:22<00:00,  1.77s/it]\n"
     ]
    },
    {
     "name": "stdout",
     "output_type": "stream",
     "text": [
      "Done with size 45x90. Results saved.\n",
      "Currently solving for size 50x100.\n"
     ]
    },
    {
     "name": "stderr",
     "output_type": "stream",
     "text": [
      "100%|██████████| 250/250 [10:53<00:00,  2.61s/it]"
     ]
    },
    {
     "name": "stdout",
     "output_type": "stream",
     "text": [
      "Done with size 50x100. Results saved.\n"
     ]
    },
    {
     "name": "stderr",
     "output_type": "stream",
     "text": [
      "\n"
     ]
    }
   ],
   "source": [
    "for (x, y) in wide_sizes:\n",
    "    print(f'Currently solving for size {x}x{y}.')\n",
    "    current_size_results = {}\n",
    "\n",
    "    for i in tqdm(range(1, 251)):\n",
    "        lp_parser.parse_file(os.path.join(wide_folder, f\"{x}x{y}\", f\"{i}.lp\"))\n",
    "\n",
    "        start_time = time.time()\n",
    "        my_solver_output = dantzig_solver.solve(lp_parser)\n",
    "        end_time = time.time()\n",
    "\n",
    "        my_solver_output['total_time'] = (end_time - start_time) * 1000\n",
    "        current_size_results[f\"{i}.lp\"] = my_solver_output\n",
    "    \n",
    "    with open(os.path.join(wide_folder, f\"{x}x{y}\", f'dantzig_results.json'), 'w') as f:\n",
    "        json.dump(current_size_results, f, indent = 4)\n",
    "    \n",
    "    print(f'Done with size {x}x{y}. Results saved.')"
   ]
  },
  {
   "cell_type": "markdown",
   "metadata": {},
   "source": [
    "### Experiment for Random"
   ]
  },
  {
   "cell_type": "code",
   "execution_count": null,
   "metadata": {},
   "outputs": [
    {
     "name": "stdout",
     "output_type": "stream",
     "text": [
      "Currently solving for size 5x10.\n"
     ]
    },
    {
     "name": "stderr",
     "output_type": "stream",
     "text": [
      "100%|██████████| 250/250 [00:00<00:00, 752.52it/s]\n"
     ]
    },
    {
     "name": "stdout",
     "output_type": "stream",
     "text": [
      "Done with size 5x10. Results saved.\n",
      "Currently solving for size 10x20.\n"
     ]
    },
    {
     "name": "stderr",
     "output_type": "stream",
     "text": [
      "100%|██████████| 250/250 [00:02<00:00, 83.63it/s]\n"
     ]
    },
    {
     "name": "stdout",
     "output_type": "stream",
     "text": [
      "Done with size 10x20. Results saved.\n",
      "Currently solving for size 15x30.\n"
     ]
    },
    {
     "name": "stderr",
     "output_type": "stream",
     "text": [
      "100%|██████████| 250/250 [00:12<00:00, 19.56it/s]\n"
     ]
    },
    {
     "name": "stdout",
     "output_type": "stream",
     "text": [
      "Done with size 15x30. Results saved.\n",
      "Currently solving for size 20x40.\n"
     ]
    },
    {
     "name": "stderr",
     "output_type": "stream",
     "text": [
      "100%|██████████| 250/250 [00:34<00:00,  7.22it/s]\n"
     ]
    },
    {
     "name": "stdout",
     "output_type": "stream",
     "text": [
      "Done with size 20x40. Results saved.\n",
      "Currently solving for size 25x50.\n"
     ]
    },
    {
     "name": "stderr",
     "output_type": "stream",
     "text": [
      "100%|██████████| 250/250 [01:25<00:00,  2.94it/s]\n"
     ]
    },
    {
     "name": "stdout",
     "output_type": "stream",
     "text": [
      "Done with size 25x50. Results saved.\n",
      "Currently solving for size 30x60.\n"
     ]
    },
    {
     "name": "stderr",
     "output_type": "stream",
     "text": [
      "100%|██████████| 250/250 [02:57<00:00,  1.41it/s]\n"
     ]
    },
    {
     "name": "stdout",
     "output_type": "stream",
     "text": [
      "Done with size 30x60. Results saved.\n",
      "Currently solving for size 35x70.\n"
     ]
    },
    {
     "name": "stderr",
     "output_type": "stream",
     "text": [
      "100%|██████████| 250/250 [05:21<00:00,  1.29s/it]\n"
     ]
    },
    {
     "name": "stdout",
     "output_type": "stream",
     "text": [
      "Done with size 35x70. Results saved.\n",
      "Currently solving for size 40x80.\n"
     ]
    },
    {
     "name": "stderr",
     "output_type": "stream",
     "text": [
      "100%|██████████| 250/250 [09:24<00:00,  2.26s/it]\n"
     ]
    },
    {
     "name": "stdout",
     "output_type": "stream",
     "text": [
      "Done with size 40x80. Results saved.\n",
      "Currently solving for size 45x90.\n"
     ]
    },
    {
     "name": "stderr",
     "output_type": "stream",
     "text": [
      "100%|██████████| 250/250 [15:19<00:00,  3.68s/it]\n"
     ]
    },
    {
     "name": "stdout",
     "output_type": "stream",
     "text": [
      "Done with size 45x90. Results saved.\n",
      "Currently solving for size 50x100.\n"
     ]
    },
    {
     "name": "stderr",
     "output_type": "stream",
     "text": [
      "100%|██████████| 250/250 [22:30<00:00,  5.40s/it]"
     ]
    },
    {
     "name": "stdout",
     "output_type": "stream",
     "text": [
      "Done with size 50x100. Results saved.\n"
     ]
    },
    {
     "name": "stderr",
     "output_type": "stream",
     "text": [
      "\n"
     ]
    }
   ],
   "source": [
    "for (x, y) in wide_sizes:\n",
    "    print(f'Currently solving for size {x}x{y}.')\n",
    "    current_size_results = {}\n",
    "\n",
    "    for i in tqdm(range(1, 251)):\n",
    "        lp_parser.parse_file(os.path.join(wide_folder, f\"{x}x{y}\", f\"{i}.lp\"))\n",
    "\n",
    "        start_time = time.time()\n",
    "        my_solver_output = random_solver.solve(lp_parser)\n",
    "        end_time = time.time()\n",
    "\n",
    "        my_solver_output['total_time'] = (end_time - start_time) * 1000\n",
    "        current_size_results[f\"{i}.lp\"] = my_solver_output\n",
    "    \n",
    "    with open(os.path.join(wide_folder, f\"{x}x{y}\", f'random_results.json'), 'w') as f:\n",
    "        json.dump(current_size_results, f, indent = 4)\n",
    "    \n",
    "    print(f'Done with size {x}x{y}. Results saved.')"
   ]
  },
  {
   "cell_type": "markdown",
   "metadata": {},
   "source": [
    "### Experiment for Bland"
   ]
  },
  {
   "cell_type": "code",
   "execution_count": null,
   "metadata": {},
   "outputs": [
    {
     "name": "stdout",
     "output_type": "stream",
     "text": [
      "Currently solving for size 5x10.\n"
     ]
    },
    {
     "name": "stderr",
     "output_type": "stream",
     "text": [
      "100%|██████████| 250/250 [00:01<00:00, 227.75it/s]\n"
     ]
    },
    {
     "name": "stdout",
     "output_type": "stream",
     "text": [
      "Done with size 5x10. Results saved.\n",
      "Currently solving for size 10x20.\n"
     ]
    },
    {
     "name": "stderr",
     "output_type": "stream",
     "text": [
      "100%|██████████| 250/250 [00:04<00:00, 60.84it/s]\n"
     ]
    },
    {
     "name": "stdout",
     "output_type": "stream",
     "text": [
      "Done with size 10x20. Results saved.\n",
      "Currently solving for size 15x30.\n"
     ]
    },
    {
     "name": "stderr",
     "output_type": "stream",
     "text": [
      "100%|██████████| 250/250 [00:15<00:00, 15.91it/s]\n"
     ]
    },
    {
     "name": "stdout",
     "output_type": "stream",
     "text": [
      "Done with size 15x30. Results saved.\n",
      "Currently solving for size 20x40.\n"
     ]
    },
    {
     "name": "stderr",
     "output_type": "stream",
     "text": [
      "100%|██████████| 250/250 [00:45<00:00,  5.45it/s]\n"
     ]
    },
    {
     "name": "stdout",
     "output_type": "stream",
     "text": [
      "Done with size 20x40. Results saved.\n",
      "Currently solving for size 25x50.\n"
     ]
    },
    {
     "name": "stderr",
     "output_type": "stream",
     "text": [
      "100%|██████████| 250/250 [01:50<00:00,  2.25it/s]\n"
     ]
    },
    {
     "name": "stdout",
     "output_type": "stream",
     "text": [
      "Done with size 25x50. Results saved.\n",
      "Currently solving for size 30x60.\n"
     ]
    },
    {
     "name": "stderr",
     "output_type": "stream",
     "text": [
      "100%|██████████| 250/250 [04:09<00:00,  1.00it/s]\n"
     ]
    },
    {
     "name": "stdout",
     "output_type": "stream",
     "text": [
      "Done with size 30x60. Results saved.\n",
      "Currently solving for size 35x70.\n"
     ]
    },
    {
     "name": "stderr",
     "output_type": "stream",
     "text": [
      "100%|██████████| 250/250 [08:31<00:00,  2.05s/it]\n"
     ]
    },
    {
     "name": "stdout",
     "output_type": "stream",
     "text": [
      "Done with size 35x70. Results saved.\n",
      "Currently solving for size 40x80.\n"
     ]
    },
    {
     "name": "stderr",
     "output_type": "stream",
     "text": [
      "100%|██████████| 250/250 [15:54<00:00,  3.82s/it]\n"
     ]
    },
    {
     "name": "stdout",
     "output_type": "stream",
     "text": [
      "Done with size 40x80. Results saved.\n",
      "Currently solving for size 45x90.\n"
     ]
    },
    {
     "name": "stderr",
     "output_type": "stream",
     "text": [
      "100%|██████████| 250/250 [29:07<00:00,  6.99s/it]\n"
     ]
    },
    {
     "name": "stdout",
     "output_type": "stream",
     "text": [
      "Done with size 45x90. Results saved.\n",
      "Currently solving for size 50x100.\n"
     ]
    },
    {
     "name": "stderr",
     "output_type": "stream",
     "text": [
      "100%|██████████| 250/250 [46:30<00:00, 11.16s/it]"
     ]
    },
    {
     "name": "stdout",
     "output_type": "stream",
     "text": [
      "Done with size 50x100. Results saved.\n"
     ]
    },
    {
     "name": "stderr",
     "output_type": "stream",
     "text": [
      "\n"
     ]
    }
   ],
   "source": [
    "for (x, y) in wide_sizes:\n",
    "    print(f'Currently solving for size {x}x{y}.')\n",
    "    current_size_results = {}\n",
    "\n",
    "    for i in tqdm(range(1, 251)):\n",
    "        lp_parser.parse_file(os.path.join(wide_folder, f\"{x}x{y}\", f\"{i}.lp\"))\n",
    "\n",
    "        start_time = time.time()\n",
    "        my_solver_output = bland_solver.solve(lp_parser)\n",
    "        end_time = time.time()\n",
    "\n",
    "        my_solver_output['total_time'] = (end_time - start_time) * 1000\n",
    "        current_size_results[f\"{i}.lp\"] = my_solver_output\n",
    "    \n",
    "    with open(os.path.join(wide_folder, f\"{x}x{y}\", f'bland_results.json'), 'w') as f:\n",
    "        json.dump(current_size_results, f, indent = 4)\n",
    "    \n",
    "    print(f'Done with size {x}x{y}. Results saved.')"
   ]
  },
  {
   "cell_type": "markdown",
   "metadata": {},
   "source": [
    "### Experiment for Steepest Edge"
   ]
  },
  {
   "cell_type": "code",
   "execution_count": 10,
   "metadata": {},
   "outputs": [
    {
     "name": "stdout",
     "output_type": "stream",
     "text": [
      "Currently solving for size 5x10.\n"
     ]
    },
    {
     "name": "stderr",
     "output_type": "stream",
     "text": [
      "100%|██████████| 250/250 [00:00<00:00, 864.49it/s]\n"
     ]
    },
    {
     "name": "stdout",
     "output_type": "stream",
     "text": [
      "Done with size 5x10. Results saved.\n",
      "Currently solving for size 10x20.\n"
     ]
    },
    {
     "name": "stderr",
     "output_type": "stream",
     "text": [
      "100%|██████████| 250/250 [00:02<00:00, 118.56it/s]\n"
     ]
    },
    {
     "name": "stdout",
     "output_type": "stream",
     "text": [
      "Done with size 10x20. Results saved.\n",
      "Currently solving for size 15x30.\n"
     ]
    },
    {
     "name": "stderr",
     "output_type": "stream",
     "text": [
      "100%|██████████| 250/250 [00:07<00:00, 33.42it/s]\n"
     ]
    },
    {
     "name": "stdout",
     "output_type": "stream",
     "text": [
      "Done with size 15x30. Results saved.\n",
      "Currently solving for size 20x40.\n"
     ]
    },
    {
     "name": "stderr",
     "output_type": "stream",
     "text": [
      "100%|██████████| 250/250 [00:17<00:00, 13.95it/s]\n"
     ]
    },
    {
     "name": "stdout",
     "output_type": "stream",
     "text": [
      "Done with size 20x40. Results saved.\n",
      "Currently solving for size 25x50.\n"
     ]
    },
    {
     "name": "stderr",
     "output_type": "stream",
     "text": [
      "100%|██████████| 250/250 [00:37<00:00,  6.72it/s]\n"
     ]
    },
    {
     "name": "stdout",
     "output_type": "stream",
     "text": [
      "Done with size 25x50. Results saved.\n",
      "Currently solving for size 30x60.\n"
     ]
    },
    {
     "name": "stderr",
     "output_type": "stream",
     "text": [
      "100%|██████████| 250/250 [01:09<00:00,  3.61it/s]\n"
     ]
    },
    {
     "name": "stdout",
     "output_type": "stream",
     "text": [
      "Done with size 30x60. Results saved.\n",
      "Currently solving for size 35x70.\n"
     ]
    },
    {
     "name": "stderr",
     "output_type": "stream",
     "text": [
      "100%|██████████| 250/250 [01:56<00:00,  2.15it/s]\n"
     ]
    },
    {
     "name": "stdout",
     "output_type": "stream",
     "text": [
      "Done with size 35x70. Results saved.\n",
      "Currently solving for size 40x80.\n"
     ]
    },
    {
     "name": "stderr",
     "output_type": "stream",
     "text": [
      "100%|██████████| 250/250 [03:07<00:00,  1.33it/s]\n"
     ]
    },
    {
     "name": "stdout",
     "output_type": "stream",
     "text": [
      "Done with size 40x80. Results saved.\n",
      "Currently solving for size 45x90.\n"
     ]
    },
    {
     "name": "stderr",
     "output_type": "stream",
     "text": [
      "100%|██████████| 250/250 [04:51<00:00,  1.17s/it]\n"
     ]
    },
    {
     "name": "stdout",
     "output_type": "stream",
     "text": [
      "Done with size 45x90. Results saved.\n",
      "Currently solving for size 50x100.\n"
     ]
    },
    {
     "name": "stderr",
     "output_type": "stream",
     "text": [
      "100%|██████████| 250/250 [06:52<00:00,  1.65s/it]"
     ]
    },
    {
     "name": "stdout",
     "output_type": "stream",
     "text": [
      "Done with size 50x100. Results saved.\n"
     ]
    },
    {
     "name": "stderr",
     "output_type": "stream",
     "text": [
      "\n"
     ]
    }
   ],
   "source": [
    "for (x, y) in wide_sizes:\n",
    "    print(f'Currently solving for size {x}x{y}.')\n",
    "    current_size_results = {}\n",
    "\n",
    "    for i in tqdm(range(1, 251)):\n",
    "        lp_parser.parse_file(os.path.join(wide_folder, f\"{x}x{y}\", f\"{i}.lp\"))\n",
    "\n",
    "        start_time = time.time()\n",
    "        my_solver_output = steepest_edge_solver.solve(lp_parser)\n",
    "        end_time = time.time()\n",
    "\n",
    "        my_solver_output['total_time'] = (end_time - start_time) * 1000\n",
    "        current_size_results[f\"{i}.lp\"] = my_solver_output\n",
    "    \n",
    "    with open(os.path.join(wide_folder, f\"{x}x{y}\", f'steepest_edge_results.json'), 'w') as f:\n",
    "        json.dump(current_size_results, f, indent = 4)\n",
    "    \n",
    "    print(f'Done with size {x}x{y}. Results saved.')"
   ]
  },
  {
   "cell_type": "markdown",
   "metadata": {},
   "source": [
    "## Experiments for Tall Problems"
   ]
  },
  {
   "cell_type": "markdown",
   "metadata": {},
   "source": [
    "### Experiment for Dantzig"
   ]
  },
  {
   "cell_type": "code",
   "execution_count": 8,
   "metadata": {},
   "outputs": [
    {
     "name": "stdout",
     "output_type": "stream",
     "text": [
      "Currently solving for size 10x5.\n"
     ]
    },
    {
     "name": "stderr",
     "output_type": "stream",
     "text": [
      "100%|██████████| 250/250 [00:00<00:00, 264.65it/s]\n"
     ]
    },
    {
     "name": "stdout",
     "output_type": "stream",
     "text": [
      "Done with size 10x5. Results saved.\n",
      "Currently solving for size 20x10.\n"
     ]
    },
    {
     "name": "stderr",
     "output_type": "stream",
     "text": [
      "100%|██████████| 250/250 [00:02<00:00, 118.14it/s]\n"
     ]
    },
    {
     "name": "stdout",
     "output_type": "stream",
     "text": [
      "Done with size 20x10. Results saved.\n",
      "Currently solving for size 30x15.\n"
     ]
    },
    {
     "name": "stderr",
     "output_type": "stream",
     "text": [
      "100%|██████████| 250/250 [00:05<00:00, 49.27it/s]\n"
     ]
    },
    {
     "name": "stdout",
     "output_type": "stream",
     "text": [
      "Done with size 30x15. Results saved.\n",
      "Currently solving for size 40x20.\n"
     ]
    },
    {
     "name": "stderr",
     "output_type": "stream",
     "text": [
      "100%|██████████| 250/250 [00:11<00:00, 22.32it/s]\n"
     ]
    },
    {
     "name": "stdout",
     "output_type": "stream",
     "text": [
      "Done with size 40x20. Results saved.\n",
      "Currently solving for size 50x25.\n"
     ]
    },
    {
     "name": "stderr",
     "output_type": "stream",
     "text": [
      "100%|██████████| 250/250 [00:22<00:00, 11.31it/s]\n"
     ]
    },
    {
     "name": "stdout",
     "output_type": "stream",
     "text": [
      "Done with size 50x25. Results saved.\n",
      "Currently solving for size 60x30.\n"
     ]
    },
    {
     "name": "stderr",
     "output_type": "stream",
     "text": [
      "100%|██████████| 250/250 [00:40<00:00,  6.13it/s]\n"
     ]
    },
    {
     "name": "stdout",
     "output_type": "stream",
     "text": [
      "Done with size 60x30. Results saved.\n",
      "Currently solving for size 70x35.\n"
     ]
    },
    {
     "name": "stderr",
     "output_type": "stream",
     "text": [
      "100%|██████████| 250/250 [01:08<00:00,  3.65it/s]\n"
     ]
    },
    {
     "name": "stdout",
     "output_type": "stream",
     "text": [
      "Done with size 70x35. Results saved.\n",
      "Currently solving for size 80x40.\n"
     ]
    },
    {
     "name": "stderr",
     "output_type": "stream",
     "text": [
      "100%|██████████| 250/250 [01:52<00:00,  2.23it/s]\n"
     ]
    },
    {
     "name": "stdout",
     "output_type": "stream",
     "text": [
      "Done with size 80x40. Results saved.\n",
      "Currently solving for size 90x45.\n"
     ]
    },
    {
     "name": "stderr",
     "output_type": "stream",
     "text": [
      "100%|██████████| 250/250 [02:50<00:00,  1.47it/s]\n"
     ]
    },
    {
     "name": "stdout",
     "output_type": "stream",
     "text": [
      "Done with size 90x45. Results saved.\n",
      "Currently solving for size 100x50.\n"
     ]
    },
    {
     "name": "stderr",
     "output_type": "stream",
     "text": [
      "100%|██████████| 250/250 [04:10<00:00,  1.00s/it]"
     ]
    },
    {
     "name": "stdout",
     "output_type": "stream",
     "text": [
      "Done with size 100x50. Results saved.\n"
     ]
    },
    {
     "name": "stderr",
     "output_type": "stream",
     "text": [
      "\n"
     ]
    }
   ],
   "source": [
    "for (x, y) in tall_sizes:\n",
    "    print(f'Currently solving for size {x}x{y}.')\n",
    "    current_size_results = {}\n",
    "\n",
    "    for i in tqdm(range(1, 251)):\n",
    "        lp_parser.parse_file(os.path.join(tall_folder, f\"{x}x{y}\", f\"{i}.lp\"))\n",
    "\n",
    "        start_time = time.time()\n",
    "        my_solver_output = dantzig_solver.solve(lp_parser)\n",
    "        end_time = time.time()\n",
    "\n",
    "        my_solver_output['total_time'] = (end_time - start_time) * 1000\n",
    "        current_size_results[f\"{i}.lp\"] = my_solver_output\n",
    "    \n",
    "    with open(os.path.join(tall_folder, f\"{x}x{y}\", f'dantzig_results.json'), 'w') as f:\n",
    "        json.dump(current_size_results, f, indent = 4)\n",
    "    \n",
    "    print(f'Done with size {x}x{y}. Results saved.')"
   ]
  },
  {
   "cell_type": "markdown",
   "metadata": {},
   "source": [
    "### Experiment for Random"
   ]
  },
  {
   "cell_type": "code",
   "execution_count": null,
   "metadata": {},
   "outputs": [
    {
     "name": "stdout",
     "output_type": "stream",
     "text": [
      "Currently solving for size 10x5.\n"
     ]
    },
    {
     "name": "stderr",
     "output_type": "stream",
     "text": [
      "100%|██████████| 250/250 [00:00<00:00, 653.55it/s]\n"
     ]
    },
    {
     "name": "stdout",
     "output_type": "stream",
     "text": [
      "Done with size 10x5. Results saved.\n",
      "Currently solving for size 20x10.\n"
     ]
    },
    {
     "name": "stderr",
     "output_type": "stream",
     "text": [
      "100%|██████████| 250/250 [00:01<00:00, 133.53it/s]\n"
     ]
    },
    {
     "name": "stdout",
     "output_type": "stream",
     "text": [
      "Done with size 20x10. Results saved.\n",
      "Currently solving for size 30x15.\n"
     ]
    },
    {
     "name": "stderr",
     "output_type": "stream",
     "text": [
      "100%|██████████| 250/250 [00:07<00:00, 34.78it/s]\n"
     ]
    },
    {
     "name": "stdout",
     "output_type": "stream",
     "text": [
      "Done with size 30x15. Results saved.\n",
      "Currently solving for size 40x20.\n"
     ]
    },
    {
     "name": "stderr",
     "output_type": "stream",
     "text": [
      "100%|██████████| 250/250 [00:20<00:00, 12.08it/s]\n"
     ]
    },
    {
     "name": "stdout",
     "output_type": "stream",
     "text": [
      "Done with size 40x20. Results saved.\n",
      "Currently solving for size 50x25.\n"
     ]
    },
    {
     "name": "stderr",
     "output_type": "stream",
     "text": [
      "100%|██████████| 250/250 [00:47<00:00,  5.24it/s]\n"
     ]
    },
    {
     "name": "stdout",
     "output_type": "stream",
     "text": [
      "Done with size 50x25. Results saved.\n",
      "Currently solving for size 60x30.\n"
     ]
    },
    {
     "name": "stderr",
     "output_type": "stream",
     "text": [
      "100%|██████████| 250/250 [01:35<00:00,  2.60it/s]\n"
     ]
    },
    {
     "name": "stdout",
     "output_type": "stream",
     "text": [
      "Done with size 60x30. Results saved.\n",
      "Currently solving for size 70x35.\n"
     ]
    },
    {
     "name": "stderr",
     "output_type": "stream",
     "text": [
      "100%|██████████| 250/250 [03:00<00:00,  1.38it/s]\n"
     ]
    },
    {
     "name": "stdout",
     "output_type": "stream",
     "text": [
      "Done with size 70x35. Results saved.\n",
      "Currently solving for size 80x40.\n"
     ]
    },
    {
     "name": "stderr",
     "output_type": "stream",
     "text": [
      "100%|██████████| 250/250 [04:46<00:00,  1.15s/it]\n"
     ]
    },
    {
     "name": "stdout",
     "output_type": "stream",
     "text": [
      "Done with size 80x40. Results saved.\n",
      "Currently solving for size 90x45.\n"
     ]
    },
    {
     "name": "stderr",
     "output_type": "stream",
     "text": [
      "100%|██████████| 250/250 [07:54<00:00,  1.90s/it]\n"
     ]
    },
    {
     "name": "stdout",
     "output_type": "stream",
     "text": [
      "Done with size 90x45. Results saved.\n",
      "Currently solving for size 100x50.\n"
     ]
    },
    {
     "name": "stderr",
     "output_type": "stream",
     "text": [
      "100%|██████████| 250/250 [11:41<00:00,  2.80s/it]"
     ]
    },
    {
     "name": "stdout",
     "output_type": "stream",
     "text": [
      "Done with size 100x50. Results saved.\n"
     ]
    },
    {
     "name": "stderr",
     "output_type": "stream",
     "text": [
      "\n"
     ]
    }
   ],
   "source": [
    "for (x, y) in tall_sizes:\n",
    "    print(f'Currently solving for size {x}x{y}.')\n",
    "    current_size_results = {}\n",
    "\n",
    "    for i in tqdm(range(1, 251)):\n",
    "        lp_parser.parse_file(os.path.join(tall_folder, f\"{x}x{y}\", f\"{i}.lp\"))\n",
    "\n",
    "        start_time = time.time()\n",
    "        my_solver_output = random_solver.solve(lp_parser)\n",
    "        end_time = time.time()\n",
    "\n",
    "        my_solver_output['total_time'] = (end_time - start_time) * 1000\n",
    "        current_size_results[f\"{i}.lp\"] = my_solver_output\n",
    "    \n",
    "    with open(os.path.join(tall_folder, f\"{x}x{y}\", f'random_results.json'), 'w') as f:\n",
    "        json.dump(current_size_results, f, indent = 4)\n",
    "    \n",
    "    print(f'Done with size {x}x{y}. Results saved.')"
   ]
  },
  {
   "cell_type": "markdown",
   "metadata": {},
   "source": [
    "### Experiment for Bland"
   ]
  },
  {
   "cell_type": "code",
   "execution_count": 4,
   "metadata": {},
   "outputs": [
    {
     "name": "stdout",
     "output_type": "stream",
     "text": [
      "Currently solving for size 10x5.\n"
     ]
    },
    {
     "name": "stderr",
     "output_type": "stream",
     "text": [
      "100%|██████████| 250/250 [00:00<00:00, 256.06it/s]\n"
     ]
    },
    {
     "name": "stdout",
     "output_type": "stream",
     "text": [
      "Done with size 10x5. Results saved.\n",
      "Currently solving for size 20x10.\n"
     ]
    },
    {
     "name": "stderr",
     "output_type": "stream",
     "text": [
      "100%|██████████| 250/250 [00:02<00:00, 88.33it/s]\n"
     ]
    },
    {
     "name": "stdout",
     "output_type": "stream",
     "text": [
      "Done with size 20x10. Results saved.\n",
      "Currently solving for size 30x15.\n"
     ]
    },
    {
     "name": "stderr",
     "output_type": "stream",
     "text": [
      "100%|██████████| 250/250 [00:08<00:00, 28.22it/s]\n"
     ]
    },
    {
     "name": "stdout",
     "output_type": "stream",
     "text": [
      "Done with size 30x15. Results saved.\n",
      "Currently solving for size 40x20.\n"
     ]
    },
    {
     "name": "stderr",
     "output_type": "stream",
     "text": [
      "100%|██████████| 250/250 [00:25<00:00,  9.70it/s]\n"
     ]
    },
    {
     "name": "stdout",
     "output_type": "stream",
     "text": [
      "Done with size 40x20. Results saved.\n",
      "Currently solving for size 50x25.\n"
     ]
    },
    {
     "name": "stderr",
     "output_type": "stream",
     "text": [
      "100%|██████████| 250/250 [01:00<00:00,  4.13it/s]\n"
     ]
    },
    {
     "name": "stdout",
     "output_type": "stream",
     "text": [
      "Done with size 50x25. Results saved.\n",
      "Currently solving for size 60x30.\n"
     ]
    },
    {
     "name": "stderr",
     "output_type": "stream",
     "text": [
      "100%|██████████| 250/250 [02:14<00:00,  1.86it/s]\n"
     ]
    },
    {
     "name": "stdout",
     "output_type": "stream",
     "text": [
      "Done with size 60x30. Results saved.\n",
      "Currently solving for size 70x35.\n"
     ]
    },
    {
     "name": "stderr",
     "output_type": "stream",
     "text": [
      "100%|██████████| 250/250 [04:34<00:00,  1.10s/it]\n"
     ]
    },
    {
     "name": "stdout",
     "output_type": "stream",
     "text": [
      "Done with size 70x35. Results saved.\n",
      "Currently solving for size 80x40.\n"
     ]
    },
    {
     "name": "stderr",
     "output_type": "stream",
     "text": [
      "100%|██████████| 250/250 [08:12<00:00,  1.97s/it]\n"
     ]
    },
    {
     "name": "stdout",
     "output_type": "stream",
     "text": [
      "Done with size 80x40. Results saved.\n",
      "Currently solving for size 90x45.\n"
     ]
    },
    {
     "name": "stderr",
     "output_type": "stream",
     "text": [
      "100%|██████████| 250/250 [15:10<00:00,  3.64s/it]\n"
     ]
    },
    {
     "name": "stdout",
     "output_type": "stream",
     "text": [
      "Done with size 90x45. Results saved.\n",
      "Currently solving for size 100x50.\n"
     ]
    },
    {
     "name": "stderr",
     "output_type": "stream",
     "text": [
      "100%|██████████| 250/250 [24:00<00:00,  5.76s/it]"
     ]
    },
    {
     "name": "stdout",
     "output_type": "stream",
     "text": [
      "Done with size 100x50. Results saved.\n"
     ]
    },
    {
     "name": "stderr",
     "output_type": "stream",
     "text": [
      "\n"
     ]
    }
   ],
   "source": [
    "for (x, y) in tall_sizes:\n",
    "    print(f'Currently solving for size {x}x{y}.')\n",
    "    current_size_results = {}\n",
    "\n",
    "    for i in tqdm(range(1, 251)):\n",
    "        lp_parser.parse_file(os.path.join(tall_folder, f\"{x}x{y}\", f\"{i}.lp\"))\n",
    "\n",
    "        start_time = time.time()\n",
    "        my_solver_output = bland_solver.solve(lp_parser)\n",
    "        end_time = time.time()\n",
    "\n",
    "        my_solver_output['total_time'] = (end_time - start_time) * 1000\n",
    "        current_size_results[f\"{i}.lp\"] = my_solver_output\n",
    "    \n",
    "    with open(os.path.join(tall_folder, f\"{x}x{y}\", f'bland_results.json'), 'w') as f:\n",
    "        json.dump(current_size_results, f, indent = 4)\n",
    "    \n",
    "    print(f'Done with size {x}x{y}. Results saved.')"
   ]
  },
  {
   "cell_type": "markdown",
   "metadata": {},
   "source": [
    "### Experiment for Steepest Edge"
   ]
  },
  {
   "cell_type": "code",
   "execution_count": 11,
   "metadata": {},
   "outputs": [
    {
     "name": "stdout",
     "output_type": "stream",
     "text": [
      "Currently solving for size 10x5.\n"
     ]
    },
    {
     "name": "stderr",
     "output_type": "stream",
     "text": [
      "100%|██████████| 250/250 [00:00<00:00, 264.59it/s]\n"
     ]
    },
    {
     "name": "stdout",
     "output_type": "stream",
     "text": [
      "Done with size 10x5. Results saved.\n",
      "Currently solving for size 20x10.\n"
     ]
    },
    {
     "name": "stderr",
     "output_type": "stream",
     "text": [
      "100%|██████████| 250/250 [00:02<00:00, 106.24it/s]\n"
     ]
    },
    {
     "name": "stdout",
     "output_type": "stream",
     "text": [
      "Done with size 20x10. Results saved.\n",
      "Currently solving for size 30x15.\n"
     ]
    },
    {
     "name": "stderr",
     "output_type": "stream",
     "text": [
      "100%|██████████| 250/250 [00:05<00:00, 42.55it/s]\n"
     ]
    },
    {
     "name": "stdout",
     "output_type": "stream",
     "text": [
      "Done with size 30x15. Results saved.\n",
      "Currently solving for size 40x20.\n"
     ]
    },
    {
     "name": "stderr",
     "output_type": "stream",
     "text": [
      "100%|██████████| 250/250 [00:13<00:00, 18.93it/s]\n"
     ]
    },
    {
     "name": "stdout",
     "output_type": "stream",
     "text": [
      "Done with size 40x20. Results saved.\n",
      "Currently solving for size 50x25.\n"
     ]
    },
    {
     "name": "stderr",
     "output_type": "stream",
     "text": [
      "100%|██████████| 250/250 [00:26<00:00,  9.36it/s]\n"
     ]
    },
    {
     "name": "stdout",
     "output_type": "stream",
     "text": [
      "Done with size 50x25. Results saved.\n",
      "Currently solving for size 60x30.\n"
     ]
    },
    {
     "name": "stderr",
     "output_type": "stream",
     "text": [
      "100%|██████████| 250/250 [00:48<00:00,  5.12it/s]\n"
     ]
    },
    {
     "name": "stdout",
     "output_type": "stream",
     "text": [
      "Done with size 60x30. Results saved.\n",
      "Currently solving for size 70x35.\n"
     ]
    },
    {
     "name": "stderr",
     "output_type": "stream",
     "text": [
      "100%|██████████| 250/250 [01:23<00:00,  3.00it/s]\n"
     ]
    },
    {
     "name": "stdout",
     "output_type": "stream",
     "text": [
      "Done with size 70x35. Results saved.\n",
      "Currently solving for size 80x40.\n"
     ]
    },
    {
     "name": "stderr",
     "output_type": "stream",
     "text": [
      "100%|██████████| 250/250 [02:10<00:00,  1.91it/s]\n"
     ]
    },
    {
     "name": "stdout",
     "output_type": "stream",
     "text": [
      "Done with size 80x40. Results saved.\n",
      "Currently solving for size 90x45.\n"
     ]
    },
    {
     "name": "stderr",
     "output_type": "stream",
     "text": [
      "100%|██████████| 250/250 [03:25<00:00,  1.22it/s]\n"
     ]
    },
    {
     "name": "stdout",
     "output_type": "stream",
     "text": [
      "Done with size 90x45. Results saved.\n",
      "Currently solving for size 100x50.\n"
     ]
    },
    {
     "name": "stderr",
     "output_type": "stream",
     "text": [
      "100%|██████████| 250/250 [04:52<00:00,  1.17s/it]"
     ]
    },
    {
     "name": "stdout",
     "output_type": "stream",
     "text": [
      "Done with size 100x50. Results saved.\n"
     ]
    },
    {
     "name": "stderr",
     "output_type": "stream",
     "text": [
      "\n"
     ]
    }
   ],
   "source": [
    "for (x, y) in tall_sizes:\n",
    "    print(f'Currently solving for size {x}x{y}.')\n",
    "    current_size_results = {}\n",
    "\n",
    "    for i in tqdm(range(1, 251)):\n",
    "        lp_parser.parse_file(os.path.join(tall_folder, f\"{x}x{y}\", f\"{i}.lp\"))\n",
    "\n",
    "        start_time = time.time()\n",
    "        my_solver_output = steepest_edge_solver.solve(lp_parser)\n",
    "        end_time = time.time()\n",
    "\n",
    "        my_solver_output['total_time'] = (end_time - start_time) * 1000\n",
    "        current_size_results[f\"{i}.lp\"] = my_solver_output\n",
    "    \n",
    "    with open(os.path.join(tall_folder, f\"{x}x{y}\", f'steepest_edge_results.json'), 'w') as f:\n",
    "        json.dump(current_size_results, f, indent = 4)\n",
    "    \n",
    "    print(f'Done with size {x}x{y}. Results saved.')"
   ]
  },
  {
   "cell_type": "markdown",
   "metadata": {},
   "source": [
    "## Plots for average total running time and average number of pivot steps for all pivot rules"
   ]
  },
  {
   "cell_type": "markdown",
   "metadata": {},
   "source": [
    "### Computing and saving the averages"
   ]
  },
  {
   "cell_type": "code",
   "execution_count": 9,
   "metadata": {},
   "outputs": [],
   "source": [
    "import numpy as np"
   ]
  },
  {
   "cell_type": "code",
   "execution_count": 10,
   "metadata": {},
   "outputs": [
    {
     "name": "stdout",
     "output_type": "stream",
     "text": [
      "Averages computed and stored successfully!\n"
     ]
    }
   ],
   "source": [
    "pivot_rules = [\"dantzig\", \"random\", \"bland\", \"steepest_edge\"]\n",
    "metrics = [\"total_time\", \"num_pivot_steps\"]\n",
    "categories = {\n",
    "    \"balanced_problems\": balanced_sizes,\n",
    "    \"wide_problems\": wide_sizes,\n",
    "    \"tall_problems\": tall_sizes,\n",
    "}\n",
    "results = {cat: {metric: {rule: [] for rule in pivot_rules} for metric in metrics} for cat in categories}\n",
    "\n",
    "# Iterate through categories and sizes\n",
    "for category, sizes in categories.items():\n",
    "    for size in sizes:\n",
    "        folder_name = f\"{size[0]}x{size[1]}\"\n",
    "        folder_path = os.path.join(root_folder, category, folder_name)\n",
    "        \n",
    "        if not os.path.exists(folder_path):\n",
    "            print(\"incorrect folder\")\n",
    "            continue\n",
    "        \n",
    "        avg_results = {metric: {} for metric in metrics}\n",
    "        \n",
    "        for rule in pivot_rules:\n",
    "            file_path = os.path.join(folder_path, f\"{rule}_results.json\")\n",
    "            if not os.path.exists(file_path):\n",
    "                print(\"incorrect file\")\n",
    "                continue\n",
    "            \n",
    "            with open(file_path, \"r\") as f:\n",
    "                data = json.load(f)\n",
    "            \n",
    "            # Extract values\n",
    "            total_time = [entry[\"total_time\"] for entry in data.values()]\n",
    "            num_pivot_steps = [entry[\"num_pivot_steps\"] for entry in data.values()]\n",
    "            \n",
    "            # Compute and store averages\n",
    "            avg_results[\"total_time\"][rule] = np.mean(total_time) if total_time else 0\n",
    "            avg_results[\"num_pivot_steps\"][rule] = np.mean(num_pivot_steps) if num_pivot_steps else 0\n",
    "\n",
    "        # Save averages to JSON file in the same folder\n",
    "        with open(os.path.join(folder_path, \"averages.json\"), \"w\") as f:\n",
    "            json.dump(avg_results, f, indent=4)\n",
    "\n",
    "print(\"Averages computed and stored successfully!\")"
   ]
  },
  {
   "cell_type": "markdown",
   "metadata": {},
   "source": [
    "### Plots for average total running time and average number of pivot steps."
   ]
  },
  {
   "cell_type": "code",
   "execution_count": 11,
   "metadata": {},
   "outputs": [
    {
     "data": {
      "image/png": "[encoded data removed]",
      "text/plain": [
       "<Figure size 1000x600 with 1 Axes>"
      ]
     },
     "metadata": {},
     "output_type": "display_data"
    },
    {
     "data": {
      "image/png": "[encoded data removed]",
      "text/plain": [
       "<Figure size 1000x600 with 1 Axes>"
      ]
     },
     "metadata": {},
     "output_type": "display_data"
    },
    {
     "data": {
      "image/png": "[encoded data removed]",
      "text/plain": [
       "<Figure size 1000x600 with 1 Axes>"
      ]
     },
     "metadata": {},
     "output_type": "display_data"
    },
    {
     "data": {
      "image/png": "[encoded data removed]",
      "text/plain": [
       "<Figure size 1000x600 with 1 Axes>"
      ]
     },
     "metadata": {},
     "output_type": "display_data"
    },
    {
     "data": {
      "image/png": "[encoded data removed]",
      "text/plain": [
       "<Figure size 1000x600 with 1 Axes>"
      ]
     },
     "metadata": {},
     "output_type": "display_data"
    },
    {
     "data": {
      "image/png": "[encoded data removed]",
      "text/plain": [
       "<Figure size 1000x600 with 1 Axes>"
      ]
     },
     "metadata": {},
     "output_type": "display_data"
    }
   ],
   "source": [
    "\n",
    "import matplotlib.pyplot as plt\n",
    "\n",
    "# Storage for plotting\n",
    "plot_data = {cat: {metric: {rule: [] for rule in pivot_rules} for metric in metrics} for cat in categories}\n",
    "\n",
    "# Read stored averages\n",
    "for category, sizes in categories.items():\n",
    "    for size in sizes:\n",
    "        folder_name = f\"{size[0]}x{size[1]}\"\n",
    "        folder_path = os.path.join(root_folder, category, folder_name)\n",
    "        avg_file = os.path.join(folder_path, \"averages.json\")\n",
    "\n",
    "        if not os.path.exists(avg_file):\n",
    "            print(avg_file)\n",
    "            continue\n",
    "        \n",
    "        with open(avg_file, \"r\") as f:\n",
    "            avg_results = json.load(f)\n",
    "\n",
    "        for metric in metrics:\n",
    "            for rule in pivot_rules:\n",
    "                plot_data[category][metric][rule].append(avg_results.get(metric, {}).get(rule, 0))\n",
    "\n",
    "for category in categories:\n",
    "    for rule in pivot_rules:\n",
    "        plot_data[category][\"total_time\"][rule] = [t / 1000 for t in plot_data[category][\"total_time\"][rule]]\n",
    "\n",
    "# Generate plots\n",
    "for metric in metrics:\n",
    "    for category, sizes in categories.items():\n",
    "        plt.figure(figsize=(10, 6))\n",
    "        \n",
    "        for rule in pivot_rules:\n",
    "            plt.plot([s[0] for s in sizes], plot_data[category][metric][rule], label=rule, marker=\"o\")\n",
    "        \n",
    "        plt.xlabel(\"Problem Size (m)\")\n",
    "        ylabel = metric.replace(\"_\", \" \").title()\n",
    "        if metric == \"total_time\":\n",
    "            ylabel += \" (s)\"\n",
    "        plt.ylabel(ylabel)\n",
    "        plt.title(f\"{category.replace('_', ' ').title()} - {metric.replace('_', ' ').title()}\")\n",
    "        plt.legend()\n",
    "        plt.grid(True)\n",
    "\n",
    "        if not os.path.exists(\"./plots\"):\n",
    "            os.mkdir(\"plots\")\n",
    "        \n",
    "        if not os.path.exists(os.path.join(\"plots\", \"pivot_rules\")):\n",
    "            os.mkdir(os.path.join(\"plots\", \"pivot_rules\"))\n",
    "        \n",
    "        if not os.path.exists(os.path.join(\"plots\", \"pivot_rules\", \"one_phase_only\")):\n",
    "            os.mkdir(os.path.join(\"plots\", \"pivot_rules\", \"one_phase_only\"))\n",
    "        \n",
    "\n",
    "        plt.savefig(os.path.join(\"plots\", \"pivot_rules\", \"one_phase_only\", f\"{category.split('_')[0]}_{metric}.pdf\"), format=\"pdf\")\n",
    "\n",
    "        plt.show()"
   ]
  }
 ],
 "metadata": {
  "kernelspec": {
   "display_name": "Python 3",
   "language": "python",
   "name": "python3"
  },
  "language_info": {
   "codemirror_mode": {
    "name": "ipython",
    "version": 3
   },
   "file_extension": ".py",
   "mimetype": "text/x-python",
   "name": "python",
   "nbconvert_exporter": "python",
   "pygments_lexer": "ipython3",
   "version": "3.11.9"
  }
 },
 "nbformat": 4,
 "nbformat_minor": 2
}
