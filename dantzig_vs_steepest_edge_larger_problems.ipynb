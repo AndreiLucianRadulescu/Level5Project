{
 "cells": [
  {
   "cell_type": "markdown",
   "metadata": {},
   "source": [
    "## Comparing Dantzig vs. Steepest-Edge for Larger Problems"
   ]
  },
  {
   "cell_type": "code",
   "execution_count": 3,
   "metadata": {},
   "outputs": [],
   "source": [
    "\n",
    "import random\n",
    "import os\n",
    "import sys\n",
    "from dense_lp_generator import DenseLPGenerator\n",
    "from simplex_solver import SimplexSolver\n",
    "from input_parser import LPParser\n",
    "\n",
    "# IMPORTANT: Set random seed for reproducibility.\n",
    "random.seed(42)\n",
    "\n",
    "balanced_sizes = [(i, i) for i in range(100, 151, 10)]\n",
    "root_folder = os.path.join('problems', 'problems_dantzig_vs_steepest_edge')\n",
    "random_dense_gen = DenseLPGenerator(precision = 4, allow_negative_rhs=False)\n",
    "\n",
    "if not os.path.exists(root_folder):\n",
    "    os.mkdir(root_folder)\n"
   ]
  },
  {
   "cell_type": "markdown",
   "metadata": {},
   "source": [
    "## Problem Creation"
   ]
  },
  {
   "cell_type": "code",
   "execution_count": 2,
   "metadata": {},
   "outputs": [],
   "source": [
    "for (x, y) in balanced_sizes:\n",
    "    current_size_folder = os.path.join(root_folder, f'{x}x{y}')\n",
    "    if not os.path.exists(current_size_folder):\n",
    "        os.mkdir(current_size_folder)\n",
    "    \n",
    "    for i in range(100):\n",
    "        random_dense_gen.generate_dense_lp(os.path.join(current_size_folder, f\"{i+1}.lp\"), x, y)"
   ]
  },
  {
   "cell_type": "code",
   "execution_count": 5,
   "metadata": {},
   "outputs": [],
   "source": [
    "import json\n",
    "import time\n",
    "from tqdm import tqdm\n",
    "dantzig_solver = SimplexSolver(pivot_rule = 'Dantzig')\n",
    "steepest_edge_solver = SimplexSolver(pivot_rule=\"SteepestEdge\")\n",
    "lp_parser = LPParser()"
   ]
  },
  {
   "cell_type": "markdown",
   "metadata": {},
   "source": [
    "## Steepest Edge"
   ]
  },
  {
   "cell_type": "code",
   "execution_count": 6,
   "metadata": {},
   "outputs": [
    {
     "name": "stdout",
     "output_type": "stream",
     "text": [
      "Currently solving for size 120x120.\n"
     ]
    },
    {
     "name": "stderr",
     "output_type": "stream",
     "text": [
      "100%|██████████| 100/100 [31:01<00:00, 18.62s/it]\n"
     ]
    },
    {
     "name": "stdout",
     "output_type": "stream",
     "text": [
      "Done with size 120x120. Results saved.\n",
      "Currently solving for size 130x130.\n"
     ]
    },
    {
     "name": "stderr",
     "output_type": "stream",
     "text": [
      "100%|██████████| 100/100 [44:13<00:00, 26.54s/it]\n"
     ]
    },
    {
     "name": "stdout",
     "output_type": "stream",
     "text": [
      "Done with size 130x130. Results saved.\n",
      "Currently solving for size 140x140.\n"
     ]
    },
    {
     "name": "stderr",
     "output_type": "stream",
     "text": [
      "100%|██████████| 100/100 [1:03:55<00:00, 38.36s/it]\n"
     ]
    },
    {
     "name": "stdout",
     "output_type": "stream",
     "text": [
      "Done with size 140x140. Results saved.\n",
      "Currently solving for size 150x150.\n"
     ]
    },
    {
     "name": "stderr",
     "output_type": "stream",
     "text": [
      "100%|██████████| 100/100 [1:26:55<00:00, 52.16s/it]"
     ]
    },
    {
     "name": "stdout",
     "output_type": "stream",
     "text": [
      "Done with size 150x150. Results saved.\n"
     ]
    },
    {
     "name": "stderr",
     "output_type": "stream",
     "text": [
      "\n"
     ]
    }
   ],
   "source": [
    "for (x, y) in balanced_sizes:\n",
    "    if x < 120:\n",
    "        continue\n",
    "    \n",
    "    print(f'Currently solving for size {x}x{y}.')\n",
    "    current_size_results = {}\n",
    "\n",
    "    for i in tqdm(range(1, 101)):\n",
    "        lp_parser.parse_file(os.path.join(root_folder, f\"{x}x{y}\", f\"{i}.lp\"))\n",
    "\n",
    "        start_time = time.time()\n",
    "        my_solver_output = steepest_edge_solver.solve(lp_parser)\n",
    "        end_time = time.time()\n",
    "\n",
    "        my_solver_output['total_time'] = (end_time - start_time) * 1000\n",
    "        current_size_results[f\"{i}.lp\"] = my_solver_output\n",
    "    \n",
    "    with open(os.path.join(root_folder, f\"{x}x{y}\", f'steepest_edge_results.json'), 'w') as f:\n",
    "        json.dump(current_size_results, f, indent = 4)\n",
    "    \n",
    "    print(f'Done with size {x}x{y}. Results saved.')"
   ]
  },
  {
   "cell_type": "markdown",
   "metadata": {},
   "source": [
    "## Dantzig"
   ]
  },
  {
   "cell_type": "code",
   "execution_count": 7,
   "metadata": {},
   "outputs": [
    {
     "name": "stdout",
     "output_type": "stream",
     "text": [
      "Currently solving for size 100x100.\n"
     ]
    },
    {
     "name": "stderr",
     "output_type": "stream",
     "text": [
      "100%|██████████| 100/100 [31:33<00:00, 18.94s/it]\n"
     ]
    },
    {
     "name": "stdout",
     "output_type": "stream",
     "text": [
      "Done with size 100x100. Results saved.\n",
      "Currently solving for size 110x110.\n"
     ]
    },
    {
     "name": "stderr",
     "output_type": "stream",
     "text": [
      "100%|██████████| 100/100 [50:01<00:00, 30.01s/it]\n"
     ]
    },
    {
     "name": "stdout",
     "output_type": "stream",
     "text": [
      "Done with size 110x110. Results saved.\n",
      "Currently solving for size 120x120.\n"
     ]
    },
    {
     "name": "stderr",
     "output_type": "stream",
     "text": [
      "100%|██████████| 100/100 [1:13:51<00:00, 44.32s/it]\n"
     ]
    },
    {
     "name": "stdout",
     "output_type": "stream",
     "text": [
      "Done with size 120x120. Results saved.\n",
      "Currently solving for size 130x130.\n"
     ]
    },
    {
     "name": "stderr",
     "output_type": "stream",
     "text": [
      "100%|██████████| 100/100 [1:54:51<00:00, 68.92s/it]\n"
     ]
    },
    {
     "name": "stdout",
     "output_type": "stream",
     "text": [
      "Done with size 130x130. Results saved.\n",
      "Currently solving for size 140x140.\n"
     ]
    },
    {
     "name": "stderr",
     "output_type": "stream",
     "text": [
      "100%|██████████| 100/100 [2:56:38<00:00, 105.99s/it] \n"
     ]
    },
    {
     "name": "stdout",
     "output_type": "stream",
     "text": [
      "Done with size 140x140. Results saved.\n",
      "Currently solving for size 150x150.\n"
     ]
    },
    {
     "name": "stderr",
     "output_type": "stream",
     "text": [
      " 11%|█         | 11/100 [32:46<4:25:08, 178.75s/it]\n"
     ]
    },
    {
     "ename": "KeyboardInterrupt",
     "evalue": "",
     "output_type": "error",
     "traceback": [
      "\u001b[1;31m---------------------------------------------------------------------------\u001b[0m",
      "\u001b[1;31mKeyboardInterrupt\u001b[0m                         Traceback (most recent call last)",
      "Cell \u001b[1;32mIn[7], line 9\u001b[0m\n\u001b[0;32m      6\u001b[0m lp_parser\u001b[38;5;241m.\u001b[39mparse_file(os\u001b[38;5;241m.\u001b[39mpath\u001b[38;5;241m.\u001b[39mjoin(root_folder, \u001b[38;5;124mf\u001b[39m\u001b[38;5;124m\"\u001b[39m\u001b[38;5;132;01m{\u001b[39;00mx\u001b[38;5;132;01m}\u001b[39;00m\u001b[38;5;124mx\u001b[39m\u001b[38;5;132;01m{\u001b[39;00my\u001b[38;5;132;01m}\u001b[39;00m\u001b[38;5;124m\"\u001b[39m, \u001b[38;5;124mf\u001b[39m\u001b[38;5;124m\"\u001b[39m\u001b[38;5;132;01m{\u001b[39;00mi\u001b[38;5;132;01m}\u001b[39;00m\u001b[38;5;124m.lp\u001b[39m\u001b[38;5;124m\"\u001b[39m))\n\u001b[0;32m      8\u001b[0m start_time \u001b[38;5;241m=\u001b[39m time\u001b[38;5;241m.\u001b[39mtime()\n\u001b[1;32m----> 9\u001b[0m my_solver_output \u001b[38;5;241m=\u001b[39m \u001b[43mdantzig_solver\u001b[49m\u001b[38;5;241;43m.\u001b[39;49m\u001b[43msolve\u001b[49m\u001b[43m(\u001b[49m\u001b[43mlp_parser\u001b[49m\u001b[43m)\u001b[49m\n\u001b[0;32m     10\u001b[0m end_time \u001b[38;5;241m=\u001b[39m time\u001b[38;5;241m.\u001b[39mtime()\n\u001b[0;32m     12\u001b[0m my_solver_output[\u001b[38;5;124m'\u001b[39m\u001b[38;5;124mtotal_time\u001b[39m\u001b[38;5;124m'\u001b[39m] \u001b[38;5;241m=\u001b[39m (end_time \u001b[38;5;241m-\u001b[39m start_time) \u001b[38;5;241m*\u001b[39m \u001b[38;5;241m1000\u001b[39m\n",
      "File \u001b[1;32mc:\\Users\\Andrei\\Desktop\\Collection\\Year_5\\Level 5 Project\\Level5Project\\simplex_solver.py:141\u001b[0m, in \u001b[0;36mSimplexSolver.solve\u001b[1;34m(self, lp_parser)\u001b[0m\n\u001b[0;32m    138\u001b[0m current_basis \u001b[38;5;241m=\u001b[39m \u001b[38;5;28mself\u001b[39m\u001b[38;5;241m.\u001b[39mall_variables[\u001b[38;5;28mself\u001b[39m\u001b[38;5;241m.\u001b[39mnum_variables:]\n\u001b[0;32m    140\u001b[0m start_time \u001b[38;5;241m=\u001b[39m time\u001b[38;5;241m.\u001b[39mtime()\n\u001b[1;32m--> 141\u001b[0m final_solution \u001b[38;5;241m=\u001b[39m \u001b[38;5;28;43mself\u001b[39;49m\u001b[38;5;241;43m.\u001b[39;49m\u001b[43msolve_tableau\u001b[49m\u001b[43m(\u001b[49m\u001b[43mtableau\u001b[49m\u001b[43m,\u001b[49m\u001b[43m \u001b[49m\u001b[43mcurrent_basis\u001b[49m\u001b[43m)\u001b[49m\n\u001b[0;32m    142\u001b[0m end_time \u001b[38;5;241m=\u001b[39m time\u001b[38;5;241m.\u001b[39mtime()\n\u001b[0;32m    143\u001b[0m final_solution[\u001b[38;5;124m\"\u001b[39m\u001b[38;5;124mfirst_phase_time\u001b[39m\u001b[38;5;124m\"\u001b[39m] \u001b[38;5;241m=\u001b[39m (end_time \u001b[38;5;241m-\u001b[39m start_time) \u001b[38;5;241m*\u001b[39m \u001b[38;5;241m1000\u001b[39m\n",
      "File \u001b[1;32mc:\\Users\\Andrei\\Desktop\\Collection\\Year_5\\Level 5 Project\\Level5Project\\simplex_solver.py:249\u001b[0m, in \u001b[0;36mSimplexSolver.solve_tableau\u001b[1;34m(self, tableau, current_basis)\u001b[0m\n\u001b[0;32m    246\u001b[0m     leaving_variable_index \u001b[38;5;241m=\u001b[39m np\u001b[38;5;241m.\u001b[39margmin(positive_ratios)\n\u001b[0;32m    247\u001b[0m     leaving_variable_index \u001b[38;5;241m=\u001b[39m np\u001b[38;5;241m.\u001b[39mwhere(ratios \u001b[38;5;241m==\u001b[39m positive_ratios[leaving_variable_index])[\u001b[38;5;241m0\u001b[39m][\u001b[38;5;241m0\u001b[39m]\n\u001b[1;32m--> 249\u001b[0m \u001b[38;5;28;43mself\u001b[39;49m\u001b[38;5;241;43m.\u001b[39;49m\u001b[43mperform_pivot_operation\u001b[49m\u001b[43m(\u001b[49m\u001b[43mtableau\u001b[49m\u001b[43m,\u001b[49m\u001b[43m \u001b[49m\u001b[43mpivot_column\u001b[49m\u001b[43m,\u001b[49m\u001b[43m \u001b[49m\u001b[43mleaving_variable_index\u001b[49m\u001b[43m)\u001b[49m\n\u001b[0;32m    251\u001b[0m \u001b[38;5;66;03m# Update state\u001b[39;00m\n\u001b[0;32m    252\u001b[0m num_pivot_steps \u001b[38;5;241m+\u001b[39m\u001b[38;5;241m=\u001b[39m \u001b[38;5;241m1\u001b[39m\n",
      "File \u001b[1;32mc:\\Users\\Andrei\\Desktop\\Collection\\Year_5\\Level 5 Project\\Level5Project\\simplex_solver.py:159\u001b[0m, in \u001b[0;36mSimplexSolver.perform_pivot_operation\u001b[1;34m(self, tableau, pivot_column, leaving_variable_index)\u001b[0m\n\u001b[0;32m    156\u001b[0m \u001b[38;5;28;01mif\u001b[39;00m tableau[i, pivot_column] \u001b[38;5;241m==\u001b[39m \u001b[38;5;241m0\u001b[39m:\n\u001b[0;32m    157\u001b[0m     \u001b[38;5;28;01mcontinue\u001b[39;00m\n\u001b[1;32m--> 159\u001b[0m tableau[i, :] \u001b[38;5;241m-\u001b[39m\u001b[38;5;241m=\u001b[39m \u001b[43mtableau\u001b[49m\u001b[43m[\u001b[49m\u001b[43mleaving_variable_index\u001b[49m\u001b[43m,\u001b[49m\u001b[43m \u001b[49m\u001b[43m:\u001b[49m\u001b[43m]\u001b[49m\u001b[43m \u001b[49m\u001b[38;5;241;43m*\u001b[39;49m\u001b[43m \u001b[49m\u001b[43mtableau\u001b[49m\u001b[43m[\u001b[49m\u001b[43mi\u001b[49m\u001b[43m,\u001b[49m\u001b[43m \u001b[49m\u001b[43mpivot_column\u001b[49m\u001b[43m]\u001b[49m\n",
      "File \u001b[1;32mc:\\Users\\Andrei\\AppData\\Local\\Programs\\Python\\Python311\\Lib\\fractions.py:359\u001b[0m, in \u001b[0;36mFraction._operator_fallbacks.<locals>.forward\u001b[1;34m(a, b)\u001b[0m\n\u001b[0;32m    357\u001b[0m \u001b[38;5;28;01mdef\u001b[39;00m\u001b[38;5;250m \u001b[39m\u001b[38;5;21mforward\u001b[39m(a, b):\n\u001b[0;32m    358\u001b[0m     \u001b[38;5;28;01mif\u001b[39;00m \u001b[38;5;28misinstance\u001b[39m(b, (\u001b[38;5;28mint\u001b[39m, Fraction)):\n\u001b[1;32m--> 359\u001b[0m         \u001b[38;5;28;01mreturn\u001b[39;00m \u001b[43mmonomorphic_operator\u001b[49m\u001b[43m(\u001b[49m\u001b[43ma\u001b[49m\u001b[43m,\u001b[49m\u001b[43m \u001b[49m\u001b[43mb\u001b[49m\u001b[43m)\u001b[49m\n\u001b[0;32m    360\u001b[0m     \u001b[38;5;28;01melif\u001b[39;00m \u001b[38;5;28misinstance\u001b[39m(b, \u001b[38;5;28mfloat\u001b[39m):\n\u001b[0;32m    361\u001b[0m         \u001b[38;5;28;01mreturn\u001b[39;00m fallback_operator(\u001b[38;5;28mfloat\u001b[39m(a), b)\n",
      "File \u001b[1;32mc:\\Users\\Andrei\\AppData\\Local\\Programs\\Python\\Python311\\Lib\\fractions.py:496\u001b[0m, in \u001b[0;36mFraction._mul\u001b[1;34m(a, b)\u001b[0m\n\u001b[0;32m    494\u001b[0m     nb \u001b[38;5;241m/\u001b[39m\u001b[38;5;241m/\u001b[39m\u001b[38;5;241m=\u001b[39m g2\n\u001b[0;32m    495\u001b[0m     da \u001b[38;5;241m/\u001b[39m\u001b[38;5;241m/\u001b[39m\u001b[38;5;241m=\u001b[39m g2\n\u001b[1;32m--> 496\u001b[0m \u001b[38;5;28;01mreturn\u001b[39;00m \u001b[43mFraction\u001b[49m\u001b[43m(\u001b[49m\u001b[43mna\u001b[49m\u001b[43m \u001b[49m\u001b[38;5;241;43m*\u001b[39;49m\u001b[43m \u001b[49m\u001b[43mnb\u001b[49m\u001b[43m,\u001b[49m\u001b[43m \u001b[49m\u001b[43mdb\u001b[49m\u001b[43m \u001b[49m\u001b[38;5;241;43m*\u001b[39;49m\u001b[43m \u001b[49m\u001b[43mda\u001b[49m\u001b[43m,\u001b[49m\u001b[43m \u001b[49m\u001b[43m_normalize\u001b[49m\u001b[38;5;241;43m=\u001b[39;49m\u001b[38;5;28;43;01mFalse\u001b[39;49;00m\u001b[43m)\u001b[49m\n",
      "File \u001b[1;32mc:\\Users\\Andrei\\AppData\\Local\\Programs\\Python\\Python311\\Lib\\fractions.py:93\u001b[0m, in \u001b[0;36mFraction.__new__\u001b[1;34m(cls, numerator, denominator, _normalize)\u001b[0m\n\u001b[0;32m     62\u001b[0m \u001b[38;5;28;01mdef\u001b[39;00m\u001b[38;5;250m \u001b[39m\u001b[38;5;21m__new__\u001b[39m(\u001b[38;5;28mcls\u001b[39m, numerator\u001b[38;5;241m=\u001b[39m\u001b[38;5;241m0\u001b[39m, denominator\u001b[38;5;241m=\u001b[39m\u001b[38;5;28;01mNone\u001b[39;00m, \u001b[38;5;241m*\u001b[39m, _normalize\u001b[38;5;241m=\u001b[39m\u001b[38;5;28;01mTrue\u001b[39;00m):\n\u001b[0;32m     63\u001b[0m \u001b[38;5;250m    \u001b[39m\u001b[38;5;124;03m\"\"\"Constructs a Rational.\u001b[39;00m\n\u001b[0;32m     64\u001b[0m \n\u001b[0;32m     65\u001b[0m \u001b[38;5;124;03m    Takes a string like '3/2' or '1.5', another Rational instance, a\u001b[39;00m\n\u001b[1;32m   (...)\u001b[0m\n\u001b[0;32m     91\u001b[0m \n\u001b[0;32m     92\u001b[0m \u001b[38;5;124;03m    \"\"\"\u001b[39;00m\n\u001b[1;32m---> 93\u001b[0m     \u001b[38;5;28mself\u001b[39m \u001b[38;5;241m=\u001b[39m \u001b[38;5;28msuper\u001b[39m(Fraction, \u001b[38;5;28mcls\u001b[39m)\u001b[38;5;241m.\u001b[39m\u001b[38;5;21m__new__\u001b[39m(\u001b[38;5;28mcls\u001b[39m)\n\u001b[0;32m     95\u001b[0m     \u001b[38;5;28;01mif\u001b[39;00m denominator \u001b[38;5;129;01mis\u001b[39;00m \u001b[38;5;28;01mNone\u001b[39;00m:\n\u001b[0;32m     96\u001b[0m         \u001b[38;5;28;01mif\u001b[39;00m \u001b[38;5;28mtype\u001b[39m(numerator) \u001b[38;5;129;01mis\u001b[39;00m \u001b[38;5;28mint\u001b[39m:\n",
      "\u001b[1;31mKeyboardInterrupt\u001b[0m: "
     ]
    }
   ],
   "source": [
    "for (x, y) in balanced_sizes:\n",
    "    print(f'Currently solving for size {x}x{y}.')\n",
    "    current_size_results = {}\n",
    "\n",
    "    for i in tqdm(range(1, 101)):\n",
    "        lp_parser.parse_file(os.path.join(root_folder, f\"{x}x{y}\", f\"{i}.lp\"))\n",
    "\n",
    "        start_time = time.time()\n",
    "        my_solver_output = dantzig_solver.solve(lp_parser)\n",
    "        end_time = time.time()\n",
    "\n",
    "        my_solver_output['total_time'] = (end_time - start_time) * 1000\n",
    "        current_size_results[f\"{i}.lp\"] = my_solver_output\n",
    "    \n",
    "    with open(os.path.join(root_folder, f\"{x}x{y}\", f'dantzig_results.json'), 'w') as f:\n",
    "        json.dump(current_size_results, f, indent = 4)\n",
    "    \n",
    "    print(f'Done with size {x}x{y}. Results saved.')"
   ]
  }
 ],
 "metadata": {
  "kernelspec": {
   "display_name": "Python 3",
   "language": "python",
   "name": "python3"
  },
  "language_info": {
   "codemirror_mode": {
    "name": "ipython",
    "version": 3
   },
   "file_extension": ".py",
   "mimetype": "text/x-python",
   "name": "python",
   "nbconvert_exporter": "python",
   "pygments_lexer": "ipython3",
   "version": "3.11.9"
  }
 },
 "nbformat": 4,
 "nbformat_minor": 2
}
